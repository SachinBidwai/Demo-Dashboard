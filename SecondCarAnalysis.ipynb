{
 "cells": [
  {
   "attachments": {},
   "cell_type": "markdown",
   "metadata": {},
   "source": [
    "# Second Car Problem Analysis "
   ]
  },
  {
   "attachments": {},
   "cell_type": "markdown",
   "metadata": {},
   "source": [
    "### Regression Case Study"
   ]
  },
  {
   "cell_type": "markdown",
   "metadata": {},
   "source": []
  },
  {
   "cell_type": "code",
   "execution_count": null,
   "metadata": {},
   "outputs": [],
   "source": [
    "import numpy as np\n",
    "import pandas as pd\n",
    "\n",
    "################# Data preprocessing\n",
    "import matplotlib.pyplot as plt\n",
    "from sklearn.preprocessing import LabelEncoder\n",
    "from sklearn.model_selection import train_test_split\n",
    "from sklearn.preprocessing import PolynomialFeatures\n",
    "\n",
    "################# Regression Models\n",
    "from sklearn.linear_model import LinearRegression, Ridge, Lasso, ElasticNet\n",
    "from sklearn.neighbors import KNeighborsRegressor\n",
    "from sklearn.tree import DecisionTreeRegressor\n",
    "from sklearn.svm import SVR\n",
    "from sklearn.ensemble import RandomForestRegressor, BaggingRegressor\n",
    "\n",
    "################# Packages for model selection\n",
    "from sklearn.model_selection import cross_validate, cross_val_score, RepeatedKFold\n",
    "from sklearn.metrics import mean_squared_error, r2_score\n",
    "from math import sqrt\n",
    "\n",
    "################# To ignore warnings\n",
    "import warnings\n",
    "warnings.filterwarnings('ignore')\n",
    "\n",
    "################# Model Deployment\n",
    "import pickle"
   ]
  },
  {
   "cell_type": "code",
   "execution_count": null,
   "metadata": {},
   "outputs": [],
   "source": [
    "#this is from local machine"
   ]
  },
  {
   "attachments": {},
   "cell_type": "markdown",
   "metadata": {},
   "source": [
    "### Data Import"
   ]
  },
  {
   "cell_type": "code",
   "execution_count": 3,
   "metadata": {},
   "outputs": [
    {
     "data": {
      "text/html": [
       "<div>\n",
       "<style scoped>\n",
       "    .dataframe tbody tr th:only-of-type {\n",
       "        vertical-align: middle;\n",
       "    }\n",
       "\n",
       "    .dataframe tbody tr th {\n",
       "        vertical-align: top;\n",
       "    }\n",
       "\n",
       "    .dataframe thead th {\n",
       "        text-align: right;\n",
       "    }\n",
       "</style>\n",
       "<table border=\"1\" class=\"dataframe\">\n",
       "  <thead>\n",
       "    <tr style=\"text-align: right;\">\n",
       "      <th></th>\n",
       "      <th>name</th>\n",
       "      <th>year</th>\n",
       "      <th>km_driven</th>\n",
       "      <th>fuel</th>\n",
       "      <th>seller_type</th>\n",
       "      <th>transmission</th>\n",
       "      <th>owner</th>\n",
       "      <th>Rating</th>\n",
       "      <th>ExShowroom Price</th>\n",
       "      <th>selling_price</th>\n",
       "    </tr>\n",
       "  </thead>\n",
       "  <tbody>\n",
       "    <tr>\n",
       "      <th>0</th>\n",
       "      <td>Tata Indica Vista Aqua 1.4 TDI</td>\n",
       "      <td>2010</td>\n",
       "      <td>120000</td>\n",
       "      <td>Diesel</td>\n",
       "      <td>Individual</td>\n",
       "      <td>Manual</td>\n",
       "      <td>Second Owner</td>\n",
       "      <td>9.0</td>\n",
       "      <td>106001</td>\n",
       "      <td>100000</td>\n",
       "    </tr>\n",
       "    <tr>\n",
       "      <th>1</th>\n",
       "      <td>Tata Nano Lx BSIV</td>\n",
       "      <td>2012</td>\n",
       "      <td>50000</td>\n",
       "      <td>Petrol</td>\n",
       "      <td>Individual</td>\n",
       "      <td>Manual</td>\n",
       "      <td>Second Owner</td>\n",
       "      <td>9.0</td>\n",
       "      <td>108556</td>\n",
       "      <td>100000</td>\n",
       "    </tr>\n",
       "  </tbody>\n",
       "</table>\n",
       "</div>"
      ],
      "text/plain": [
       "                             name  year  km_driven    fuel seller_type  \\\n",
       "0  Tata Indica Vista Aqua 1.4 TDI  2010     120000  Diesel  Individual   \n",
       "1               Tata Nano Lx BSIV  2012      50000  Petrol  Individual   \n",
       "\n",
       "  transmission         owner  Rating  ExShowroom Price  selling_price  \n",
       "0       Manual  Second Owner     9.0            106001         100000  \n",
       "1       Manual  Second Owner     9.0            108556         100000  "
      ]
     },
     "execution_count": 3,
     "metadata": {},
     "output_type": "execute_result"
    }
   ],
   "source": [
    "data = pd.read_csv(\"SecondCar.csv\")\n",
    "data.head(2)"
   ]
  },
  {
   "cell_type": "code",
   "execution_count": 4,
   "metadata": {},
   "outputs": [
    {
     "name": "stdout",
     "output_type": "stream",
     "text": [
      "<class 'pandas.core.frame.DataFrame'>\n",
      "RangeIndex: 4340 entries, 0 to 4339\n",
      "Data columns (total 10 columns):\n",
      " #   Column            Non-Null Count  Dtype  \n",
      "---  ------            --------------  -----  \n",
      " 0   name              4340 non-null   object \n",
      " 1   year              4340 non-null   int64  \n",
      " 2   km_driven         4340 non-null   int64  \n",
      " 3   fuel              4337 non-null   object \n",
      " 4   seller_type       4338 non-null   object \n",
      " 5   transmission      4338 non-null   object \n",
      " 6   owner             4337 non-null   object \n",
      " 7   Rating            4336 non-null   float64\n",
      " 8   ExShowroom Price  4340 non-null   int64  \n",
      " 9   selling_price     4340 non-null   int64  \n",
      "dtypes: float64(1), int64(4), object(5)\n",
      "memory usage: 339.2+ KB\n"
     ]
    }
   ],
   "source": [
    "data.info()"
   ]
  },
  {
   "attachments": {},
   "cell_type": "markdown",
   "metadata": {},
   "source": [
    "### Missing Value Check & Treatment"
   ]
  },
  {
   "attachments": {},
   "cell_type": "markdown",
   "metadata": {},
   "source": [
    "##### Missing Value Check : Column wise"
   ]
  },
  {
   "cell_type": "code",
   "execution_count": 5,
   "metadata": {},
   "outputs": [
    {
     "data": {
      "text/plain": [
       "name                0\n",
       "year                0\n",
       "km_driven           0\n",
       "fuel                3\n",
       "seller_type         2\n",
       "transmission        2\n",
       "owner               3\n",
       "Rating              4\n",
       "ExShowroom Price    0\n",
       "selling_price       0\n",
       "dtype: int64"
      ]
     },
     "execution_count": 5,
     "metadata": {},
     "output_type": "execute_result"
    }
   ],
   "source": [
    "data.isna().sum()"
   ]
  },
  {
   "attachments": {},
   "cell_type": "markdown",
   "metadata": {},
   "source": [
    "##### Checking Missing Value : Row Wise"
   ]
  },
  {
   "cell_type": "code",
   "execution_count": 6,
   "metadata": {},
   "outputs": [
    {
     "data": {
      "text/html": [
       "<div>\n",
       "<style scoped>\n",
       "    .dataframe tbody tr th:only-of-type {\n",
       "        vertical-align: middle;\n",
       "    }\n",
       "\n",
       "    .dataframe tbody tr th {\n",
       "        vertical-align: top;\n",
       "    }\n",
       "\n",
       "    .dataframe thead th {\n",
       "        text-align: right;\n",
       "    }\n",
       "</style>\n",
       "<table border=\"1\" class=\"dataframe\">\n",
       "  <thead>\n",
       "    <tr style=\"text-align: right;\">\n",
       "      <th></th>\n",
       "      <th>name</th>\n",
       "      <th>year</th>\n",
       "      <th>km_driven</th>\n",
       "      <th>fuel</th>\n",
       "      <th>seller_type</th>\n",
       "      <th>transmission</th>\n",
       "      <th>owner</th>\n",
       "      <th>Rating</th>\n",
       "      <th>ExShowroom Price</th>\n",
       "      <th>selling_price</th>\n",
       "    </tr>\n",
       "  </thead>\n",
       "  <tbody>\n",
       "    <tr>\n",
       "      <th>352</th>\n",
       "      <td>Chevrolet Sail 1.2 Base</td>\n",
       "      <td>2015</td>\n",
       "      <td>35000</td>\n",
       "      <td>NaN</td>\n",
       "      <td>Individual</td>\n",
       "      <td>Manual</td>\n",
       "      <td>First Owner</td>\n",
       "      <td>NaN</td>\n",
       "      <td>300235</td>\n",
       "      <td>260000</td>\n",
       "    </tr>\n",
       "    <tr>\n",
       "      <th>492</th>\n",
       "      <td>Chevrolet Sail 1.2 Base</td>\n",
       "      <td>2015</td>\n",
       "      <td>35000</td>\n",
       "      <td>Petrol</td>\n",
       "      <td>Individual</td>\n",
       "      <td>Manual</td>\n",
       "      <td>NaN</td>\n",
       "      <td>NaN</td>\n",
       "      <td>328139</td>\n",
       "      <td>260000</td>\n",
       "    </tr>\n",
       "    <tr>\n",
       "      <th>670</th>\n",
       "      <td>Tata Indigo Grand Petrol</td>\n",
       "      <td>2014</td>\n",
       "      <td>60000</td>\n",
       "      <td>Petrol</td>\n",
       "      <td>NaN</td>\n",
       "      <td>Manual</td>\n",
       "      <td>Second Owner</td>\n",
       "      <td>15.00</td>\n",
       "      <td>365382</td>\n",
       "      <td>240000</td>\n",
       "    </tr>\n",
       "    <tr>\n",
       "      <th>1028</th>\n",
       "      <td>Maruti Wagon R VXI BS IV with ABS</td>\n",
       "      <td>2014</td>\n",
       "      <td>64000</td>\n",
       "      <td>Petrol</td>\n",
       "      <td>Individual</td>\n",
       "      <td>Manual</td>\n",
       "      <td>Second Owner</td>\n",
       "      <td>NaN</td>\n",
       "      <td>436092</td>\n",
       "      <td>290000</td>\n",
       "    </tr>\n",
       "    <tr>\n",
       "      <th>1139</th>\n",
       "      <td>Maruti Alto LX BSIII</td>\n",
       "      <td>2007</td>\n",
       "      <td>125000</td>\n",
       "      <td>Petrol</td>\n",
       "      <td>Individual</td>\n",
       "      <td>NaN</td>\n",
       "      <td>First Owner</td>\n",
       "      <td>9.92</td>\n",
       "      <td>453407</td>\n",
       "      <td>140000</td>\n",
       "    </tr>\n",
       "    <tr>\n",
       "      <th>1972</th>\n",
       "      <td>Maruti Wagon R LXI Minor</td>\n",
       "      <td>2007</td>\n",
       "      <td>50000</td>\n",
       "      <td>Petrol</td>\n",
       "      <td>NaN</td>\n",
       "      <td>Manual</td>\n",
       "      <td>First Owner</td>\n",
       "      <td>14.00</td>\n",
       "      <td>560844</td>\n",
       "      <td>135000</td>\n",
       "    </tr>\n",
       "    <tr>\n",
       "      <th>2731</th>\n",
       "      <td>Chevrolet Enjoy TCDi LTZ 7 Seater</td>\n",
       "      <td>2013</td>\n",
       "      <td>33000</td>\n",
       "      <td>NaN</td>\n",
       "      <td>Individual</td>\n",
       "      <td>Manual</td>\n",
       "      <td>Second Owner</td>\n",
       "      <td>NaN</td>\n",
       "      <td>744569</td>\n",
       "      <td>390000</td>\n",
       "    </tr>\n",
       "    <tr>\n",
       "      <th>3928</th>\n",
       "      <td>Hyundai Creta 1.6 VTVT S</td>\n",
       "      <td>2015</td>\n",
       "      <td>25000</td>\n",
       "      <td>Petrol</td>\n",
       "      <td>Individual</td>\n",
       "      <td>NaN</td>\n",
       "      <td>First Owner</td>\n",
       "      <td>12.00</td>\n",
       "      <td>1511680</td>\n",
       "      <td>850000</td>\n",
       "    </tr>\n",
       "    <tr>\n",
       "      <th>4068</th>\n",
       "      <td>Toyota Corolla Altis G AT</td>\n",
       "      <td>2016</td>\n",
       "      <td>50000</td>\n",
       "      <td>NaN</td>\n",
       "      <td>Individual</td>\n",
       "      <td>Automatic</td>\n",
       "      <td>First Owner</td>\n",
       "      <td>11.00</td>\n",
       "      <td>1794249</td>\n",
       "      <td>900000</td>\n",
       "    </tr>\n",
       "    <tr>\n",
       "      <th>4186</th>\n",
       "      <td>Toyota Corolla Altis 1.8 VL CVT</td>\n",
       "      <td>2018</td>\n",
       "      <td>25000</td>\n",
       "      <td>Petrol</td>\n",
       "      <td>Dealer</td>\n",
       "      <td>Automatic</td>\n",
       "      <td>NaN</td>\n",
       "      <td>11.13</td>\n",
       "      <td>2448803</td>\n",
       "      <td>1650000</td>\n",
       "    </tr>\n",
       "    <tr>\n",
       "      <th>4207</th>\n",
       "      <td>Audi A6 2.0 TDI  Design Edition</td>\n",
       "      <td>2013</td>\n",
       "      <td>50000</td>\n",
       "      <td>Diesel</td>\n",
       "      <td>Dealer</td>\n",
       "      <td>Automatic</td>\n",
       "      <td>NaN</td>\n",
       "      <td>13.53</td>\n",
       "      <td>2649676</td>\n",
       "      <td>1735000</td>\n",
       "    </tr>\n",
       "  </tbody>\n",
       "</table>\n",
       "</div>"
      ],
      "text/plain": [
       "                                   name  year  km_driven    fuel seller_type  \\\n",
       "352             Chevrolet Sail 1.2 Base  2015      35000     NaN  Individual   \n",
       "492             Chevrolet Sail 1.2 Base  2015      35000  Petrol  Individual   \n",
       "670            Tata Indigo Grand Petrol  2014      60000  Petrol         NaN   \n",
       "1028  Maruti Wagon R VXI BS IV with ABS  2014      64000  Petrol  Individual   \n",
       "1139               Maruti Alto LX BSIII  2007     125000  Petrol  Individual   \n",
       "1972           Maruti Wagon R LXI Minor  2007      50000  Petrol         NaN   \n",
       "2731  Chevrolet Enjoy TCDi LTZ 7 Seater  2013      33000     NaN  Individual   \n",
       "3928           Hyundai Creta 1.6 VTVT S  2015      25000  Petrol  Individual   \n",
       "4068          Toyota Corolla Altis G AT  2016      50000     NaN  Individual   \n",
       "4186    Toyota Corolla Altis 1.8 VL CVT  2018      25000  Petrol      Dealer   \n",
       "4207    Audi A6 2.0 TDI  Design Edition  2013      50000  Diesel      Dealer   \n",
       "\n",
       "     transmission         owner  Rating  ExShowroom Price  selling_price  \n",
       "352        Manual   First Owner     NaN            300235         260000  \n",
       "492        Manual           NaN     NaN            328139         260000  \n",
       "670        Manual  Second Owner   15.00            365382         240000  \n",
       "1028       Manual  Second Owner     NaN            436092         290000  \n",
       "1139          NaN   First Owner    9.92            453407         140000  \n",
       "1972       Manual   First Owner   14.00            560844         135000  \n",
       "2731       Manual  Second Owner     NaN            744569         390000  \n",
       "3928          NaN   First Owner   12.00           1511680         850000  \n",
       "4068    Automatic   First Owner   11.00           1794249         900000  \n",
       "4186    Automatic           NaN   11.13           2448803        1650000  \n",
       "4207    Automatic           NaN   13.53           2649676        1735000  "
      ]
     },
     "execution_count": 6,
     "metadata": {},
     "output_type": "execute_result"
    }
   ],
   "source": [
    "data[data.isnull().any(axis=1) == True]"
   ]
  },
  {
   "attachments": {},
   "cell_type": "markdown",
   "metadata": {},
   "source": [
    "### Missing Value Treatment"
   ]
  },
  {
   "cell_type": "code",
   "execution_count": 7,
   "metadata": {},
   "outputs": [],
   "source": [
    "for col in data.columns:\n",
    "    if data[col].dtype == \"int32\" or data[col].dtype == \"int64\" or data[col].dtype == \"float32\" or data[col].dtype == \"float64\":\n",
    "        median = data[col].median()\n",
    "        data[col].fillna(median, inplace = True)\n",
    "    else:\n",
    "        data = data.fillna(data.mode().iloc[0])"
   ]
  },
  {
   "attachments": {},
   "cell_type": "markdown",
   "metadata": {},
   "source": [
    "### Checking for any missing value remaining after treatment"
   ]
  },
  {
   "cell_type": "code",
   "execution_count": 8,
   "metadata": {},
   "outputs": [
    {
     "data": {
      "text/plain": [
       "name                0\n",
       "year                0\n",
       "km_driven           0\n",
       "fuel                0\n",
       "seller_type         0\n",
       "transmission        0\n",
       "owner               0\n",
       "Rating              0\n",
       "ExShowroom Price    0\n",
       "selling_price       0\n",
       "dtype: int64"
      ]
     },
     "execution_count": 8,
     "metadata": {},
     "output_type": "execute_result"
    }
   ],
   "source": [
    "data.isna().sum()"
   ]
  },
  {
   "cell_type": "code",
   "execution_count": 9,
   "metadata": {},
   "outputs": [
    {
     "data": {
      "text/html": [
       "<div>\n",
       "<style scoped>\n",
       "    .dataframe tbody tr th:only-of-type {\n",
       "        vertical-align: middle;\n",
       "    }\n",
       "\n",
       "    .dataframe tbody tr th {\n",
       "        vertical-align: top;\n",
       "    }\n",
       "\n",
       "    .dataframe thead th {\n",
       "        text-align: right;\n",
       "    }\n",
       "</style>\n",
       "<table border=\"1\" class=\"dataframe\">\n",
       "  <thead>\n",
       "    <tr style=\"text-align: right;\">\n",
       "      <th></th>\n",
       "      <th>name</th>\n",
       "      <th>year</th>\n",
       "      <th>km_driven</th>\n",
       "      <th>fuel</th>\n",
       "      <th>seller_type</th>\n",
       "      <th>transmission</th>\n",
       "      <th>owner</th>\n",
       "      <th>Rating</th>\n",
       "      <th>ExShowroom Price</th>\n",
       "      <th>selling_price</th>\n",
       "    </tr>\n",
       "  </thead>\n",
       "  <tbody>\n",
       "    <tr>\n",
       "      <th>350</th>\n",
       "      <td>Tata Indigo LS</td>\n",
       "      <td>2012</td>\n",
       "      <td>70000</td>\n",
       "      <td>Diesel</td>\n",
       "      <td>Individual</td>\n",
       "      <td>Manual</td>\n",
       "      <td>Second Owner</td>\n",
       "      <td>14.0</td>\n",
       "      <td>299379</td>\n",
       "      <td>220000</td>\n",
       "    </tr>\n",
       "    <tr>\n",
       "      <th>351</th>\n",
       "      <td>Tata Indigo CR4</td>\n",
       "      <td>2013</td>\n",
       "      <td>100000</td>\n",
       "      <td>Diesel</td>\n",
       "      <td>Individual</td>\n",
       "      <td>Manual</td>\n",
       "      <td>First Owner</td>\n",
       "      <td>13.0</td>\n",
       "      <td>300046</td>\n",
       "      <td>220000</td>\n",
       "    </tr>\n",
       "    <tr>\n",
       "      <th>352</th>\n",
       "      <td>Chevrolet Sail 1.2 Base</td>\n",
       "      <td>2015</td>\n",
       "      <td>35000</td>\n",
       "      <td>Diesel</td>\n",
       "      <td>Individual</td>\n",
       "      <td>Manual</td>\n",
       "      <td>First Owner</td>\n",
       "      <td>9.0</td>\n",
       "      <td>300235</td>\n",
       "      <td>260000</td>\n",
       "    </tr>\n",
       "    <tr>\n",
       "      <th>353</th>\n",
       "      <td>Honda Brio V MT</td>\n",
       "      <td>2012</td>\n",
       "      <td>42000</td>\n",
       "      <td>Petrol</td>\n",
       "      <td>Dealer</td>\n",
       "      <td>Manual</td>\n",
       "      <td>Second Owner</td>\n",
       "      <td>12.0</td>\n",
       "      <td>300392</td>\n",
       "      <td>249000</td>\n",
       "    </tr>\n",
       "    <tr>\n",
       "      <th>354</th>\n",
       "      <td>Chevrolet Beat LS</td>\n",
       "      <td>2011</td>\n",
       "      <td>60000</td>\n",
       "      <td>Petrol</td>\n",
       "      <td>Individual</td>\n",
       "      <td>Manual</td>\n",
       "      <td>Third Owner</td>\n",
       "      <td>14.0</td>\n",
       "      <td>300507</td>\n",
       "      <td>150000</td>\n",
       "    </tr>\n",
       "  </tbody>\n",
       "</table>\n",
       "</div>"
      ],
      "text/plain": [
       "                        name  year  km_driven    fuel seller_type  \\\n",
       "350           Tata Indigo LS  2012      70000  Diesel  Individual   \n",
       "351          Tata Indigo CR4  2013     100000  Diesel  Individual   \n",
       "352  Chevrolet Sail 1.2 Base  2015      35000  Diesel  Individual   \n",
       "353          Honda Brio V MT  2012      42000  Petrol      Dealer   \n",
       "354        Chevrolet Beat LS  2011      60000  Petrol  Individual   \n",
       "\n",
       "    transmission         owner  Rating  ExShowroom Price  selling_price  \n",
       "350       Manual  Second Owner    14.0            299379         220000  \n",
       "351       Manual   First Owner    13.0            300046         220000  \n",
       "352       Manual   First Owner     9.0            300235         260000  \n",
       "353       Manual  Second Owner    12.0            300392         249000  \n",
       "354       Manual   Third Owner    14.0            300507         150000  "
      ]
     },
     "execution_count": 9,
     "metadata": {},
     "output_type": "execute_result"
    }
   ],
   "source": [
    "data.iloc[350:355,]"
   ]
  },
  {
   "attachments": {},
   "cell_type": "markdown",
   "metadata": {},
   "source": [
    "### Unique Value Check for Categorical Column"
   ]
  },
  {
   "cell_type": "code",
   "execution_count": 10,
   "metadata": {},
   "outputs": [
    {
     "data": {
      "text/plain": [
       "name                1491\n",
       "year                  27\n",
       "km_driven            770\n",
       "fuel                   5\n",
       "seller_type            3\n",
       "transmission           2\n",
       "owner                  5\n",
       "Rating               566\n",
       "ExShowroom Price    4331\n",
       "selling_price        445\n",
       "dtype: int64"
      ]
     },
     "execution_count": 10,
     "metadata": {},
     "output_type": "execute_result"
    }
   ],
   "source": [
    "data.nunique()"
   ]
  },
  {
   "cell_type": "code",
   "execution_count": 11,
   "metadata": {},
   "outputs": [
    {
     "data": {
      "text/plain": [
       "4340"
      ]
     },
     "execution_count": 11,
     "metadata": {},
     "output_type": "execute_result"
    }
   ],
   "source": [
    "len(data)"
   ]
  },
  {
   "attachments": {},
   "cell_type": "markdown",
   "metadata": {},
   "source": [
    "### **Condition :**"
   ]
  },
  {
   "attachments": {},
   "cell_type": "markdown",
   "metadata": {},
   "source": [
    "##### 1. Unique value Count == 1 or \n",
    "##### 2. Unique value count == len(data)\n",
    "##### Then delete the column"
   ]
  },
  {
   "attachments": {},
   "cell_type": "markdown",
   "metadata": {},
   "source": [
    "##### *Because above condition was not available hence no column is deleted*"
   ]
  },
  {
   "attachments": {},
   "cell_type": "markdown",
   "metadata": {},
   "source": [
    "### **Feature Engineering**"
   ]
  },
  {
   "cell_type": "code",
   "execution_count": 12,
   "metadata": {},
   "outputs": [
    {
     "data": {
      "text/html": [
       "<div>\n",
       "<style scoped>\n",
       "    .dataframe tbody tr th:only-of-type {\n",
       "        vertical-align: middle;\n",
       "    }\n",
       "\n",
       "    .dataframe tbody tr th {\n",
       "        vertical-align: top;\n",
       "    }\n",
       "\n",
       "    .dataframe thead th {\n",
       "        text-align: right;\n",
       "    }\n",
       "</style>\n",
       "<table border=\"1\" class=\"dataframe\">\n",
       "  <thead>\n",
       "    <tr style=\"text-align: right;\">\n",
       "      <th></th>\n",
       "      <th>name</th>\n",
       "      <th>year</th>\n",
       "      <th>km_driven</th>\n",
       "      <th>fuel</th>\n",
       "      <th>seller_type</th>\n",
       "      <th>transmission</th>\n",
       "      <th>owner</th>\n",
       "      <th>Rating</th>\n",
       "      <th>ExShowroom Price</th>\n",
       "      <th>selling_price</th>\n",
       "      <th>company_name</th>\n",
       "    </tr>\n",
       "  </thead>\n",
       "  <tbody>\n",
       "    <tr>\n",
       "      <th>0</th>\n",
       "      <td>Tata Indica Vista Aqua 1.4 TDI</td>\n",
       "      <td>2010</td>\n",
       "      <td>120000</td>\n",
       "      <td>Diesel</td>\n",
       "      <td>Individual</td>\n",
       "      <td>Manual</td>\n",
       "      <td>Second Owner</td>\n",
       "      <td>9.0</td>\n",
       "      <td>106001</td>\n",
       "      <td>100000</td>\n",
       "      <td>Tata</td>\n",
       "    </tr>\n",
       "    <tr>\n",
       "      <th>1</th>\n",
       "      <td>Tata Nano Lx BSIV</td>\n",
       "      <td>2012</td>\n",
       "      <td>50000</td>\n",
       "      <td>Petrol</td>\n",
       "      <td>Individual</td>\n",
       "      <td>Manual</td>\n",
       "      <td>Second Owner</td>\n",
       "      <td>9.0</td>\n",
       "      <td>108556</td>\n",
       "      <td>100000</td>\n",
       "      <td>Tata</td>\n",
       "    </tr>\n",
       "  </tbody>\n",
       "</table>\n",
       "</div>"
      ],
      "text/plain": [
       "                             name  year  km_driven    fuel seller_type  \\\n",
       "0  Tata Indica Vista Aqua 1.4 TDI  2010     120000  Diesel  Individual   \n",
       "1               Tata Nano Lx BSIV  2012      50000  Petrol  Individual   \n",
       "\n",
       "  transmission         owner  Rating  ExShowroom Price  selling_price  \\\n",
       "0       Manual  Second Owner     9.0            106001         100000   \n",
       "1       Manual  Second Owner     9.0            108556         100000   \n",
       "\n",
       "  company_name  \n",
       "0         Tata  \n",
       "1         Tata  "
      ]
     },
     "execution_count": 12,
     "metadata": {},
     "output_type": "execute_result"
    }
   ],
   "source": [
    "data[\"company_name\"] = data[\"name\"].str.split(\" \").str[0]\n",
    "data.head(2)"
   ]
  },
  {
   "cell_type": "code",
   "execution_count": 13,
   "metadata": {},
   "outputs": [
    {
     "data": {
      "text/plain": [
       "array(['Tata', 'Maruti', 'Chevrolet', 'Hyundai', 'Ford', 'Volkswagen',\n",
       "       'Mahindra', 'Fiat', 'Nissan', 'Renault', 'Toyota', 'Datsun',\n",
       "       'Honda', 'Skoda', 'Ambassador', 'OpelCorsa', 'Daewoo', 'Force',\n",
       "       'Mercedes-Benz', 'BMW', 'Audi', 'Mitsubishi', 'Jeep', 'Isuzu',\n",
       "       'Kia', 'Volvo', 'Jaguar', 'MG', 'Land'], dtype=object)"
      ]
     },
     "execution_count": 13,
     "metadata": {},
     "output_type": "execute_result"
    }
   ],
   "source": [
    "data.company_name.unique()"
   ]
  },
  {
   "attachments": {},
   "cell_type": "markdown",
   "metadata": {},
   "source": [
    "### Feature Engineering for KM"
   ]
  },
  {
   "cell_type": "code",
   "execution_count": 93,
   "metadata": {},
   "outputs": [
    {
     "data": {
      "text/html": [
       "<div>\n",
       "<style scoped>\n",
       "    .dataframe tbody tr th:only-of-type {\n",
       "        vertical-align: middle;\n",
       "    }\n",
       "\n",
       "    .dataframe tbody tr th {\n",
       "        vertical-align: top;\n",
       "    }\n",
       "\n",
       "    .dataframe thead th {\n",
       "        text-align: right;\n",
       "    }\n",
       "</style>\n",
       "<table border=\"1\" class=\"dataframe\">\n",
       "  <thead>\n",
       "    <tr style=\"text-align: right;\">\n",
       "      <th></th>\n",
       "      <th>year</th>\n",
       "      <th>km_driven</th>\n",
       "      <th>fuel</th>\n",
       "      <th>seller_type</th>\n",
       "      <th>transmission</th>\n",
       "      <th>owner</th>\n",
       "      <th>Rating</th>\n",
       "      <th>selling_price</th>\n",
       "      <th>company_name</th>\n",
       "      <th>km_range</th>\n",
       "      <th>year_range</th>\n",
       "      <th>ex_range</th>\n",
       "    </tr>\n",
       "  </thead>\n",
       "  <tbody>\n",
       "    <tr>\n",
       "      <th>0</th>\n",
       "      <td>2010</td>\n",
       "      <td>120000</td>\n",
       "      <td>1</td>\n",
       "      <td>1</td>\n",
       "      <td>1</td>\n",
       "      <td>2</td>\n",
       "      <td>9.0</td>\n",
       "      <td>100000</td>\n",
       "      <td>25</td>\n",
       "      <td>High</td>\n",
       "      <td>3</td>\n",
       "      <td>0</td>\n",
       "    </tr>\n",
       "    <tr>\n",
       "      <th>1</th>\n",
       "      <td>2012</td>\n",
       "      <td>50000</td>\n",
       "      <td>4</td>\n",
       "      <td>1</td>\n",
       "      <td>1</td>\n",
       "      <td>2</td>\n",
       "      <td>9.0</td>\n",
       "      <td>100000</td>\n",
       "      <td>25</td>\n",
       "      <td>medium</td>\n",
       "      <td>3</td>\n",
       "      <td>0</td>\n",
       "    </tr>\n",
       "    <tr>\n",
       "      <th>2</th>\n",
       "      <td>2011</td>\n",
       "      <td>70000</td>\n",
       "      <td>1</td>\n",
       "      <td>1</td>\n",
       "      <td>1</td>\n",
       "      <td>0</td>\n",
       "      <td>11.0</td>\n",
       "      <td>120000</td>\n",
       "      <td>25</td>\n",
       "      <td>medium</td>\n",
       "      <td>3</td>\n",
       "      <td>0</td>\n",
       "    </tr>\n",
       "    <tr>\n",
       "      <th>3</th>\n",
       "      <td>2010</td>\n",
       "      <td>80000</td>\n",
       "      <td>4</td>\n",
       "      <td>1</td>\n",
       "      <td>1</td>\n",
       "      <td>2</td>\n",
       "      <td>9.0</td>\n",
       "      <td>100000</td>\n",
       "      <td>18</td>\n",
       "      <td>medium</td>\n",
       "      <td>3</td>\n",
       "      <td>0</td>\n",
       "    </tr>\n",
       "    <tr>\n",
       "      <th>4</th>\n",
       "      <td>2010</td>\n",
       "      <td>80000</td>\n",
       "      <td>4</td>\n",
       "      <td>1</td>\n",
       "      <td>1</td>\n",
       "      <td>2</td>\n",
       "      <td>10.0</td>\n",
       "      <td>130000</td>\n",
       "      <td>3</td>\n",
       "      <td>medium</td>\n",
       "      <td>3</td>\n",
       "      <td>0</td>\n",
       "    </tr>\n",
       "  </tbody>\n",
       "</table>\n",
       "</div>"
      ],
      "text/plain": [
       "   year  km_driven  fuel  seller_type  transmission  owner  Rating  \\\n",
       "0  2010     120000     1            1             1      2     9.0   \n",
       "1  2012      50000     4            1             1      2     9.0   \n",
       "2  2011      70000     1            1             1      0    11.0   \n",
       "3  2010      80000     4            1             1      2     9.0   \n",
       "4  2010      80000     4            1             1      2    10.0   \n",
       "\n",
       "   selling_price  company_name km_range  year_range  ex_range  \n",
       "0         100000            25     High           3         0  \n",
       "1         100000            25   medium           3         0  \n",
       "2         120000            25   medium           3         0  \n",
       "3         100000            18   medium           3         0  \n",
       "4         130000             3   medium           3         0  "
      ]
     },
     "execution_count": 93,
     "metadata": {},
     "output_type": "execute_result"
    }
   ],
   "source": [
    "km_ranges = [\"low\", \"medium\", \"High\"]\n",
    "limits = [0, 35000, 100000, 200000]\n",
    "data[\"km_range\"] = pd.cut(data[\"km_driven\"], bins = limits, labels = km_ranges)\n",
    "data.head(5)"
   ]
  },
  {
   "cell_type": "code",
   "execution_count": 97,
   "metadata": {},
   "outputs": [
    {
     "name": "stdout",
     "output_type": "stream",
     "text": [
      "low : 1159\n",
      "Medium : 2461\n",
      "High : 663\n"
     ]
    }
   ],
   "source": [
    "low_count = 0\n",
    "for i in data[\"km_range\"]:\n",
    "    if i == \"low\":\n",
    "        low_count+=1\n",
    "print(\"low :\", low_count)\n",
    "\n",
    "medium_count = 0\n",
    "for i in data[\"km_range\"]:\n",
    "    if i == \"medium\":\n",
    "        medium_count += 1\n",
    "print(\"Medium :\", medium_count)\n",
    "\n",
    "High_count = 0\n",
    "for i in data[\"km_range\"]:\n",
    "    if i == \"High\":\n",
    "        High_count += 1\n",
    "print(\"High :\", High_count)\n"
   ]
  },
  {
   "cell_type": "code",
   "execution_count": 15,
   "metadata": {},
   "outputs": [
    {
     "data": {
      "text/html": [
       "<div>\n",
       "<style scoped>\n",
       "    .dataframe tbody tr th:only-of-type {\n",
       "        vertical-align: middle;\n",
       "    }\n",
       "\n",
       "    .dataframe tbody tr th {\n",
       "        vertical-align: top;\n",
       "    }\n",
       "\n",
       "    .dataframe thead th {\n",
       "        text-align: right;\n",
       "    }\n",
       "</style>\n",
       "<table border=\"1\" class=\"dataframe\">\n",
       "  <thead>\n",
       "    <tr style=\"text-align: right;\">\n",
       "      <th></th>\n",
       "      <th>year</th>\n",
       "      <th>km_driven</th>\n",
       "      <th>Rating</th>\n",
       "      <th>ExShowroom Price</th>\n",
       "      <th>selling_price</th>\n",
       "    </tr>\n",
       "  </thead>\n",
       "  <tbody>\n",
       "    <tr>\n",
       "      <th>count</th>\n",
       "      <td>4340.0</td>\n",
       "      <td>4340.0</td>\n",
       "      <td>4340.0</td>\n",
       "      <td>4340.0</td>\n",
       "      <td>4340.0</td>\n",
       "    </tr>\n",
       "    <tr>\n",
       "      <th>mean</th>\n",
       "      <td>2013.0</td>\n",
       "      <td>66216.0</td>\n",
       "      <td>12.0</td>\n",
       "      <td>845381.0</td>\n",
       "      <td>504127.0</td>\n",
       "    </tr>\n",
       "    <tr>\n",
       "      <th>std</th>\n",
       "      <td>4.0</td>\n",
       "      <td>46644.0</td>\n",
       "      <td>2.0</td>\n",
       "      <td>884841.0</td>\n",
       "      <td>578549.0</td>\n",
       "    </tr>\n",
       "    <tr>\n",
       "      <th>min</th>\n",
       "      <td>1992.0</td>\n",
       "      <td>1.0</td>\n",
       "      <td>9.0</td>\n",
       "      <td>106001.0</td>\n",
       "      <td>20000.0</td>\n",
       "    </tr>\n",
       "    <tr>\n",
       "      <th>25%</th>\n",
       "      <td>2011.0</td>\n",
       "      <td>35000.0</td>\n",
       "      <td>10.0</td>\n",
       "      <td>445390.0</td>\n",
       "      <td>208750.0</td>\n",
       "    </tr>\n",
       "    <tr>\n",
       "      <th>50%</th>\n",
       "      <td>2014.0</td>\n",
       "      <td>60000.0</td>\n",
       "      <td>12.0</td>\n",
       "      <td>596055.0</td>\n",
       "      <td>350000.0</td>\n",
       "    </tr>\n",
       "    <tr>\n",
       "      <th>75%</th>\n",
       "      <td>2016.0</td>\n",
       "      <td>90000.0</td>\n",
       "      <td>14.0</td>\n",
       "      <td>946243.0</td>\n",
       "      <td>600000.0</td>\n",
       "    </tr>\n",
       "    <tr>\n",
       "      <th>max</th>\n",
       "      <td>2020.0</td>\n",
       "      <td>806599.0</td>\n",
       "      <td>15.0</td>\n",
       "      <td>15538153.0</td>\n",
       "      <td>8900000.0</td>\n",
       "    </tr>\n",
       "  </tbody>\n",
       "</table>\n",
       "</div>"
      ],
      "text/plain": [
       "         year  km_driven  Rating  ExShowroom Price  selling_price\n",
       "count  4340.0     4340.0  4340.0            4340.0         4340.0\n",
       "mean   2013.0    66216.0    12.0          845381.0       504127.0\n",
       "std       4.0    46644.0     2.0          884841.0       578549.0\n",
       "min    1992.0        1.0     9.0          106001.0        20000.0\n",
       "25%    2011.0    35000.0    10.0          445390.0       208750.0\n",
       "50%    2014.0    60000.0    12.0          596055.0       350000.0\n",
       "75%    2016.0    90000.0    14.0          946243.0       600000.0\n",
       "max    2020.0   806599.0    15.0        15538153.0      8900000.0"
      ]
     },
     "execution_count": 15,
     "metadata": {},
     "output_type": "execute_result"
    }
   ],
   "source": [
    "round(data.describe(),0)"
   ]
  },
  {
   "attachments": {},
   "cell_type": "markdown",
   "metadata": {},
   "source": [
    "### Feature for Years"
   ]
  },
  {
   "cell_type": "code",
   "execution_count": 16,
   "metadata": {},
   "outputs": [
    {
     "data": {
      "text/html": [
       "<div>\n",
       "<style scoped>\n",
       "    .dataframe tbody tr th:only-of-type {\n",
       "        vertical-align: middle;\n",
       "    }\n",
       "\n",
       "    .dataframe tbody tr th {\n",
       "        vertical-align: top;\n",
       "    }\n",
       "\n",
       "    .dataframe thead th {\n",
       "        text-align: right;\n",
       "    }\n",
       "</style>\n",
       "<table border=\"1\" class=\"dataframe\">\n",
       "  <thead>\n",
       "    <tr style=\"text-align: right;\">\n",
       "      <th></th>\n",
       "      <th>name</th>\n",
       "      <th>year</th>\n",
       "      <th>km_driven</th>\n",
       "      <th>fuel</th>\n",
       "      <th>seller_type</th>\n",
       "      <th>transmission</th>\n",
       "      <th>owner</th>\n",
       "      <th>Rating</th>\n",
       "      <th>ExShowroom Price</th>\n",
       "      <th>selling_price</th>\n",
       "      <th>company_name</th>\n",
       "      <th>km_range</th>\n",
       "      <th>year_range</th>\n",
       "    </tr>\n",
       "  </thead>\n",
       "  <tbody>\n",
       "    <tr>\n",
       "      <th>4335</th>\n",
       "      <td>BMW X5 xDrive 30d xLine</td>\n",
       "      <td>2019</td>\n",
       "      <td>30000</td>\n",
       "      <td>Diesel</td>\n",
       "      <td>Dealer</td>\n",
       "      <td>Automatic</td>\n",
       "      <td>First Owner</td>\n",
       "      <td>11.00</td>\n",
       "      <td>9407487</td>\n",
       "      <td>4950000</td>\n",
       "      <td>BMW</td>\n",
       "      <td>low</td>\n",
       "      <td>Best</td>\n",
       "    </tr>\n",
       "    <tr>\n",
       "      <th>4336</th>\n",
       "      <td>BMW 5 Series 520d Luxury Line</td>\n",
       "      <td>2019</td>\n",
       "      <td>12999</td>\n",
       "      <td>Diesel</td>\n",
       "      <td>Dealer</td>\n",
       "      <td>Automatic</td>\n",
       "      <td>First Owner</td>\n",
       "      <td>9.71</td>\n",
       "      <td>9598350</td>\n",
       "      <td>4800000</td>\n",
       "      <td>BMW</td>\n",
       "      <td>low</td>\n",
       "      <td>Best</td>\n",
       "    </tr>\n",
       "    <tr>\n",
       "      <th>4337</th>\n",
       "      <td>BMW X5 xDrive 30d xLine</td>\n",
       "      <td>2019</td>\n",
       "      <td>30000</td>\n",
       "      <td>Diesel</td>\n",
       "      <td>Dealer</td>\n",
       "      <td>Automatic</td>\n",
       "      <td>First Owner</td>\n",
       "      <td>11.00</td>\n",
       "      <td>9857238</td>\n",
       "      <td>4950000</td>\n",
       "      <td>BMW</td>\n",
       "      <td>low</td>\n",
       "      <td>Best</td>\n",
       "    </tr>\n",
       "    <tr>\n",
       "      <th>4338</th>\n",
       "      <td>Audi RS7 2015-2019 Sportback Performance</td>\n",
       "      <td>2016</td>\n",
       "      <td>13000</td>\n",
       "      <td>Petrol</td>\n",
       "      <td>Dealer</td>\n",
       "      <td>Automatic</td>\n",
       "      <td>First Owner</td>\n",
       "      <td>14.09</td>\n",
       "      <td>14235729</td>\n",
       "      <td>8900000</td>\n",
       "      <td>Audi</td>\n",
       "      <td>low</td>\n",
       "      <td>Buy</td>\n",
       "    </tr>\n",
       "    <tr>\n",
       "      <th>4339</th>\n",
       "      <td>Mercedes-Benz S-Class S 350d Connoisseurs Edition</td>\n",
       "      <td>2017</td>\n",
       "      <td>6500</td>\n",
       "      <td>Diesel</td>\n",
       "      <td>Dealer</td>\n",
       "      <td>Automatic</td>\n",
       "      <td>First Owner</td>\n",
       "      <td>9.00</td>\n",
       "      <td>15538153</td>\n",
       "      <td>8150000</td>\n",
       "      <td>Mercedes-Benz</td>\n",
       "      <td>low</td>\n",
       "      <td>Buy</td>\n",
       "    </tr>\n",
       "  </tbody>\n",
       "</table>\n",
       "</div>"
      ],
      "text/plain": [
       "                                                   name  year  km_driven  \\\n",
       "4335                            BMW X5 xDrive 30d xLine  2019      30000   \n",
       "4336                      BMW 5 Series 520d Luxury Line  2019      12999   \n",
       "4337                            BMW X5 xDrive 30d xLine  2019      30000   \n",
       "4338           Audi RS7 2015-2019 Sportback Performance  2016      13000   \n",
       "4339  Mercedes-Benz S-Class S 350d Connoisseurs Edition  2017       6500   \n",
       "\n",
       "        fuel seller_type transmission        owner  Rating  ExShowroom Price  \\\n",
       "4335  Diesel      Dealer    Automatic  First Owner   11.00           9407487   \n",
       "4336  Diesel      Dealer    Automatic  First Owner    9.71           9598350   \n",
       "4337  Diesel      Dealer    Automatic  First Owner   11.00           9857238   \n",
       "4338  Petrol      Dealer    Automatic  First Owner   14.09          14235729   \n",
       "4339  Diesel      Dealer    Automatic  First Owner    9.00          15538153   \n",
       "\n",
       "      selling_price   company_name km_range year_range  \n",
       "4335        4950000            BMW      low       Best  \n",
       "4336        4800000            BMW      low       Best  \n",
       "4337        4950000            BMW      low       Best  \n",
       "4338        8900000           Audi      low        Buy  \n",
       "4339        8150000  Mercedes-Benz      low        Buy  "
      ]
     },
     "execution_count": 16,
     "metadata": {},
     "output_type": "execute_result"
    }
   ],
   "source": [
    "year_ranges = [\"Junk\", \"Scrap\", \"Buy\", \"Best\"]\n",
    "limits = [1991, 2005, 2012, 2017, 2022]\n",
    "data[\"year_range\"] = pd.cut(data[\"year\"], bins = limits, labels = year_ranges)\n",
    "\n",
    "data.tail(5)"
   ]
  },
  {
   "attachments": {},
   "cell_type": "markdown",
   "metadata": {},
   "source": [
    "### Feature for ex Showroom Price"
   ]
  },
  {
   "cell_type": "code",
   "execution_count": 17,
   "metadata": {},
   "outputs": [
    {
     "data": {
      "text/html": [
       "<div>\n",
       "<style scoped>\n",
       "    .dataframe tbody tr th:only-of-type {\n",
       "        vertical-align: middle;\n",
       "    }\n",
       "\n",
       "    .dataframe tbody tr th {\n",
       "        vertical-align: top;\n",
       "    }\n",
       "\n",
       "    .dataframe thead th {\n",
       "        text-align: right;\n",
       "    }\n",
       "</style>\n",
       "<table border=\"1\" class=\"dataframe\">\n",
       "  <thead>\n",
       "    <tr style=\"text-align: right;\">\n",
       "      <th></th>\n",
       "      <th>name</th>\n",
       "      <th>year</th>\n",
       "      <th>km_driven</th>\n",
       "      <th>fuel</th>\n",
       "      <th>seller_type</th>\n",
       "      <th>transmission</th>\n",
       "      <th>owner</th>\n",
       "      <th>Rating</th>\n",
       "      <th>ExShowroom Price</th>\n",
       "      <th>selling_price</th>\n",
       "      <th>company_name</th>\n",
       "      <th>km_range</th>\n",
       "      <th>year_range</th>\n",
       "      <th>ex_range</th>\n",
       "    </tr>\n",
       "  </thead>\n",
       "  <tbody>\n",
       "    <tr>\n",
       "      <th>4335</th>\n",
       "      <td>BMW X5 xDrive 30d xLine</td>\n",
       "      <td>2019</td>\n",
       "      <td>30000</td>\n",
       "      <td>Diesel</td>\n",
       "      <td>Dealer</td>\n",
       "      <td>Automatic</td>\n",
       "      <td>First Owner</td>\n",
       "      <td>11.00</td>\n",
       "      <td>9407487</td>\n",
       "      <td>4950000</td>\n",
       "      <td>BMW</td>\n",
       "      <td>low</td>\n",
       "      <td>Best</td>\n",
       "      <td>Premium</td>\n",
       "    </tr>\n",
       "    <tr>\n",
       "      <th>4336</th>\n",
       "      <td>BMW 5 Series 520d Luxury Line</td>\n",
       "      <td>2019</td>\n",
       "      <td>12999</td>\n",
       "      <td>Diesel</td>\n",
       "      <td>Dealer</td>\n",
       "      <td>Automatic</td>\n",
       "      <td>First Owner</td>\n",
       "      <td>9.71</td>\n",
       "      <td>9598350</td>\n",
       "      <td>4800000</td>\n",
       "      <td>BMW</td>\n",
       "      <td>low</td>\n",
       "      <td>Best</td>\n",
       "      <td>Premium</td>\n",
       "    </tr>\n",
       "    <tr>\n",
       "      <th>4337</th>\n",
       "      <td>BMW X5 xDrive 30d xLine</td>\n",
       "      <td>2019</td>\n",
       "      <td>30000</td>\n",
       "      <td>Diesel</td>\n",
       "      <td>Dealer</td>\n",
       "      <td>Automatic</td>\n",
       "      <td>First Owner</td>\n",
       "      <td>11.00</td>\n",
       "      <td>9857238</td>\n",
       "      <td>4950000</td>\n",
       "      <td>BMW</td>\n",
       "      <td>low</td>\n",
       "      <td>Best</td>\n",
       "      <td>Premium</td>\n",
       "    </tr>\n",
       "    <tr>\n",
       "      <th>4338</th>\n",
       "      <td>Audi RS7 2015-2019 Sportback Performance</td>\n",
       "      <td>2016</td>\n",
       "      <td>13000</td>\n",
       "      <td>Petrol</td>\n",
       "      <td>Dealer</td>\n",
       "      <td>Automatic</td>\n",
       "      <td>First Owner</td>\n",
       "      <td>14.09</td>\n",
       "      <td>14235729</td>\n",
       "      <td>8900000</td>\n",
       "      <td>Audi</td>\n",
       "      <td>low</td>\n",
       "      <td>Buy</td>\n",
       "      <td>Premium</td>\n",
       "    </tr>\n",
       "    <tr>\n",
       "      <th>4339</th>\n",
       "      <td>Mercedes-Benz S-Class S 350d Connoisseurs Edition</td>\n",
       "      <td>2017</td>\n",
       "      <td>6500</td>\n",
       "      <td>Diesel</td>\n",
       "      <td>Dealer</td>\n",
       "      <td>Automatic</td>\n",
       "      <td>First Owner</td>\n",
       "      <td>9.00</td>\n",
       "      <td>15538153</td>\n",
       "      <td>8150000</td>\n",
       "      <td>Mercedes-Benz</td>\n",
       "      <td>low</td>\n",
       "      <td>Buy</td>\n",
       "      <td>Premium</td>\n",
       "    </tr>\n",
       "  </tbody>\n",
       "</table>\n",
       "</div>"
      ],
      "text/plain": [
       "                                                   name  year  km_driven  \\\n",
       "4335                            BMW X5 xDrive 30d xLine  2019      30000   \n",
       "4336                      BMW 5 Series 520d Luxury Line  2019      12999   \n",
       "4337                            BMW X5 xDrive 30d xLine  2019      30000   \n",
       "4338           Audi RS7 2015-2019 Sportback Performance  2016      13000   \n",
       "4339  Mercedes-Benz S-Class S 350d Connoisseurs Edition  2017       6500   \n",
       "\n",
       "        fuel seller_type transmission        owner  Rating  ExShowroom Price  \\\n",
       "4335  Diesel      Dealer    Automatic  First Owner   11.00           9407487   \n",
       "4336  Diesel      Dealer    Automatic  First Owner    9.71           9598350   \n",
       "4337  Diesel      Dealer    Automatic  First Owner   11.00           9857238   \n",
       "4338  Petrol      Dealer    Automatic  First Owner   14.09          14235729   \n",
       "4339  Diesel      Dealer    Automatic  First Owner    9.00          15538153   \n",
       "\n",
       "      selling_price   company_name km_range year_range ex_range  \n",
       "4335        4950000            BMW      low       Best  Premium  \n",
       "4336        4800000            BMW      low       Best  Premium  \n",
       "4337        4950000            BMW      low       Best  Premium  \n",
       "4338        8900000           Audi      low        Buy  Premium  \n",
       "4339        8150000  Mercedes-Benz      low        Buy  Premium  "
      ]
     },
     "execution_count": 17,
     "metadata": {},
     "output_type": "execute_result"
    }
   ],
   "source": [
    "ex_range = [\"Affordable\", \"Family\", \"Luxary\", \"Premium\"]\n",
    "limits = [0, 500000, 1000000, 1500000, 20000000]\n",
    "data[\"ex_range\"] = pd.cut(data[\"ExShowroom Price\"], bins = limits, labels = ex_range)\n",
    "data.tail(5)"
   ]
  },
  {
   "cell_type": "code",
   "execution_count": 18,
   "metadata": {},
   "outputs": [
    {
     "data": {
      "text/plain": [
       "array(['Tata', 'Maruti', 'Chevrolet', 'Hyundai', 'Ford', 'Volkswagen',\n",
       "       'Mahindra', 'Fiat', 'Nissan', 'Renault', 'Toyota', 'Datsun',\n",
       "       'Honda', 'Skoda', 'Ambassador', 'OpelCorsa', 'Daewoo', 'Force',\n",
       "       'Mercedes-Benz', 'BMW', 'Audi', 'Mitsubishi', 'Jeep', 'Isuzu',\n",
       "       'Kia', 'Volvo', 'Jaguar', 'MG', 'Land'], dtype=object)"
      ]
     },
     "execution_count": 18,
     "metadata": {},
     "output_type": "execute_result"
    }
   ],
   "source": [
    "data[\"company_name\"].unique()\n",
    "company_name_table = ['Tata', 'Maruti', 'Chevrolet', 'Hyundai', 'Ford', 'Volkswagen',\n",
    "       'Mahindra', 'Fiat', 'Nissan', 'Renault', 'Toyota', 'Datsun',\n",
    "       'Honda', 'Skoda', 'Ambassador', 'OpelCorsa', 'Daewoo', 'Force',\n",
    "       'Mercedes-Benz', 'BMW', 'Audi', 'Mitsubishi', 'Jeep', 'Isuzu',\n",
    "       'Kia', 'Volvo', 'Jaguar', 'MG', 'Land']\n",
    "\n",
    "count = 0\n",
    "for item in company_name_table:\n",
    "    "
   ]
  },
  {
   "attachments": {},
   "cell_type": "markdown",
   "metadata": {},
   "source": [
    "### Label Encoding"
   ]
  },
  {
   "cell_type": "code",
   "execution_count": 19,
   "metadata": {},
   "outputs": [
    {
     "data": {
      "text/plain": [
       "array(['Diesel', 'Petrol', 'CNG', 'LPG', 'Electric'], dtype=object)"
      ]
     },
     "execution_count": 19,
     "metadata": {},
     "output_type": "execute_result"
    }
   ],
   "source": [
    "data[\"fuel\"].unique()"
   ]
  },
  {
   "cell_type": "code",
   "execution_count": 20,
   "metadata": {},
   "outputs": [
    {
     "data": {
      "text/plain": [
       "array([1, 4, 0, 3, 2])"
      ]
     },
     "execution_count": 20,
     "metadata": {},
     "output_type": "execute_result"
    }
   ],
   "source": [
    "EN = LabelEncoder()\n",
    "data[\"fuel\"] = EN.fit_transform(data[\"fuel\"])\n",
    "data[\"fuel\"].unique()"
   ]
  },
  {
   "cell_type": "code",
   "execution_count": 21,
   "metadata": {},
   "outputs": [
    {
     "data": {
      "text/plain": [
       "array(['Manual', 'Automatic'], dtype=object)"
      ]
     },
     "execution_count": 21,
     "metadata": {},
     "output_type": "execute_result"
    }
   ],
   "source": [
    "data[\"transmission\"].unique()"
   ]
  },
  {
   "cell_type": "code",
   "execution_count": 22,
   "metadata": {},
   "outputs": [
    {
     "data": {
      "text/plain": [
       "array([1, 0])"
      ]
     },
     "execution_count": 22,
     "metadata": {},
     "output_type": "execute_result"
    }
   ],
   "source": [
    "data[\"transmission\"] = EN.fit_transform(data[\"transmission\"])\n",
    "data[\"transmission\"].unique()"
   ]
  },
  {
   "cell_type": "code",
   "execution_count": 23,
   "metadata": {},
   "outputs": [
    {
     "data": {
      "text/html": [
       "<div>\n",
       "<style scoped>\n",
       "    .dataframe tbody tr th:only-of-type {\n",
       "        vertical-align: middle;\n",
       "    }\n",
       "\n",
       "    .dataframe tbody tr th {\n",
       "        vertical-align: top;\n",
       "    }\n",
       "\n",
       "    .dataframe thead th {\n",
       "        text-align: right;\n",
       "    }\n",
       "</style>\n",
       "<table border=\"1\" class=\"dataframe\">\n",
       "  <thead>\n",
       "    <tr style=\"text-align: right;\">\n",
       "      <th></th>\n",
       "      <th>name</th>\n",
       "      <th>year</th>\n",
       "      <th>km_driven</th>\n",
       "      <th>fuel</th>\n",
       "      <th>seller_type</th>\n",
       "      <th>transmission</th>\n",
       "      <th>owner</th>\n",
       "      <th>Rating</th>\n",
       "      <th>ExShowroom Price</th>\n",
       "      <th>selling_price</th>\n",
       "      <th>company_name</th>\n",
       "      <th>km_range</th>\n",
       "      <th>year_range</th>\n",
       "      <th>ex_range</th>\n",
       "    </tr>\n",
       "  </thead>\n",
       "  <tbody>\n",
       "    <tr>\n",
       "      <th>0</th>\n",
       "      <td>1228</td>\n",
       "      <td>2010</td>\n",
       "      <td>120000</td>\n",
       "      <td>1</td>\n",
       "      <td>1</td>\n",
       "      <td>1</td>\n",
       "      <td>2</td>\n",
       "      <td>9.0</td>\n",
       "      <td>106001</td>\n",
       "      <td>100000</td>\n",
       "      <td>25</td>\n",
       "      <td>0</td>\n",
       "      <td>3</td>\n",
       "      <td>0</td>\n",
       "    </tr>\n",
       "    <tr>\n",
       "      <th>1</th>\n",
       "      <td>1283</td>\n",
       "      <td>2012</td>\n",
       "      <td>50000</td>\n",
       "      <td>4</td>\n",
       "      <td>1</td>\n",
       "      <td>1</td>\n",
       "      <td>2</td>\n",
       "      <td>9.0</td>\n",
       "      <td>108556</td>\n",
       "      <td>100000</td>\n",
       "      <td>25</td>\n",
       "      <td>2</td>\n",
       "      <td>3</td>\n",
       "      <td>0</td>\n",
       "    </tr>\n",
       "    <tr>\n",
       "      <th>2</th>\n",
       "      <td>1229</td>\n",
       "      <td>2011</td>\n",
       "      <td>70000</td>\n",
       "      <td>1</td>\n",
       "      <td>1</td>\n",
       "      <td>1</td>\n",
       "      <td>0</td>\n",
       "      <td>11.0</td>\n",
       "      <td>120678</td>\n",
       "      <td>120000</td>\n",
       "      <td>25</td>\n",
       "      <td>2</td>\n",
       "      <td>3</td>\n",
       "      <td>0</td>\n",
       "    </tr>\n",
       "  </tbody>\n",
       "</table>\n",
       "</div>"
      ],
      "text/plain": [
       "   name  year  km_driven  fuel  seller_type  transmission  owner  Rating  \\\n",
       "0  1228  2010     120000     1            1             1      2     9.0   \n",
       "1  1283  2012      50000     4            1             1      2     9.0   \n",
       "2  1229  2011      70000     1            1             1      0    11.0   \n",
       "\n",
       "   ExShowroom Price  selling_price  company_name  km_range  year_range  \\\n",
       "0            106001         100000            25         0           3   \n",
       "1            108556         100000            25         2           3   \n",
       "2            120678         120000            25         2           3   \n",
       "\n",
       "   ex_range  \n",
       "0         0  \n",
       "1         0  \n",
       "2         0  "
      ]
     },
     "execution_count": 23,
     "metadata": {},
     "output_type": "execute_result"
    }
   ],
   "source": [
    "data[\"name\"] = EN.fit_transform(data[\"name\"])\n",
    "data[\"seller_type\"] = EN.fit_transform(data[\"seller_type\"])\n",
    "data[\"owner\"] = EN.fit_transform(data[\"owner\"])\n",
    "data[\"company_name\"] = EN.fit_transform(data[\"company_name\"])\n",
    "data[\"km_range\"] = EN.fit_transform(data[\"km_range\"])\n",
    "data[\"year_range\"] = EN.fit_transform(data[\"year_range\"])\n",
    "data[\"ex_range\"] = EN.fit_transform(data[\"ex_range\"])\n",
    "data.head(3)"
   ]
  },
  {
   "cell_type": "code",
   "execution_count": 24,
   "metadata": {},
   "outputs": [
    {
     "name": "stdout",
     "output_type": "stream",
     "text": [
      "<class 'pandas.core.frame.DataFrame'>\n",
      "RangeIndex: 4340 entries, 0 to 4339\n",
      "Data columns (total 14 columns):\n",
      " #   Column            Non-Null Count  Dtype  \n",
      "---  ------            --------------  -----  \n",
      " 0   name              4340 non-null   int32  \n",
      " 1   year              4340 non-null   int64  \n",
      " 2   km_driven         4340 non-null   int64  \n",
      " 3   fuel              4340 non-null   int32  \n",
      " 4   seller_type       4340 non-null   int32  \n",
      " 5   transmission      4340 non-null   int32  \n",
      " 6   owner             4340 non-null   int32  \n",
      " 7   Rating            4340 non-null   float64\n",
      " 8   ExShowroom Price  4340 non-null   int64  \n",
      " 9   selling_price     4340 non-null   int64  \n",
      " 10  company_name      4340 non-null   int32  \n",
      " 11  km_range          4340 non-null   int32  \n",
      " 12  year_range        4340 non-null   int32  \n",
      " 13  ex_range          4340 non-null   int32  \n",
      "dtypes: float64(1), int32(9), int64(4)\n",
      "memory usage: 322.2 KB\n"
     ]
    }
   ],
   "source": [
    "data.info()"
   ]
  },
  {
   "attachments": {},
   "cell_type": "markdown",
   "metadata": {},
   "source": [
    "##### If we see all data type as number then label encoding is sucessful"
   ]
  },
  {
   "attachments": {},
   "cell_type": "markdown",
   "metadata": {},
   "source": [
    "### Correlation : range(-1 to 1)"
   ]
  },
  {
   "cell_type": "code",
   "execution_count": 25,
   "metadata": {},
   "outputs": [
    {
     "data": {
      "text/html": [
       "<style type=\"text/css\">\n",
       "#T_594e1_row0_col0, #T_594e1_row1_col1, #T_594e1_row2_col2, #T_594e1_row3_col3, #T_594e1_row4_col4, #T_594e1_row5_col5, #T_594e1_row6_col6, #T_594e1_row7_col7, #T_594e1_row8_col8, #T_594e1_row9_col9, #T_594e1_row10_col10, #T_594e1_row11_col11, #T_594e1_row12_col12, #T_594e1_row13_col13 {\n",
       "  background-color: #b40426;\n",
       "  color: #f1f1f1;\n",
       "}\n",
       "#T_594e1_row0_col1, #T_594e1_row0_col5, #T_594e1_row11_col1 {\n",
       "  background-color: #c1d4f4;\n",
       "  color: #000000;\n",
       "}\n",
       "#T_594e1_row0_col2 {\n",
       "  background-color: #bbd1f8;\n",
       "  color: #000000;\n",
       "}\n",
       "#T_594e1_row0_col3, #T_594e1_row3_col4, #T_594e1_row13_col2 {\n",
       "  background-color: #6f92f3;\n",
       "  color: #f1f1f1;\n",
       "}\n",
       "#T_594e1_row0_col4, #T_594e1_row1_col5, #T_594e1_row4_col8, #T_594e1_row8_col12 {\n",
       "  background-color: #8db0fe;\n",
       "  color: #000000;\n",
       "}\n",
       "#T_594e1_row0_col6, #T_594e1_row11_col8 {\n",
       "  background-color: #a3c2fe;\n",
       "  color: #000000;\n",
       "}\n",
       "#T_594e1_row0_col7, #T_594e1_row12_col7 {\n",
       "  background-color: #465ecf;\n",
       "  color: #f1f1f1;\n",
       "}\n",
       "#T_594e1_row0_col8, #T_594e1_row0_col9, #T_594e1_row7_col2 {\n",
       "  background-color: #9dbdff;\n",
       "  color: #000000;\n",
       "}\n",
       "#T_594e1_row0_col10 {\n",
       "  background-color: #bb1b2c;\n",
       "  color: #f1f1f1;\n",
       "}\n",
       "#T_594e1_row0_col11 {\n",
       "  background-color: #5673e0;\n",
       "  color: #f1f1f1;\n",
       "}\n",
       "#T_594e1_row0_col12, #T_594e1_row4_col12 {\n",
       "  background-color: #d8dce2;\n",
       "  color: #000000;\n",
       "}\n",
       "#T_594e1_row0_col13, #T_594e1_row4_col3, #T_594e1_row5_col3, #T_594e1_row11_col3, #T_594e1_row11_col13, #T_594e1_row12_col3 {\n",
       "  background-color: #90b2fe;\n",
       "  color: #000000;\n",
       "}\n",
       "#T_594e1_row1_col0, #T_594e1_row6_col7 {\n",
       "  background-color: #4358cb;\n",
       "  color: #f1f1f1;\n",
       "}\n",
       "#T_594e1_row1_col2, #T_594e1_row1_col6, #T_594e1_row1_col12, #T_594e1_row2_col11, #T_594e1_row3_col0, #T_594e1_row3_col10, #T_594e1_row5_col8, #T_594e1_row5_col9, #T_594e1_row9_col4, #T_594e1_row9_col5, #T_594e1_row9_col7, #T_594e1_row12_col1, #T_594e1_row12_col13, #T_594e1_row13_col3 {\n",
       "  background-color: #3b4cc0;\n",
       "  color: #f1f1f1;\n",
       "}\n",
       "#T_594e1_row1_col3 {\n",
       "  background-color: #6687ed;\n",
       "  color: #f1f1f1;\n",
       "}\n",
       "#T_594e1_row1_col4, #T_594e1_row5_col7, #T_594e1_row10_col7, #T_594e1_row11_col7 {\n",
       "  background-color: #485fd1;\n",
       "  color: #f1f1f1;\n",
       "}\n",
       "#T_594e1_row1_col7, #T_594e1_row2_col7, #T_594e1_row4_col7, #T_594e1_row8_col4 {\n",
       "  background-color: #3f53c6;\n",
       "  color: #f1f1f1;\n",
       "}\n",
       "#T_594e1_row1_col8 {\n",
       "  background-color: #e7d7ce;\n",
       "  color: #000000;\n",
       "}\n",
       "#T_594e1_row1_col9 {\n",
       "  background-color: #f3c7b1;\n",
       "  color: #000000;\n",
       "}\n",
       "#T_594e1_row1_col10, #T_594e1_row1_col11 {\n",
       "  background-color: #4e68d8;\n",
       "  color: #f1f1f1;\n",
       "}\n",
       "#T_594e1_row1_col13 {\n",
       "  background-color: #ead5c9;\n",
       "  color: #000000;\n",
       "}\n",
       "#T_594e1_row2_col0 {\n",
       "  background-color: #799cf8;\n",
       "  color: #f1f1f1;\n",
       "}\n",
       "#T_594e1_row2_col1, #T_594e1_row5_col10, #T_594e1_row6_col1, #T_594e1_row13_col12 {\n",
       "  background-color: #7a9df8;\n",
       "  color: #f1f1f1;\n",
       "}\n",
       "#T_594e1_row2_col3, #T_594e1_row3_col7, #T_594e1_row5_col13, #T_594e1_row8_col5, #T_594e1_row9_col10 {\n",
       "  background-color: #3d50c3;\n",
       "  color: #f1f1f1;\n",
       "}\n",
       "#T_594e1_row2_col4, #T_594e1_row4_col10, #T_594e1_row6_col8 {\n",
       "  background-color: #85a8fc;\n",
       "  color: #f1f1f1;\n",
       "}\n",
       "#T_594e1_row2_col5 {\n",
       "  background-color: #c7d7f0;\n",
       "  color: #000000;\n",
       "}\n",
       "#T_594e1_row2_col6 {\n",
       "  background-color: #dddcdc;\n",
       "  color: #000000;\n",
       "}\n",
       "#T_594e1_row2_col8 {\n",
       "  background-color: #86a9fc;\n",
       "  color: #f1f1f1;\n",
       "}\n",
       "#T_594e1_row2_col9, #T_594e1_row6_col3, #T_594e1_row7_col3 {\n",
       "  background-color: #82a6fb;\n",
       "  color: #f1f1f1;\n",
       "}\n",
       "#T_594e1_row2_col10, #T_594e1_row4_col13 {\n",
       "  background-color: #81a4fb;\n",
       "  color: #f1f1f1;\n",
       "}\n",
       "#T_594e1_row2_col12 {\n",
       "  background-color: #f7b396;\n",
       "  color: #000000;\n",
       "}\n",
       "#T_594e1_row2_col13, #T_594e1_row9_col2, #T_594e1_row12_col10 {\n",
       "  background-color: #6e90f2;\n",
       "  color: #f1f1f1;\n",
       "}\n",
       "#T_594e1_row3_col1 {\n",
       "  background-color: #b5cdfa;\n",
       "  color: #000000;\n",
       "}\n",
       "#T_594e1_row3_col2, #T_594e1_row7_col0, #T_594e1_row12_col9 {\n",
       "  background-color: #5875e1;\n",
       "  color: #f1f1f1;\n",
       "}\n",
       "#T_594e1_row3_col5 {\n",
       "  background-color: #b7cff9;\n",
       "  color: #000000;\n",
       "}\n",
       "#T_594e1_row3_col6 {\n",
       "  background-color: #9abbff;\n",
       "  color: #000000;\n",
       "}\n",
       "#T_594e1_row3_col8 {\n",
       "  background-color: #7699f6;\n",
       "  color: #f1f1f1;\n",
       "}\n",
       "#T_594e1_row3_col9 {\n",
       "  background-color: #7093f3;\n",
       "  color: #f1f1f1;\n",
       "}\n",
       "#T_594e1_row3_col11, #T_594e1_row6_col13 {\n",
       "  background-color: #6788ee;\n",
       "  color: #f1f1f1;\n",
       "}\n",
       "#T_594e1_row3_col12 {\n",
       "  background-color: #d1dae9;\n",
       "  color: #000000;\n",
       "}\n",
       "#T_594e1_row3_col13, #T_594e1_row10_col11, #T_594e1_row11_col4 {\n",
       "  background-color: #536edd;\n",
       "  color: #f1f1f1;\n",
       "}\n",
       "#T_594e1_row4_col0, #T_594e1_row6_col9, #T_594e1_row12_col4 {\n",
       "  background-color: #7ea1fa;\n",
       "  color: #f1f1f1;\n",
       "}\n",
       "#T_594e1_row4_col1, #T_594e1_row4_col2 {\n",
       "  background-color: #b9d0f9;\n",
       "  color: #000000;\n",
       "}\n",
       "#T_594e1_row4_col5 {\n",
       "  background-color: #d2dbe8;\n",
       "  color: #000000;\n",
       "}\n",
       "#T_594e1_row4_col6, #T_594e1_row10_col1 {\n",
       "  background-color: #c4d5f3;\n",
       "  color: #000000;\n",
       "}\n",
       "#T_594e1_row4_col9 {\n",
       "  background-color: #8caffe;\n",
       "  color: #000000;\n",
       "}\n",
       "#T_594e1_row4_col11, #T_594e1_row13_col10 {\n",
       "  background-color: #4a63d3;\n",
       "  color: #f1f1f1;\n",
       "}\n",
       "#T_594e1_row5_col0 {\n",
       "  background-color: #6c8ff1;\n",
       "  color: #f1f1f1;\n",
       "}\n",
       "#T_594e1_row5_col1 {\n",
       "  background-color: #b1cbfc;\n",
       "  color: #000000;\n",
       "}\n",
       "#T_594e1_row5_col2 {\n",
       "  background-color: #bad0f8;\n",
       "  color: #000000;\n",
       "}\n",
       "#T_594e1_row5_col4, #T_594e1_row10_col8, #T_594e1_row10_col9 {\n",
       "  background-color: #98b9ff;\n",
       "  color: #000000;\n",
       "}\n",
       "#T_594e1_row5_col6 {\n",
       "  background-color: #afcafc;\n",
       "  color: #000000;\n",
       "}\n",
       "#T_594e1_row5_col11, #T_594e1_row7_col4, #T_594e1_row12_col8 {\n",
       "  background-color: #6282ea;\n",
       "  color: #f1f1f1;\n",
       "}\n",
       "#T_594e1_row5_col12 {\n",
       "  background-color: #dfdbd9;\n",
       "  color: #000000;\n",
       "}\n",
       "#T_594e1_row6_col0 {\n",
       "  background-color: #5b7ae5;\n",
       "  color: #f1f1f1;\n",
       "}\n",
       "#T_594e1_row6_col2 {\n",
       "  background-color: #dedcdb;\n",
       "  color: #000000;\n",
       "}\n",
       "#T_594e1_row6_col4 {\n",
       "  background-color: #96b7ff;\n",
       "  color: #000000;\n",
       "}\n",
       "#T_594e1_row6_col5 {\n",
       "  background-color: #bfd3f6;\n",
       "  color: #000000;\n",
       "}\n",
       "#T_594e1_row6_col10, #T_594e1_row7_col11 {\n",
       "  background-color: #6384eb;\n",
       "  color: #f1f1f1;\n",
       "}\n",
       "#T_594e1_row6_col11, #T_594e1_row13_col11 {\n",
       "  background-color: #4f69d9;\n",
       "  color: #f1f1f1;\n",
       "}\n",
       "#T_594e1_row6_col12 {\n",
       "  background-color: #f6bea4;\n",
       "  color: #000000;\n",
       "}\n",
       "#T_594e1_row7_col1, #T_594e1_row12_col5 {\n",
       "  background-color: #cad8ef;\n",
       "  color: #000000;\n",
       "}\n",
       "#T_594e1_row7_col5, #T_594e1_row11_col5 {\n",
       "  background-color: #b3cdfb;\n",
       "  color: #000000;\n",
       "}\n",
       "#T_594e1_row7_col6 {\n",
       "  background-color: #9ebeff;\n",
       "  color: #000000;\n",
       "}\n",
       "#T_594e1_row7_col8 {\n",
       "  background-color: #adc9fd;\n",
       "  color: #000000;\n",
       "}\n",
       "#T_594e1_row7_col9 {\n",
       "  background-color: #aac7fd;\n",
       "  color: #000000;\n",
       "}\n",
       "#T_594e1_row7_col10 {\n",
       "  background-color: #5f7fe8;\n",
       "  color: #f1f1f1;\n",
       "}\n",
       "#T_594e1_row7_col12 {\n",
       "  background-color: #cdd9ec;\n",
       "  color: #000000;\n",
       "}\n",
       "#T_594e1_row7_col13 {\n",
       "  background-color: #a9c6fd;\n",
       "  color: #000000;\n",
       "}\n",
       "#T_594e1_row8_col0 {\n",
       "  background-color: #3e51c5;\n",
       "  color: #f1f1f1;\n",
       "}\n",
       "#T_594e1_row8_col1, #T_594e1_row12_col2 {\n",
       "  background-color: #f2c9b4;\n",
       "  color: #000000;\n",
       "}\n",
       "#T_594e1_row8_col2 {\n",
       "  background-color: #7396f5;\n",
       "  color: #f1f1f1;\n",
       "}\n",
       "#T_594e1_row8_col3 {\n",
       "  background-color: #4961d2;\n",
       "  color: #f1f1f1;\n",
       "}\n",
       "#T_594e1_row8_col6 {\n",
       "  background-color: #7295f4;\n",
       "  color: #f1f1f1;\n",
       "}\n",
       "#T_594e1_row8_col7, #T_594e1_row8_col10, #T_594e1_row9_col3 {\n",
       "  background-color: #4055c8;\n",
       "  color: #f1f1f1;\n",
       "}\n",
       "#T_594e1_row8_col9, #T_594e1_row9_col8, #T_594e1_row10_col0 {\n",
       "  background-color: #bd1f2d;\n",
       "  color: #f1f1f1;\n",
       "}\n",
       "#T_594e1_row8_col11, #T_594e1_row9_col11, #T_594e1_row11_col10, #T_594e1_row13_col7 {\n",
       "  background-color: #506bda;\n",
       "  color: #f1f1f1;\n",
       "}\n",
       "#T_594e1_row8_col13 {\n",
       "  background-color: #ee8669;\n",
       "  color: #f1f1f1;\n",
       "}\n",
       "#T_594e1_row9_col0 {\n",
       "  background-color: #3c4ec2;\n",
       "  color: #f1f1f1;\n",
       "}\n",
       "#T_594e1_row9_col1 {\n",
       "  background-color: #f7b89c;\n",
       "  color: #000000;\n",
       "}\n",
       "#T_594e1_row9_col6, #T_594e1_row10_col3, #T_594e1_row13_col6 {\n",
       "  background-color: #688aef;\n",
       "  color: #f1f1f1;\n",
       "}\n",
       "#T_594e1_row9_col12, #T_594e1_row11_col2 {\n",
       "  background-color: #80a3fa;\n",
       "  color: #f1f1f1;\n",
       "}\n",
       "#T_594e1_row9_col13 {\n",
       "  background-color: #f08b6e;\n",
       "  color: #f1f1f1;\n",
       "}\n",
       "#T_594e1_row10_col2 {\n",
       "  background-color: #bcd2f7;\n",
       "  color: #000000;\n",
       "}\n",
       "#T_594e1_row10_col4, #T_594e1_row10_col13 {\n",
       "  background-color: #8fb1fe;\n",
       "  color: #000000;\n",
       "}\n",
       "#T_594e1_row10_col5 {\n",
       "  background-color: #c6d6f1;\n",
       "  color: #000000;\n",
       "}\n",
       "#T_594e1_row10_col6, #T_594e1_row11_col9 {\n",
       "  background-color: #a5c3fe;\n",
       "  color: #000000;\n",
       "}\n",
       "#T_594e1_row10_col12 {\n",
       "  background-color: #d6dce4;\n",
       "  color: #000000;\n",
       "}\n",
       "#T_594e1_row11_col0 {\n",
       "  background-color: #4c66d6;\n",
       "  color: #f1f1f1;\n",
       "}\n",
       "#T_594e1_row11_col6 {\n",
       "  background-color: #92b4fe;\n",
       "  color: #000000;\n",
       "}\n",
       "#T_594e1_row11_col12 {\n",
       "  background-color: #cfdaea;\n",
       "  color: #000000;\n",
       "}\n",
       "#T_594e1_row12_col0 {\n",
       "  background-color: #6b8df0;\n",
       "  color: #f1f1f1;\n",
       "}\n",
       "#T_594e1_row12_col6 {\n",
       "  background-color: #ebd3c6;\n",
       "  color: #000000;\n",
       "}\n",
       "#T_594e1_row12_col11 {\n",
       "  background-color: #6485ec;\n",
       "  color: #f1f1f1;\n",
       "}\n",
       "#T_594e1_row13_col0, #T_594e1_row13_col4 {\n",
       "  background-color: #455cce;\n",
       "  color: #f1f1f1;\n",
       "}\n",
       "#T_594e1_row13_col1 {\n",
       "  background-color: #f5c0a7;\n",
       "  color: #000000;\n",
       "}\n",
       "#T_594e1_row13_col5 {\n",
       "  background-color: #5470de;\n",
       "  color: #f1f1f1;\n",
       "}\n",
       "#T_594e1_row13_col8 {\n",
       "  background-color: #ec8165;\n",
       "  color: #f1f1f1;\n",
       "}\n",
       "#T_594e1_row13_col9 {\n",
       "  background-color: #ee8468;\n",
       "  color: #f1f1f1;\n",
       "}\n",
       "</style>\n",
       "<table id=\"T_594e1\">\n",
       "  <thead>\n",
       "    <tr>\n",
       "      <th class=\"blank level0\" >&nbsp;</th>\n",
       "      <th id=\"T_594e1_level0_col0\" class=\"col_heading level0 col0\" >name</th>\n",
       "      <th id=\"T_594e1_level0_col1\" class=\"col_heading level0 col1\" >year</th>\n",
       "      <th id=\"T_594e1_level0_col2\" class=\"col_heading level0 col2\" >km_driven</th>\n",
       "      <th id=\"T_594e1_level0_col3\" class=\"col_heading level0 col3\" >fuel</th>\n",
       "      <th id=\"T_594e1_level0_col4\" class=\"col_heading level0 col4\" >seller_type</th>\n",
       "      <th id=\"T_594e1_level0_col5\" class=\"col_heading level0 col5\" >transmission</th>\n",
       "      <th id=\"T_594e1_level0_col6\" class=\"col_heading level0 col6\" >owner</th>\n",
       "      <th id=\"T_594e1_level0_col7\" class=\"col_heading level0 col7\" >Rating</th>\n",
       "      <th id=\"T_594e1_level0_col8\" class=\"col_heading level0 col8\" >ExShowroom Price</th>\n",
       "      <th id=\"T_594e1_level0_col9\" class=\"col_heading level0 col9\" >selling_price</th>\n",
       "      <th id=\"T_594e1_level0_col10\" class=\"col_heading level0 col10\" >company_name</th>\n",
       "      <th id=\"T_594e1_level0_col11\" class=\"col_heading level0 col11\" >km_range</th>\n",
       "      <th id=\"T_594e1_level0_col12\" class=\"col_heading level0 col12\" >year_range</th>\n",
       "      <th id=\"T_594e1_level0_col13\" class=\"col_heading level0 col13\" >ex_range</th>\n",
       "    </tr>\n",
       "  </thead>\n",
       "  <tbody>\n",
       "    <tr>\n",
       "      <th id=\"T_594e1_level0_row0\" class=\"row_heading level0 row0\" >name</th>\n",
       "      <td id=\"T_594e1_row0_col0\" class=\"data row0 col0\" >1.000000</td>\n",
       "      <td id=\"T_594e1_row0_col1\" class=\"data row0 col1\" >-0.051902</td>\n",
       "      <td id=\"T_594e1_row0_col2\" class=\"data row0 col2\" >0.126203</td>\n",
       "      <td id=\"T_594e1_row0_col3\" class=\"data row0 col3\" >-0.083850</td>\n",
       "      <td id=\"T_594e1_row0_col4\" class=\"data row0 col4\" >0.140802</td>\n",
       "      <td id=\"T_594e1_row0_col5\" class=\"data row0 col5\" >0.087785</td>\n",
       "      <td id=\"T_594e1_row0_col6\" class=\"data row0 col6\" >0.032819</td>\n",
       "      <td id=\"T_594e1_row0_col7\" class=\"data row0 col7\" >0.020311</td>\n",
       "      <td id=\"T_594e1_row0_col8\" class=\"data row0 col8\" >-0.068402</td>\n",
       "      <td id=\"T_594e1_row0_col9\" class=\"data row0 col9\" >-0.077598</td>\n",
       "      <td id=\"T_594e1_row0_col10\" class=\"data row0 col10\" >0.974513</td>\n",
       "      <td id=\"T_594e1_row0_col11\" class=\"data row0 col11\" >-0.016403</td>\n",
       "      <td id=\"T_594e1_row0_col12\" class=\"data row0 col12\" >0.085340</td>\n",
       "      <td id=\"T_594e1_row0_col13\" class=\"data row0 col13\" >-0.045323</td>\n",
       "    </tr>\n",
       "    <tr>\n",
       "      <th id=\"T_594e1_level0_row1\" class=\"row_heading level0 row1\" >year</th>\n",
       "      <td id=\"T_594e1_row1_col0\" class=\"data row1 col0\" >-0.051902</td>\n",
       "      <td id=\"T_594e1_row1_col1\" class=\"data row1 col1\" >1.000000</td>\n",
       "      <td id=\"T_594e1_row1_col2\" class=\"data row1 col2\" >-0.419688</td>\n",
       "      <td id=\"T_594e1_row1_col3\" class=\"data row1 col3\" >-0.120528</td>\n",
       "      <td id=\"T_594e1_row1_col4\" class=\"data row1 col4\" >-0.098352</td>\n",
       "      <td id=\"T_594e1_row1_col5\" class=\"data row1 col5\" >-0.143800</td>\n",
       "      <td id=\"T_594e1_row1_col6\" class=\"data row1 col6\" >-0.414705</td>\n",
       "      <td id=\"T_594e1_row1_col7\" class=\"data row1 col7\" >-0.003809</td>\n",
       "      <td id=\"T_594e1_row1_col8\" class=\"data row1 col8\" >0.304871</td>\n",
       "      <td id=\"T_594e1_row1_col9\" class=\"data row1 col9\" >0.413922</td>\n",
       "      <td id=\"T_594e1_row1_col10\" class=\"data row1 col10\" >-0.039724</td>\n",
       "      <td id=\"T_594e1_row1_col11\" class=\"data row1 col11\" >-0.048207</td>\n",
       "      <td id=\"T_594e1_row1_col12\" class=\"data row1 col12\" >-0.764325</td>\n",
       "      <td id=\"T_594e1_row1_col13\" class=\"data row1 col13\" >0.365630</td>\n",
       "    </tr>\n",
       "    <tr>\n",
       "      <th id=\"T_594e1_level0_row2\" class=\"row_heading level0 row2\" >km_driven</th>\n",
       "      <td id=\"T_594e1_row2_col0\" class=\"data row2 col0\" >0.126203</td>\n",
       "      <td id=\"T_594e1_row2_col1\" class=\"data row2 col1\" >-0.419688</td>\n",
       "      <td id=\"T_594e1_row2_col2\" class=\"data row2 col2\" >1.000000</td>\n",
       "      <td id=\"T_594e1_row2_col3\" class=\"data row2 col3\" >-0.285634</td>\n",
       "      <td id=\"T_594e1_row2_col4\" class=\"data row2 col4\" >0.113689</td>\n",
       "      <td id=\"T_594e1_row2_col5\" class=\"data row2 col5\" >0.120226</td>\n",
       "      <td id=\"T_594e1_row2_col6\" class=\"data row2 col6\" >0.297115</td>\n",
       "      <td id=\"T_594e1_row2_col7\" class=\"data row2 col7\" >-0.003163</td>\n",
       "      <td id=\"T_594e1_row2_col8\" class=\"data row2 col8\" >-0.165105</td>\n",
       "      <td id=\"T_594e1_row2_col9\" class=\"data row2 col9\" >-0.192289</td>\n",
       "      <td id=\"T_594e1_row2_col10\" class=\"data row2 col10\" >0.131461</td>\n",
       "      <td id=\"T_594e1_row2_col11\" class=\"data row2 col11\" >-0.119582</td>\n",
       "      <td id=\"T_594e1_row2_col12\" class=\"data row2 col12\" >0.441331</td>\n",
       "      <td id=\"T_594e1_row2_col13\" class=\"data row2 col13\" >-0.184287</td>\n",
       "    </tr>\n",
       "    <tr>\n",
       "      <th id=\"T_594e1_level0_row3\" class=\"row_heading level0 row3\" >fuel</th>\n",
       "      <td id=\"T_594e1_row3_col0\" class=\"data row3 col0\" >-0.083850</td>\n",
       "      <td id=\"T_594e1_row3_col1\" class=\"data row3 col1\" >-0.120528</td>\n",
       "      <td id=\"T_594e1_row3_col2\" class=\"data row3 col2\" >-0.285634</td>\n",
       "      <td id=\"T_594e1_row3_col3\" class=\"data row3 col3\" >1.000000</td>\n",
       "      <td id=\"T_594e1_row3_col4\" class=\"data row3 col4\" >0.038387</td>\n",
       "      <td id=\"T_594e1_row3_col5\" class=\"data row3 col5\" >0.040445</td>\n",
       "      <td id=\"T_594e1_row3_col6\" class=\"data row3 col6\" >-0.010301</td>\n",
       "      <td id=\"T_594e1_row3_col7\" class=\"data row3 col7\" >-0.012126</td>\n",
       "      <td id=\"T_594e1_row3_col8\" class=\"data row3 col8\" >-0.234674</td>\n",
       "      <td id=\"T_594e1_row3_col9\" class=\"data row3 col9\" >-0.269779</td>\n",
       "      <td id=\"T_594e1_row3_col10\" class=\"data row3 col10\" >-0.109394</td>\n",
       "      <td id=\"T_594e1_row3_col11\" class=\"data row3 col11\" >0.041321</td>\n",
       "      <td id=\"T_594e1_row3_col12\" class=\"data row3 col12\" >0.037367</td>\n",
       "      <td id=\"T_594e1_row3_col13\" class=\"data row3 col13\" >-0.298527</td>\n",
       "    </tr>\n",
       "    <tr>\n",
       "      <th id=\"T_594e1_level0_row4\" class=\"row_heading level0 row4\" >seller_type</th>\n",
       "      <td id=\"T_594e1_row4_col0\" class=\"data row4 col0\" >0.140802</td>\n",
       "      <td id=\"T_594e1_row4_col1\" class=\"data row4 col1\" >-0.098352</td>\n",
       "      <td id=\"T_594e1_row4_col2\" class=\"data row4 col2\" >0.113689</td>\n",
       "      <td id=\"T_594e1_row4_col3\" class=\"data row4 col3\" >0.038387</td>\n",
       "      <td id=\"T_594e1_row4_col4\" class=\"data row4 col4\" >1.000000</td>\n",
       "      <td id=\"T_594e1_row4_col5\" class=\"data row4 col5\" >0.174925</td>\n",
       "      <td id=\"T_594e1_row4_col6\" class=\"data row4 col6\" >0.165681</td>\n",
       "      <td id=\"T_594e1_row4_col7\" class=\"data row4 col7\" >-0.005921</td>\n",
       "      <td id=\"T_594e1_row4_col8\" class=\"data row4 col8\" >-0.132745</td>\n",
       "      <td id=\"T_594e1_row4_col9\" class=\"data row4 col9\" >-0.151554</td>\n",
       "      <td id=\"T_594e1_row4_col10\" class=\"data row4 col10\" >0.144218</td>\n",
       "      <td id=\"T_594e1_row4_col11\" class=\"data row4 col11\" >-0.060146</td>\n",
       "      <td id=\"T_594e1_row4_col12\" class=\"data row4 col12\" >0.088519</td>\n",
       "      <td id=\"T_594e1_row4_col13\" class=\"data row4 col13\" >-0.108782</td>\n",
       "    </tr>\n",
       "    <tr>\n",
       "      <th id=\"T_594e1_level0_row5\" class=\"row_heading level0 row5\" >transmission</th>\n",
       "      <td id=\"T_594e1_row5_col0\" class=\"data row5 col0\" >0.087785</td>\n",
       "      <td id=\"T_594e1_row5_col1\" class=\"data row5 col1\" >-0.143800</td>\n",
       "      <td id=\"T_594e1_row5_col2\" class=\"data row5 col2\" >0.120226</td>\n",
       "      <td id=\"T_594e1_row5_col3\" class=\"data row5 col3\" >0.040445</td>\n",
       "      <td id=\"T_594e1_row5_col4\" class=\"data row5 col4\" >0.174925</td>\n",
       "      <td id=\"T_594e1_row5_col5\" class=\"data row5 col5\" >1.000000</td>\n",
       "      <td id=\"T_594e1_row5_col6\" class=\"data row5 col6\" >0.078893</td>\n",
       "      <td id=\"T_594e1_row5_col7\" class=\"data row5 col7\" >0.024621</td>\n",
       "      <td id=\"T_594e1_row5_col8\" class=\"data row5 col8\" >-0.516677</td>\n",
       "      <td id=\"T_594e1_row5_col9\" class=\"data row5 col9\" >-0.530205</td>\n",
       "      <td id=\"T_594e1_row5_col10\" class=\"data row5 col10\" >0.110699</td>\n",
       "      <td id=\"T_594e1_row5_col11\" class=\"data row5 col11\" >0.021280</td>\n",
       "      <td id=\"T_594e1_row5_col12\" class=\"data row5 col12\" >0.132211</td>\n",
       "      <td id=\"T_594e1_row5_col13\" class=\"data row5 col13\" >-0.401626</td>\n",
       "    </tr>\n",
       "    <tr>\n",
       "      <th id=\"T_594e1_level0_row6\" class=\"row_heading level0 row6\" >owner</th>\n",
       "      <td id=\"T_594e1_row6_col0\" class=\"data row6 col0\" >0.032819</td>\n",
       "      <td id=\"T_594e1_row6_col1\" class=\"data row6 col1\" >-0.414705</td>\n",
       "      <td id=\"T_594e1_row6_col2\" class=\"data row6 col2\" >0.297115</td>\n",
       "      <td id=\"T_594e1_row6_col3\" class=\"data row6 col3\" >-0.010301</td>\n",
       "      <td id=\"T_594e1_row6_col4\" class=\"data row6 col4\" >0.165681</td>\n",
       "      <td id=\"T_594e1_row6_col5\" class=\"data row6 col5\" >0.078893</td>\n",
       "      <td id=\"T_594e1_row6_col6\" class=\"data row6 col6\" >1.000000</td>\n",
       "      <td id=\"T_594e1_row6_col7\" class=\"data row6 col7\" >0.007293</td>\n",
       "      <td id=\"T_594e1_row6_col8\" class=\"data row6 col8\" >-0.167726</td>\n",
       "      <td id=\"T_594e1_row6_col9\" class=\"data row6 col9\" >-0.207840</td>\n",
       "      <td id=\"T_594e1_row6_col10\" class=\"data row6 col10\" >0.036452</td>\n",
       "      <td id=\"T_594e1_row6_col11\" class=\"data row6 col11\" >-0.041118</td>\n",
       "      <td id=\"T_594e1_row6_col12\" class=\"data row6 col12\" >0.377470</td>\n",
       "      <td id=\"T_594e1_row6_col13\" class=\"data row6 col13\" >-0.209813</td>\n",
       "    </tr>\n",
       "    <tr>\n",
       "      <th id=\"T_594e1_level0_row7\" class=\"row_heading level0 row7\" >Rating</th>\n",
       "      <td id=\"T_594e1_row7_col0\" class=\"data row7 col0\" >0.020311</td>\n",
       "      <td id=\"T_594e1_row7_col1\" class=\"data row7 col1\" >-0.003809</td>\n",
       "      <td id=\"T_594e1_row7_col2\" class=\"data row7 col2\" >-0.003163</td>\n",
       "      <td id=\"T_594e1_row7_col3\" class=\"data row7 col3\" >-0.012126</td>\n",
       "      <td id=\"T_594e1_row7_col4\" class=\"data row7 col4\" >-0.005921</td>\n",
       "      <td id=\"T_594e1_row7_col5\" class=\"data row7 col5\" >0.024621</td>\n",
       "      <td id=\"T_594e1_row7_col6\" class=\"data row7 col6\" >0.007293</td>\n",
       "      <td id=\"T_594e1_row7_col7\" class=\"data row7 col7\" >1.000000</td>\n",
       "      <td id=\"T_594e1_row7_col8\" class=\"data row7 col8\" >-0.000455</td>\n",
       "      <td id=\"T_594e1_row7_col9\" class=\"data row7 col9\" >-0.021932</td>\n",
       "      <td id=\"T_594e1_row7_col10\" class=\"data row7 col10\" >0.023503</td>\n",
       "      <td id=\"T_594e1_row7_col11\" class=\"data row7 col11\" >0.025625</td>\n",
       "      <td id=\"T_594e1_row7_col12\" class=\"data row7 col12\" >0.020637</td>\n",
       "      <td id=\"T_594e1_row7_col13\" class=\"data row7 col13\" >0.050543</td>\n",
       "    </tr>\n",
       "    <tr>\n",
       "      <th id=\"T_594e1_level0_row8\" class=\"row_heading level0 row8\" >ExShowroom Price</th>\n",
       "      <td id=\"T_594e1_row8_col0\" class=\"data row8 col0\" >-0.068402</td>\n",
       "      <td id=\"T_594e1_row8_col1\" class=\"data row8 col1\" >0.304871</td>\n",
       "      <td id=\"T_594e1_row8_col2\" class=\"data row8 col2\" >-0.165105</td>\n",
       "      <td id=\"T_594e1_row8_col3\" class=\"data row8 col3\" >-0.234674</td>\n",
       "      <td id=\"T_594e1_row8_col4\" class=\"data row8 col4\" >-0.132745</td>\n",
       "      <td id=\"T_594e1_row8_col5\" class=\"data row8 col5\" >-0.516677</td>\n",
       "      <td id=\"T_594e1_row8_col6\" class=\"data row8 col6\" >-0.167726</td>\n",
       "      <td id=\"T_594e1_row8_col7\" class=\"data row8 col7\" >-0.000455</td>\n",
       "      <td id=\"T_594e1_row8_col8\" class=\"data row8 col8\" >1.000000</td>\n",
       "      <td id=\"T_594e1_row8_col9\" class=\"data row8 col9\" >0.960629</td>\n",
       "      <td id=\"T_594e1_row8_col10\" class=\"data row8 col10\" >-0.087559</td>\n",
       "      <td id=\"T_594e1_row8_col11\" class=\"data row8 col11\" >-0.040643</td>\n",
       "      <td id=\"T_594e1_row8_col12\" class=\"data row8 col12\" >-0.322120</td>\n",
       "      <td id=\"T_594e1_row8_col13\" class=\"data row8 col13\" >0.708633</td>\n",
       "    </tr>\n",
       "    <tr>\n",
       "      <th id=\"T_594e1_level0_row9\" class=\"row_heading level0 row9\" >selling_price</th>\n",
       "      <td id=\"T_594e1_row9_col0\" class=\"data row9 col0\" >-0.077598</td>\n",
       "      <td id=\"T_594e1_row9_col1\" class=\"data row9 col1\" >0.413922</td>\n",
       "      <td id=\"T_594e1_row9_col2\" class=\"data row9 col2\" >-0.192289</td>\n",
       "      <td id=\"T_594e1_row9_col3\" class=\"data row9 col3\" >-0.269779</td>\n",
       "      <td id=\"T_594e1_row9_col4\" class=\"data row9 col4\" >-0.151554</td>\n",
       "      <td id=\"T_594e1_row9_col5\" class=\"data row9 col5\" >-0.530205</td>\n",
       "      <td id=\"T_594e1_row9_col6\" class=\"data row9 col6\" >-0.207840</td>\n",
       "      <td id=\"T_594e1_row9_col7\" class=\"data row9 col7\" >-0.021932</td>\n",
       "      <td id=\"T_594e1_row9_col8\" class=\"data row9 col8\" >0.960629</td>\n",
       "      <td id=\"T_594e1_row9_col9\" class=\"data row9 col9\" >1.000000</td>\n",
       "      <td id=\"T_594e1_row9_col10\" class=\"data row9 col10\" >-0.096858</td>\n",
       "      <td id=\"T_594e1_row9_col11\" class=\"data row9 col11\" >-0.040070</td>\n",
       "      <td id=\"T_594e1_row9_col12\" class=\"data row9 col12\" >-0.385868</td>\n",
       "      <td id=\"T_594e1_row9_col13\" class=\"data row9 col13\" >0.692654</td>\n",
       "    </tr>\n",
       "    <tr>\n",
       "      <th id=\"T_594e1_level0_row10\" class=\"row_heading level0 row10\" >company_name</th>\n",
       "      <td id=\"T_594e1_row10_col0\" class=\"data row10 col0\" >0.974513</td>\n",
       "      <td id=\"T_594e1_row10_col1\" class=\"data row10 col1\" >-0.039724</td>\n",
       "      <td id=\"T_594e1_row10_col2\" class=\"data row10 col2\" >0.131461</td>\n",
       "      <td id=\"T_594e1_row10_col3\" class=\"data row10 col3\" >-0.109394</td>\n",
       "      <td id=\"T_594e1_row10_col4\" class=\"data row10 col4\" >0.144218</td>\n",
       "      <td id=\"T_594e1_row10_col5\" class=\"data row10 col5\" >0.110699</td>\n",
       "      <td id=\"T_594e1_row10_col6\" class=\"data row10 col6\" >0.036452</td>\n",
       "      <td id=\"T_594e1_row10_col7\" class=\"data row10 col7\" >0.023503</td>\n",
       "      <td id=\"T_594e1_row10_col8\" class=\"data row10 col8\" >-0.087559</td>\n",
       "      <td id=\"T_594e1_row10_col9\" class=\"data row10 col9\" >-0.096858</td>\n",
       "      <td id=\"T_594e1_row10_col10\" class=\"data row10 col10\" >1.000000</td>\n",
       "      <td id=\"T_594e1_row10_col11\" class=\"data row10 col11\" >-0.029891</td>\n",
       "      <td id=\"T_594e1_row10_col12\" class=\"data row10 col12\" >0.070120</td>\n",
       "      <td id=\"T_594e1_row10_col13\" class=\"data row10 col13\" >-0.049385</td>\n",
       "    </tr>\n",
       "    <tr>\n",
       "      <th id=\"T_594e1_level0_row11\" class=\"row_heading level0 row11\" >km_range</th>\n",
       "      <td id=\"T_594e1_row11_col0\" class=\"data row11 col0\" >-0.016403</td>\n",
       "      <td id=\"T_594e1_row11_col1\" class=\"data row11 col1\" >-0.048207</td>\n",
       "      <td id=\"T_594e1_row11_col2\" class=\"data row11 col2\" >-0.119582</td>\n",
       "      <td id=\"T_594e1_row11_col3\" class=\"data row11 col3\" >0.041321</td>\n",
       "      <td id=\"T_594e1_row11_col4\" class=\"data row11 col4\" >-0.060146</td>\n",
       "      <td id=\"T_594e1_row11_col5\" class=\"data row11 col5\" >0.021280</td>\n",
       "      <td id=\"T_594e1_row11_col6\" class=\"data row11 col6\" >-0.041118</td>\n",
       "      <td id=\"T_594e1_row11_col7\" class=\"data row11 col7\" >0.025625</td>\n",
       "      <td id=\"T_594e1_row11_col8\" class=\"data row11 col8\" >-0.040643</td>\n",
       "      <td id=\"T_594e1_row11_col9\" class=\"data row11 col9\" >-0.040070</td>\n",
       "      <td id=\"T_594e1_row11_col10\" class=\"data row11 col10\" >-0.029891</td>\n",
       "      <td id=\"T_594e1_row11_col11\" class=\"data row11 col11\" >1.000000</td>\n",
       "      <td id=\"T_594e1_row11_col12\" class=\"data row11 col12\" >0.029637</td>\n",
       "      <td id=\"T_594e1_row11_col13\" class=\"data row11 col13\" >-0.045041</td>\n",
       "    </tr>\n",
       "    <tr>\n",
       "      <th id=\"T_594e1_level0_row12\" class=\"row_heading level0 row12\" >year_range</th>\n",
       "      <td id=\"T_594e1_row12_col0\" class=\"data row12 col0\" >0.085340</td>\n",
       "      <td id=\"T_594e1_row12_col1\" class=\"data row12 col1\" >-0.764325</td>\n",
       "      <td id=\"T_594e1_row12_col2\" class=\"data row12 col2\" >0.441331</td>\n",
       "      <td id=\"T_594e1_row12_col3\" class=\"data row12 col3\" >0.037367</td>\n",
       "      <td id=\"T_594e1_row12_col4\" class=\"data row12 col4\" >0.088519</td>\n",
       "      <td id=\"T_594e1_row12_col5\" class=\"data row12 col5\" >0.132211</td>\n",
       "      <td id=\"T_594e1_row12_col6\" class=\"data row12 col6\" >0.377470</td>\n",
       "      <td id=\"T_594e1_row12_col7\" class=\"data row12 col7\" >0.020637</td>\n",
       "      <td id=\"T_594e1_row12_col8\" class=\"data row12 col8\" >-0.322120</td>\n",
       "      <td id=\"T_594e1_row12_col9\" class=\"data row12 col9\" >-0.385868</td>\n",
       "      <td id=\"T_594e1_row12_col10\" class=\"data row12 col10\" >0.070120</td>\n",
       "      <td id=\"T_594e1_row12_col11\" class=\"data row12 col11\" >0.029637</td>\n",
       "      <td id=\"T_594e1_row12_col12\" class=\"data row12 col12\" >1.000000</td>\n",
       "      <td id=\"T_594e1_row12_col13\" class=\"data row12 col13\" >-0.413773</td>\n",
       "    </tr>\n",
       "    <tr>\n",
       "      <th id=\"T_594e1_level0_row13\" class=\"row_heading level0 row13\" >ex_range</th>\n",
       "      <td id=\"T_594e1_row13_col0\" class=\"data row13 col0\" >-0.045323</td>\n",
       "      <td id=\"T_594e1_row13_col1\" class=\"data row13 col1\" >0.365630</td>\n",
       "      <td id=\"T_594e1_row13_col2\" class=\"data row13 col2\" >-0.184287</td>\n",
       "      <td id=\"T_594e1_row13_col3\" class=\"data row13 col3\" >-0.298527</td>\n",
       "      <td id=\"T_594e1_row13_col4\" class=\"data row13 col4\" >-0.108782</td>\n",
       "      <td id=\"T_594e1_row13_col5\" class=\"data row13 col5\" >-0.401626</td>\n",
       "      <td id=\"T_594e1_row13_col6\" class=\"data row13 col6\" >-0.209813</td>\n",
       "      <td id=\"T_594e1_row13_col7\" class=\"data row13 col7\" >0.050543</td>\n",
       "      <td id=\"T_594e1_row13_col8\" class=\"data row13 col8\" >0.708633</td>\n",
       "      <td id=\"T_594e1_row13_col9\" class=\"data row13 col9\" >0.692654</td>\n",
       "      <td id=\"T_594e1_row13_col10\" class=\"data row13 col10\" >-0.049385</td>\n",
       "      <td id=\"T_594e1_row13_col11\" class=\"data row13 col11\" >-0.045041</td>\n",
       "      <td id=\"T_594e1_row13_col12\" class=\"data row13 col12\" >-0.413773</td>\n",
       "      <td id=\"T_594e1_row13_col13\" class=\"data row13 col13\" >1.000000</td>\n",
       "    </tr>\n",
       "  </tbody>\n",
       "</table>\n"
      ],
      "text/plain": [
       "<pandas.io.formats.style.Styler at 0x1f86ec4c5b0>"
      ]
     },
     "execution_count": 25,
     "metadata": {},
     "output_type": "execute_result"
    }
   ],
   "source": [
    "corr = data.corr()\n",
    "corr.style.background_gradient(cmap = \"coolwarm\")"
   ]
  },
  {
   "cell_type": "code",
   "execution_count": 26,
   "metadata": {},
   "outputs": [
    {
     "data": {
      "text/html": [
       "<div>\n",
       "<style scoped>\n",
       "    .dataframe tbody tr th:only-of-type {\n",
       "        vertical-align: middle;\n",
       "    }\n",
       "\n",
       "    .dataframe tbody tr th {\n",
       "        vertical-align: top;\n",
       "    }\n",
       "\n",
       "    .dataframe thead th {\n",
       "        text-align: right;\n",
       "    }\n",
       "</style>\n",
       "<table border=\"1\" class=\"dataframe\">\n",
       "  <thead>\n",
       "    <tr style=\"text-align: right;\">\n",
       "      <th></th>\n",
       "      <th>year</th>\n",
       "      <th>km_driven</th>\n",
       "      <th>fuel</th>\n",
       "      <th>seller_type</th>\n",
       "      <th>transmission</th>\n",
       "      <th>owner</th>\n",
       "      <th>Rating</th>\n",
       "      <th>selling_price</th>\n",
       "      <th>company_name</th>\n",
       "      <th>km_range</th>\n",
       "      <th>year_range</th>\n",
       "      <th>ex_range</th>\n",
       "    </tr>\n",
       "  </thead>\n",
       "  <tbody>\n",
       "    <tr>\n",
       "      <th>0</th>\n",
       "      <td>2010</td>\n",
       "      <td>120000</td>\n",
       "      <td>1</td>\n",
       "      <td>1</td>\n",
       "      <td>1</td>\n",
       "      <td>2</td>\n",
       "      <td>9.0</td>\n",
       "      <td>100000</td>\n",
       "      <td>25</td>\n",
       "      <td>0</td>\n",
       "      <td>3</td>\n",
       "      <td>0</td>\n",
       "    </tr>\n",
       "    <tr>\n",
       "      <th>1</th>\n",
       "      <td>2012</td>\n",
       "      <td>50000</td>\n",
       "      <td>4</td>\n",
       "      <td>1</td>\n",
       "      <td>1</td>\n",
       "      <td>2</td>\n",
       "      <td>9.0</td>\n",
       "      <td>100000</td>\n",
       "      <td>25</td>\n",
       "      <td>2</td>\n",
       "      <td>3</td>\n",
       "      <td>0</td>\n",
       "    </tr>\n",
       "  </tbody>\n",
       "</table>\n",
       "</div>"
      ],
      "text/plain": [
       "   year  km_driven  fuel  seller_type  transmission  owner  Rating  \\\n",
       "0  2010     120000     1            1             1      2     9.0   \n",
       "1  2012      50000     4            1             1      2     9.0   \n",
       "\n",
       "   selling_price  company_name  km_range  year_range  ex_range  \n",
       "0         100000            25         0           3         0  \n",
       "1         100000            25         2           3         0  "
      ]
     },
     "execution_count": 26,
     "metadata": {},
     "output_type": "execute_result"
    }
   ],
   "source": [
    "data = data.drop([\"name\", \"ExShowroom Price\"], axis= 1)\n",
    "data.head(2)"
   ]
  },
  {
   "attachments": {},
   "cell_type": "markdown",
   "metadata": {},
   "source": [
    "### Define X & Y"
   ]
  },
  {
   "attachments": {},
   "cell_type": "markdown",
   "metadata": {},
   "source": [
    "##### Independent Vaiables"
   ]
  },
  {
   "cell_type": "code",
   "execution_count": 27,
   "metadata": {},
   "outputs": [],
   "source": [
    "X = data.drop(\"selling_price\", axis = 1)"
   ]
  },
  {
   "attachments": {},
   "cell_type": "markdown",
   "metadata": {},
   "source": [
    "##### Dependent / Target Variable"
   ]
  },
  {
   "cell_type": "code",
   "execution_count": 28,
   "metadata": {},
   "outputs": [],
   "source": [
    "y = data.selling_price"
   ]
  },
  {
   "cell_type": "code",
   "execution_count": 29,
   "metadata": {},
   "outputs": [
    {
     "data": {
      "text/html": [
       "<div>\n",
       "<style scoped>\n",
       "    .dataframe tbody tr th:only-of-type {\n",
       "        vertical-align: middle;\n",
       "    }\n",
       "\n",
       "    .dataframe tbody tr th {\n",
       "        vertical-align: top;\n",
       "    }\n",
       "\n",
       "    .dataframe thead th {\n",
       "        text-align: right;\n",
       "    }\n",
       "</style>\n",
       "<table border=\"1\" class=\"dataframe\">\n",
       "  <thead>\n",
       "    <tr style=\"text-align: right;\">\n",
       "      <th></th>\n",
       "      <th>year</th>\n",
       "      <th>km_driven</th>\n",
       "      <th>fuel</th>\n",
       "      <th>seller_type</th>\n",
       "      <th>transmission</th>\n",
       "      <th>owner</th>\n",
       "      <th>Rating</th>\n",
       "      <th>company_name</th>\n",
       "      <th>km_range</th>\n",
       "      <th>year_range</th>\n",
       "      <th>ex_range</th>\n",
       "    </tr>\n",
       "  </thead>\n",
       "  <tbody>\n",
       "    <tr>\n",
       "      <th>0</th>\n",
       "      <td>2010</td>\n",
       "      <td>120000</td>\n",
       "      <td>1</td>\n",
       "      <td>1</td>\n",
       "      <td>1</td>\n",
       "      <td>2</td>\n",
       "      <td>9.0</td>\n",
       "      <td>25</td>\n",
       "      <td>0</td>\n",
       "      <td>3</td>\n",
       "      <td>0</td>\n",
       "    </tr>\n",
       "    <tr>\n",
       "      <th>1</th>\n",
       "      <td>2012</td>\n",
       "      <td>50000</td>\n",
       "      <td>4</td>\n",
       "      <td>1</td>\n",
       "      <td>1</td>\n",
       "      <td>2</td>\n",
       "      <td>9.0</td>\n",
       "      <td>25</td>\n",
       "      <td>2</td>\n",
       "      <td>3</td>\n",
       "      <td>0</td>\n",
       "    </tr>\n",
       "  </tbody>\n",
       "</table>\n",
       "</div>"
      ],
      "text/plain": [
       "   year  km_driven  fuel  seller_type  transmission  owner  Rating  \\\n",
       "0  2010     120000     1            1             1      2     9.0   \n",
       "1  2012      50000     4            1             1      2     9.0   \n",
       "\n",
       "   company_name  km_range  year_range  ex_range  \n",
       "0            25         0           3         0  \n",
       "1            25         2           3         0  "
      ]
     },
     "execution_count": 29,
     "metadata": {},
     "output_type": "execute_result"
    }
   ],
   "source": [
    "X.head(2)"
   ]
  },
  {
   "cell_type": "code",
   "execution_count": 30,
   "metadata": {},
   "outputs": [
    {
     "data": {
      "text/plain": [
       "0    100000\n",
       "1    100000\n",
       "Name: selling_price, dtype: int64"
      ]
     },
     "execution_count": 30,
     "metadata": {},
     "output_type": "execute_result"
    }
   ],
   "source": [
    "y.head(2)"
   ]
  },
  {
   "cell_type": "code",
   "execution_count": 31,
   "metadata": {},
   "outputs": [
    {
     "data": {
      "text/html": [
       "<div>\n",
       "<style scoped>\n",
       "    .dataframe tbody tr th:only-of-type {\n",
       "        vertical-align: middle;\n",
       "    }\n",
       "\n",
       "    .dataframe tbody tr th {\n",
       "        vertical-align: top;\n",
       "    }\n",
       "\n",
       "    .dataframe thead th {\n",
       "        text-align: right;\n",
       "    }\n",
       "</style>\n",
       "<table border=\"1\" class=\"dataframe\">\n",
       "  <thead>\n",
       "    <tr style=\"text-align: right;\">\n",
       "      <th></th>\n",
       "      <th>year</th>\n",
       "      <th>km_driven</th>\n",
       "      <th>fuel</th>\n",
       "      <th>seller_type</th>\n",
       "      <th>transmission</th>\n",
       "      <th>owner</th>\n",
       "      <th>Rating</th>\n",
       "      <th>selling_price</th>\n",
       "      <th>company_name</th>\n",
       "      <th>km_range</th>\n",
       "      <th>year_range</th>\n",
       "      <th>ex_range</th>\n",
       "    </tr>\n",
       "  </thead>\n",
       "  <tbody>\n",
       "    <tr>\n",
       "      <th>0</th>\n",
       "      <td>2010</td>\n",
       "      <td>120000</td>\n",
       "      <td>1</td>\n",
       "      <td>1</td>\n",
       "      <td>1</td>\n",
       "      <td>2</td>\n",
       "      <td>9.0</td>\n",
       "      <td>100000</td>\n",
       "      <td>25</td>\n",
       "      <td>0</td>\n",
       "      <td>3</td>\n",
       "      <td>0</td>\n",
       "    </tr>\n",
       "    <tr>\n",
       "      <th>1</th>\n",
       "      <td>2012</td>\n",
       "      <td>50000</td>\n",
       "      <td>4</td>\n",
       "      <td>1</td>\n",
       "      <td>1</td>\n",
       "      <td>2</td>\n",
       "      <td>9.0</td>\n",
       "      <td>100000</td>\n",
       "      <td>25</td>\n",
       "      <td>2</td>\n",
       "      <td>3</td>\n",
       "      <td>0</td>\n",
       "    </tr>\n",
       "  </tbody>\n",
       "</table>\n",
       "</div>"
      ],
      "text/plain": [
       "   year  km_driven  fuel  seller_type  transmission  owner  Rating  \\\n",
       "0  2010     120000     1            1             1      2     9.0   \n",
       "1  2012      50000     4            1             1      2     9.0   \n",
       "\n",
       "   selling_price  company_name  km_range  year_range  ex_range  \n",
       "0         100000            25         0           3         0  \n",
       "1         100000            25         2           3         0  "
      ]
     },
     "execution_count": 31,
     "metadata": {},
     "output_type": "execute_result"
    }
   ],
   "source": [
    "data.head(2)"
   ]
  },
  {
   "attachments": {},
   "cell_type": "markdown",
   "metadata": {},
   "source": [
    "### Data Scaling"
   ]
  },
  {
   "cell_type": "code",
   "execution_count": 32,
   "metadata": {},
   "outputs": [
    {
     "data": {
      "text/html": [
       "<div>\n",
       "<style scoped>\n",
       "    .dataframe tbody tr th:only-of-type {\n",
       "        vertical-align: middle;\n",
       "    }\n",
       "\n",
       "    .dataframe tbody tr th {\n",
       "        vertical-align: top;\n",
       "    }\n",
       "\n",
       "    .dataframe thead th {\n",
       "        text-align: right;\n",
       "    }\n",
       "</style>\n",
       "<table border=\"1\" class=\"dataframe\">\n",
       "  <thead>\n",
       "    <tr style=\"text-align: right;\">\n",
       "      <th></th>\n",
       "      <th>year</th>\n",
       "      <th>km_driven</th>\n",
       "      <th>fuel</th>\n",
       "      <th>seller_type</th>\n",
       "      <th>transmission</th>\n",
       "      <th>owner</th>\n",
       "      <th>Rating</th>\n",
       "      <th>company_name</th>\n",
       "      <th>km_range</th>\n",
       "      <th>year_range</th>\n",
       "      <th>ex_range</th>\n",
       "    </tr>\n",
       "  </thead>\n",
       "  <tbody>\n",
       "    <tr>\n",
       "      <th>count</th>\n",
       "      <td>4340.00</td>\n",
       "      <td>4340.00</td>\n",
       "      <td>4340.00</td>\n",
       "      <td>4340.00</td>\n",
       "      <td>4340.0</td>\n",
       "      <td>4340.00</td>\n",
       "      <td>4340.00</td>\n",
       "      <td>4340.00</td>\n",
       "      <td>4340.00</td>\n",
       "      <td>4340.00</td>\n",
       "      <td>4340.00</td>\n",
       "    </tr>\n",
       "    <tr>\n",
       "      <th>mean</th>\n",
       "      <td>2013.09</td>\n",
       "      <td>66215.78</td>\n",
       "      <td>2.47</td>\n",
       "      <td>0.79</td>\n",
       "      <td>0.9</td>\n",
       "      <td>0.82</td>\n",
       "      <td>11.96</td>\n",
       "      <td>15.56</td>\n",
       "      <td>1.44</td>\n",
       "      <td>1.61</td>\n",
       "      <td>0.97</td>\n",
       "    </tr>\n",
       "    <tr>\n",
       "      <th>std</th>\n",
       "      <td>4.22</td>\n",
       "      <td>46644.10</td>\n",
       "      <td>1.51</td>\n",
       "      <td>0.46</td>\n",
       "      <td>0.3</td>\n",
       "      <td>1.23</td>\n",
       "      <td>1.91</td>\n",
       "      <td>6.81</td>\n",
       "      <td>0.76</td>\n",
       "      <td>1.10</td>\n",
       "      <td>0.93</td>\n",
       "    </tr>\n",
       "    <tr>\n",
       "      <th>min</th>\n",
       "      <td>1992.00</td>\n",
       "      <td>1.00</td>\n",
       "      <td>0.00</td>\n",
       "      <td>0.00</td>\n",
       "      <td>0.0</td>\n",
       "      <td>0.00</td>\n",
       "      <td>9.00</td>\n",
       "      <td>0.00</td>\n",
       "      <td>0.00</td>\n",
       "      <td>0.00</td>\n",
       "      <td>0.00</td>\n",
       "    </tr>\n",
       "    <tr>\n",
       "      <th>25%</th>\n",
       "      <td>2011.00</td>\n",
       "      <td>35000.00</td>\n",
       "      <td>1.00</td>\n",
       "      <td>1.00</td>\n",
       "      <td>1.0</td>\n",
       "      <td>0.00</td>\n",
       "      <td>10.02</td>\n",
       "      <td>10.00</td>\n",
       "      <td>1.00</td>\n",
       "      <td>1.00</td>\n",
       "      <td>0.00</td>\n",
       "    </tr>\n",
       "    <tr>\n",
       "      <th>50%</th>\n",
       "      <td>2014.00</td>\n",
       "      <td>60000.00</td>\n",
       "      <td>1.00</td>\n",
       "      <td>1.00</td>\n",
       "      <td>1.0</td>\n",
       "      <td>0.00</td>\n",
       "      <td>12.00</td>\n",
       "      <td>18.00</td>\n",
       "      <td>2.00</td>\n",
       "      <td>1.00</td>\n",
       "      <td>1.00</td>\n",
       "    </tr>\n",
       "    <tr>\n",
       "      <th>75%</th>\n",
       "      <td>2016.00</td>\n",
       "      <td>90000.00</td>\n",
       "      <td>4.00</td>\n",
       "      <td>1.00</td>\n",
       "      <td>1.0</td>\n",
       "      <td>2.00</td>\n",
       "      <td>13.76</td>\n",
       "      <td>18.00</td>\n",
       "      <td>2.00</td>\n",
       "      <td>3.00</td>\n",
       "      <td>1.00</td>\n",
       "    </tr>\n",
       "    <tr>\n",
       "      <th>max</th>\n",
       "      <td>2020.00</td>\n",
       "      <td>806599.00</td>\n",
       "      <td>4.00</td>\n",
       "      <td>2.00</td>\n",
       "      <td>1.0</td>\n",
       "      <td>4.00</td>\n",
       "      <td>15.00</td>\n",
       "      <td>28.00</td>\n",
       "      <td>3.00</td>\n",
       "      <td>3.00</td>\n",
       "      <td>3.00</td>\n",
       "    </tr>\n",
       "  </tbody>\n",
       "</table>\n",
       "</div>"
      ],
      "text/plain": [
       "          year  km_driven     fuel  seller_type  transmission    owner  \\\n",
       "count  4340.00    4340.00  4340.00      4340.00        4340.0  4340.00   \n",
       "mean   2013.09   66215.78     2.47         0.79           0.9     0.82   \n",
       "std       4.22   46644.10     1.51         0.46           0.3     1.23   \n",
       "min    1992.00       1.00     0.00         0.00           0.0     0.00   \n",
       "25%    2011.00   35000.00     1.00         1.00           1.0     0.00   \n",
       "50%    2014.00   60000.00     1.00         1.00           1.0     0.00   \n",
       "75%    2016.00   90000.00     4.00         1.00           1.0     2.00   \n",
       "max    2020.00  806599.00     4.00         2.00           1.0     4.00   \n",
       "\n",
       "        Rating  company_name  km_range  year_range  ex_range  \n",
       "count  4340.00       4340.00   4340.00     4340.00   4340.00  \n",
       "mean     11.96         15.56      1.44        1.61      0.97  \n",
       "std       1.91          6.81      0.76        1.10      0.93  \n",
       "min       9.00          0.00      0.00        0.00      0.00  \n",
       "25%      10.02         10.00      1.00        1.00      0.00  \n",
       "50%      12.00         18.00      2.00        1.00      1.00  \n",
       "75%      13.76         18.00      2.00        3.00      1.00  \n",
       "max      15.00         28.00      3.00        3.00      3.00  "
      ]
     },
     "execution_count": 32,
     "metadata": {},
     "output_type": "execute_result"
    }
   ],
   "source": [
    "round(X.describe(), 2)"
   ]
  },
  {
   "cell_type": "code",
   "execution_count": 33,
   "metadata": {},
   "outputs": [
    {
     "data": {
      "text/html": [
       "<div>\n",
       "<style scoped>\n",
       "    .dataframe tbody tr th:only-of-type {\n",
       "        vertical-align: middle;\n",
       "    }\n",
       "\n",
       "    .dataframe tbody tr th {\n",
       "        vertical-align: top;\n",
       "    }\n",
       "\n",
       "    .dataframe thead th {\n",
       "        text-align: right;\n",
       "    }\n",
       "</style>\n",
       "<table border=\"1\" class=\"dataframe\">\n",
       "  <thead>\n",
       "    <tr style=\"text-align: right;\">\n",
       "      <th></th>\n",
       "      <th>year</th>\n",
       "      <th>km_driven</th>\n",
       "      <th>fuel</th>\n",
       "      <th>seller_type</th>\n",
       "      <th>transmission</th>\n",
       "      <th>owner</th>\n",
       "      <th>Rating</th>\n",
       "      <th>company_name</th>\n",
       "      <th>km_range</th>\n",
       "      <th>year_range</th>\n",
       "      <th>ex_range</th>\n",
       "    </tr>\n",
       "  </thead>\n",
       "  <tbody>\n",
       "    <tr>\n",
       "      <th>count</th>\n",
       "      <td>4340.00</td>\n",
       "      <td>4340.00</td>\n",
       "      <td>4340.00</td>\n",
       "      <td>4340.00</td>\n",
       "      <td>4340.0</td>\n",
       "      <td>4340.00</td>\n",
       "      <td>4340.00</td>\n",
       "      <td>4340.00</td>\n",
       "      <td>4340.00</td>\n",
       "      <td>4340.00</td>\n",
       "      <td>4340.00</td>\n",
       "    </tr>\n",
       "    <tr>\n",
       "      <th>mean</th>\n",
       "      <td>1.00</td>\n",
       "      <td>0.08</td>\n",
       "      <td>0.62</td>\n",
       "      <td>0.40</td>\n",
       "      <td>0.9</td>\n",
       "      <td>0.21</td>\n",
       "      <td>0.80</td>\n",
       "      <td>0.56</td>\n",
       "      <td>0.48</td>\n",
       "      <td>0.54</td>\n",
       "      <td>0.32</td>\n",
       "    </tr>\n",
       "    <tr>\n",
       "      <th>std</th>\n",
       "      <td>0.00</td>\n",
       "      <td>0.06</td>\n",
       "      <td>0.38</td>\n",
       "      <td>0.23</td>\n",
       "      <td>0.3</td>\n",
       "      <td>0.31</td>\n",
       "      <td>0.13</td>\n",
       "      <td>0.24</td>\n",
       "      <td>0.25</td>\n",
       "      <td>0.37</td>\n",
       "      <td>0.31</td>\n",
       "    </tr>\n",
       "    <tr>\n",
       "      <th>min</th>\n",
       "      <td>0.99</td>\n",
       "      <td>0.00</td>\n",
       "      <td>0.00</td>\n",
       "      <td>0.00</td>\n",
       "      <td>0.0</td>\n",
       "      <td>0.00</td>\n",
       "      <td>0.60</td>\n",
       "      <td>0.00</td>\n",
       "      <td>0.00</td>\n",
       "      <td>0.00</td>\n",
       "      <td>0.00</td>\n",
       "    </tr>\n",
       "    <tr>\n",
       "      <th>25%</th>\n",
       "      <td>1.00</td>\n",
       "      <td>0.04</td>\n",
       "      <td>0.25</td>\n",
       "      <td>0.50</td>\n",
       "      <td>1.0</td>\n",
       "      <td>0.00</td>\n",
       "      <td>0.67</td>\n",
       "      <td>0.36</td>\n",
       "      <td>0.33</td>\n",
       "      <td>0.33</td>\n",
       "      <td>0.00</td>\n",
       "    </tr>\n",
       "    <tr>\n",
       "      <th>50%</th>\n",
       "      <td>1.00</td>\n",
       "      <td>0.07</td>\n",
       "      <td>0.25</td>\n",
       "      <td>0.50</td>\n",
       "      <td>1.0</td>\n",
       "      <td>0.00</td>\n",
       "      <td>0.80</td>\n",
       "      <td>0.64</td>\n",
       "      <td>0.67</td>\n",
       "      <td>0.33</td>\n",
       "      <td>0.33</td>\n",
       "    </tr>\n",
       "    <tr>\n",
       "      <th>75%</th>\n",
       "      <td>1.00</td>\n",
       "      <td>0.11</td>\n",
       "      <td>1.00</td>\n",
       "      <td>0.50</td>\n",
       "      <td>1.0</td>\n",
       "      <td>0.50</td>\n",
       "      <td>0.92</td>\n",
       "      <td>0.64</td>\n",
       "      <td>0.67</td>\n",
       "      <td>1.00</td>\n",
       "      <td>0.33</td>\n",
       "    </tr>\n",
       "    <tr>\n",
       "      <th>max</th>\n",
       "      <td>1.00</td>\n",
       "      <td>1.00</td>\n",
       "      <td>1.00</td>\n",
       "      <td>1.00</td>\n",
       "      <td>1.0</td>\n",
       "      <td>1.00</td>\n",
       "      <td>1.00</td>\n",
       "      <td>1.00</td>\n",
       "      <td>1.00</td>\n",
       "      <td>1.00</td>\n",
       "      <td>1.00</td>\n",
       "    </tr>\n",
       "  </tbody>\n",
       "</table>\n",
       "</div>"
      ],
      "text/plain": [
       "          year  km_driven     fuel  seller_type  transmission    owner  \\\n",
       "count  4340.00    4340.00  4340.00      4340.00        4340.0  4340.00   \n",
       "mean      1.00       0.08     0.62         0.40           0.9     0.21   \n",
       "std       0.00       0.06     0.38         0.23           0.3     0.31   \n",
       "min       0.99       0.00     0.00         0.00           0.0     0.00   \n",
       "25%       1.00       0.04     0.25         0.50           1.0     0.00   \n",
       "50%       1.00       0.07     0.25         0.50           1.0     0.00   \n",
       "75%       1.00       0.11     1.00         0.50           1.0     0.50   \n",
       "max       1.00       1.00     1.00         1.00           1.0     1.00   \n",
       "\n",
       "        Rating  company_name  km_range  year_range  ex_range  \n",
       "count  4340.00       4340.00   4340.00     4340.00   4340.00  \n",
       "mean      0.80          0.56      0.48        0.54      0.32  \n",
       "std       0.13          0.24      0.25        0.37      0.31  \n",
       "min       0.60          0.00      0.00        0.00      0.00  \n",
       "25%       0.67          0.36      0.33        0.33      0.00  \n",
       "50%       0.80          0.64      0.67        0.33      0.33  \n",
       "75%       0.92          0.64      0.67        1.00      0.33  \n",
       "max       1.00          1.00      1.00        1.00      1.00  "
      ]
     },
     "execution_count": 33,
     "metadata": {},
     "output_type": "execute_result"
    }
   ],
   "source": [
    "all_x = list(X.columns)\n",
    "X[all_x] = X[all_x]/(X[all_x].max())\n",
    "round(X.describe(), 2)"
   ]
  },
  {
   "attachments": {},
   "cell_type": "markdown",
   "metadata": {},
   "source": [
    "### Dividing dataset into training and testing data"
   ]
  },
  {
   "cell_type": "code",
   "execution_count": 34,
   "metadata": {},
   "outputs": [
    {
     "name": "stdout",
     "output_type": "stream",
     "text": [
      "3038\n",
      "1302\n"
     ]
    }
   ],
   "source": [
    "X_train, X_test, y_train, y_test = train_test_split(X, y, test_size = 0.3, random_state = 1234)\n",
    "print(len(X_train))\n",
    "print(len(X_test))"
   ]
  },
  {
   "cell_type": "code",
   "execution_count": 35,
   "metadata": {},
   "outputs": [
    {
     "name": "stdout",
     "output_type": "stream",
     "text": [
      "3038\n",
      "1302\n"
     ]
    }
   ],
   "source": [
    "print(len(y_train))\n",
    "print(len(y_test))"
   ]
  },
  {
   "attachments": {},
   "cell_type": "markdown",
   "metadata": {},
   "source": [
    "### Data Preprocessing ends here"
   ]
  },
  {
   "attachments": {},
   "cell_type": "markdown",
   "metadata": {},
   "source": [
    "### Regression"
   ]
  },
  {
   "attachments": {},
   "cell_type": "markdown",
   "metadata": {},
   "source": [
    "### Step 1: Polynomial Feature Creation"
   ]
  },
  {
   "cell_type": "code",
   "execution_count": 36,
   "metadata": {},
   "outputs": [],
   "source": [
    "poly_reg = PolynomialFeatures(degree=2)\n",
    "X_train_p = poly_reg.fit_transform(X_train)\n",
    "X_test_p = poly_reg.fit_transform(X_test)"
   ]
  },
  {
   "cell_type": "code",
   "execution_count": 37,
   "metadata": {},
   "outputs": [
    {
     "name": "stdout",
     "output_type": "stream",
     "text": [
      "78\n"
     ]
    }
   ],
   "source": [
    "total_columns = len(X_train_p[0])\n",
    "print(total_columns)"
   ]
  },
  {
   "attachments": {},
   "cell_type": "markdown",
   "metadata": {},
   "source": [
    "### Method 1 : Linear Regression"
   ]
  },
  {
   "attachments": {},
   "cell_type": "markdown",
   "metadata": {},
   "source": [
    "##### *Define Model*"
   ]
  },
  {
   "cell_type": "code",
   "execution_count": 38,
   "metadata": {},
   "outputs": [],
   "source": [
    "model = LinearRegression()"
   ]
  },
  {
   "attachments": {},
   "cell_type": "markdown",
   "metadata": {},
   "source": [
    "##### *Fit the train data*"
   ]
  },
  {
   "cell_type": "code",
   "execution_count": 39,
   "metadata": {},
   "outputs": [
    {
     "data": {
      "text/html": [
       "<style>#sk-container-id-1 {color: black;background-color: white;}#sk-container-id-1 pre{padding: 0;}#sk-container-id-1 div.sk-toggleable {background-color: white;}#sk-container-id-1 label.sk-toggleable__label {cursor: pointer;display: block;width: 100%;margin-bottom: 0;padding: 0.3em;box-sizing: border-box;text-align: center;}#sk-container-id-1 label.sk-toggleable__label-arrow:before {content: \"▸\";float: left;margin-right: 0.25em;color: #696969;}#sk-container-id-1 label.sk-toggleable__label-arrow:hover:before {color: black;}#sk-container-id-1 div.sk-estimator:hover label.sk-toggleable__label-arrow:before {color: black;}#sk-container-id-1 div.sk-toggleable__content {max-height: 0;max-width: 0;overflow: hidden;text-align: left;background-color: #f0f8ff;}#sk-container-id-1 div.sk-toggleable__content pre {margin: 0.2em;color: black;border-radius: 0.25em;background-color: #f0f8ff;}#sk-container-id-1 input.sk-toggleable__control:checked~div.sk-toggleable__content {max-height: 200px;max-width: 100%;overflow: auto;}#sk-container-id-1 input.sk-toggleable__control:checked~label.sk-toggleable__label-arrow:before {content: \"▾\";}#sk-container-id-1 div.sk-estimator input.sk-toggleable__control:checked~label.sk-toggleable__label {background-color: #d4ebff;}#sk-container-id-1 div.sk-label input.sk-toggleable__control:checked~label.sk-toggleable__label {background-color: #d4ebff;}#sk-container-id-1 input.sk-hidden--visually {border: 0;clip: rect(1px 1px 1px 1px);clip: rect(1px, 1px, 1px, 1px);height: 1px;margin: -1px;overflow: hidden;padding: 0;position: absolute;width: 1px;}#sk-container-id-1 div.sk-estimator {font-family: monospace;background-color: #f0f8ff;border: 1px dotted black;border-radius: 0.25em;box-sizing: border-box;margin-bottom: 0.5em;}#sk-container-id-1 div.sk-estimator:hover {background-color: #d4ebff;}#sk-container-id-1 div.sk-parallel-item::after {content: \"\";width: 100%;border-bottom: 1px solid gray;flex-grow: 1;}#sk-container-id-1 div.sk-label:hover label.sk-toggleable__label {background-color: #d4ebff;}#sk-container-id-1 div.sk-serial::before {content: \"\";position: absolute;border-left: 1px solid gray;box-sizing: border-box;top: 0;bottom: 0;left: 50%;z-index: 0;}#sk-container-id-1 div.sk-serial {display: flex;flex-direction: column;align-items: center;background-color: white;padding-right: 0.2em;padding-left: 0.2em;position: relative;}#sk-container-id-1 div.sk-item {position: relative;z-index: 1;}#sk-container-id-1 div.sk-parallel {display: flex;align-items: stretch;justify-content: center;background-color: white;position: relative;}#sk-container-id-1 div.sk-item::before, #sk-container-id-1 div.sk-parallel-item::before {content: \"\";position: absolute;border-left: 1px solid gray;box-sizing: border-box;top: 0;bottom: 0;left: 50%;z-index: -1;}#sk-container-id-1 div.sk-parallel-item {display: flex;flex-direction: column;z-index: 1;position: relative;background-color: white;}#sk-container-id-1 div.sk-parallel-item:first-child::after {align-self: flex-end;width: 50%;}#sk-container-id-1 div.sk-parallel-item:last-child::after {align-self: flex-start;width: 50%;}#sk-container-id-1 div.sk-parallel-item:only-child::after {width: 0;}#sk-container-id-1 div.sk-dashed-wrapped {border: 1px dashed gray;margin: 0 0.4em 0.5em 0.4em;box-sizing: border-box;padding-bottom: 0.4em;background-color: white;}#sk-container-id-1 div.sk-label label {font-family: monospace;font-weight: bold;display: inline-block;line-height: 1.2em;}#sk-container-id-1 div.sk-label-container {text-align: center;}#sk-container-id-1 div.sk-container {/* jupyter's `normalize.less` sets `[hidden] { display: none; }` but bootstrap.min.css set `[hidden] { display: none !important; }` so we also need the `!important` here to be able to override the default hidden behavior on the sphinx rendered scikit-learn.org. See: https://github.com/scikit-learn/scikit-learn/issues/21755 */display: inline-block !important;position: relative;}#sk-container-id-1 div.sk-text-repr-fallback {display: none;}</style><div id=\"sk-container-id-1\" class=\"sk-top-container\"><div class=\"sk-text-repr-fallback\"><pre>LinearRegression()</pre><b>In a Jupyter environment, please rerun this cell to show the HTML representation or trust the notebook. <br />On GitHub, the HTML representation is unable to render, please try loading this page with nbviewer.org.</b></div><div class=\"sk-container\" hidden><div class=\"sk-item\"><div class=\"sk-estimator sk-toggleable\"><input class=\"sk-toggleable__control sk-hidden--visually\" id=\"sk-estimator-id-1\" type=\"checkbox\" checked><label for=\"sk-estimator-id-1\" class=\"sk-toggleable__label sk-toggleable__label-arrow\">LinearRegression</label><div class=\"sk-toggleable__content\"><pre>LinearRegression()</pre></div></div></div></div></div>"
      ],
      "text/plain": [
       "LinearRegression()"
      ]
     },
     "execution_count": 39,
     "metadata": {},
     "output_type": "execute_result"
    }
   ],
   "source": [
    "model.fit(X_train, y_train)"
   ]
  },
  {
   "attachments": {},
   "cell_type": "markdown",
   "metadata": {},
   "source": [
    "##### *Predict the Values*"
   ]
  },
  {
   "cell_type": "code",
   "execution_count": 40,
   "metadata": {},
   "outputs": [],
   "source": [
    "y_pred = model.predict(X_test)"
   ]
  },
  {
   "cell_type": "code",
   "execution_count": 41,
   "metadata": {},
   "outputs": [
    {
     "data": {
      "text/plain": [
       "array([1345911.81841683,  263983.41123261,  420464.68066975, ...,\n",
       "       1600684.50018824,  568234.24828275,  581558.18912654])"
      ]
     },
     "execution_count": 41,
     "metadata": {},
     "output_type": "execute_result"
    }
   ],
   "source": [
    "y_pred"
   ]
  },
  {
   "cell_type": "code",
   "execution_count": 42,
   "metadata": {},
   "outputs": [
    {
     "data": {
      "text/plain": [
       "3866    1200000\n",
       "909      210000\n",
       "1866     280000\n",
       "1532     250000\n",
       "1028     290000\n",
       "         ...   \n",
       "2595     275000\n",
       "1775      50000\n",
       "4019     850000\n",
       "2762     610000\n",
       "2890     409999\n",
       "Name: selling_price, Length: 1302, dtype: int64"
      ]
     },
     "execution_count": 42,
     "metadata": {},
     "output_type": "execute_result"
    }
   ],
   "source": [
    "y_test"
   ]
  },
  {
   "cell_type": "code",
   "execution_count": 43,
   "metadata": {},
   "outputs": [],
   "source": [
    "accuracy = r2_score(y_test, y_pred)*100"
   ]
  },
  {
   "cell_type": "code",
   "execution_count": 44,
   "metadata": {},
   "outputs": [
    {
     "data": {
      "text/plain": [
       "62.66"
      ]
     },
     "execution_count": 44,
     "metadata": {},
     "output_type": "execute_result"
    }
   ],
   "source": [
    "round(accuracy, 2)"
   ]
  },
  {
   "attachments": {},
   "cell_type": "markdown",
   "metadata": {},
   "source": [
    "### Method 1 (a) : Linear Regression with polynomial data."
   ]
  },
  {
   "attachments": {},
   "cell_type": "markdown",
   "metadata": {},
   "source": [
    "##### Define Model "
   ]
  },
  {
   "cell_type": "code",
   "execution_count": 45,
   "metadata": {},
   "outputs": [],
   "source": [
    "model = LinearRegression()"
   ]
  },
  {
   "attachments": {},
   "cell_type": "markdown",
   "metadata": {},
   "source": [
    "##### Fit the train data"
   ]
  },
  {
   "cell_type": "code",
   "execution_count": 46,
   "metadata": {},
   "outputs": [
    {
     "data": {
      "text/html": [
       "<style>#sk-container-id-2 {color: black;background-color: white;}#sk-container-id-2 pre{padding: 0;}#sk-container-id-2 div.sk-toggleable {background-color: white;}#sk-container-id-2 label.sk-toggleable__label {cursor: pointer;display: block;width: 100%;margin-bottom: 0;padding: 0.3em;box-sizing: border-box;text-align: center;}#sk-container-id-2 label.sk-toggleable__label-arrow:before {content: \"▸\";float: left;margin-right: 0.25em;color: #696969;}#sk-container-id-2 label.sk-toggleable__label-arrow:hover:before {color: black;}#sk-container-id-2 div.sk-estimator:hover label.sk-toggleable__label-arrow:before {color: black;}#sk-container-id-2 div.sk-toggleable__content {max-height: 0;max-width: 0;overflow: hidden;text-align: left;background-color: #f0f8ff;}#sk-container-id-2 div.sk-toggleable__content pre {margin: 0.2em;color: black;border-radius: 0.25em;background-color: #f0f8ff;}#sk-container-id-2 input.sk-toggleable__control:checked~div.sk-toggleable__content {max-height: 200px;max-width: 100%;overflow: auto;}#sk-container-id-2 input.sk-toggleable__control:checked~label.sk-toggleable__label-arrow:before {content: \"▾\";}#sk-container-id-2 div.sk-estimator input.sk-toggleable__control:checked~label.sk-toggleable__label {background-color: #d4ebff;}#sk-container-id-2 div.sk-label input.sk-toggleable__control:checked~label.sk-toggleable__label {background-color: #d4ebff;}#sk-container-id-2 input.sk-hidden--visually {border: 0;clip: rect(1px 1px 1px 1px);clip: rect(1px, 1px, 1px, 1px);height: 1px;margin: -1px;overflow: hidden;padding: 0;position: absolute;width: 1px;}#sk-container-id-2 div.sk-estimator {font-family: monospace;background-color: #f0f8ff;border: 1px dotted black;border-radius: 0.25em;box-sizing: border-box;margin-bottom: 0.5em;}#sk-container-id-2 div.sk-estimator:hover {background-color: #d4ebff;}#sk-container-id-2 div.sk-parallel-item::after {content: \"\";width: 100%;border-bottom: 1px solid gray;flex-grow: 1;}#sk-container-id-2 div.sk-label:hover label.sk-toggleable__label {background-color: #d4ebff;}#sk-container-id-2 div.sk-serial::before {content: \"\";position: absolute;border-left: 1px solid gray;box-sizing: border-box;top: 0;bottom: 0;left: 50%;z-index: 0;}#sk-container-id-2 div.sk-serial {display: flex;flex-direction: column;align-items: center;background-color: white;padding-right: 0.2em;padding-left: 0.2em;position: relative;}#sk-container-id-2 div.sk-item {position: relative;z-index: 1;}#sk-container-id-2 div.sk-parallel {display: flex;align-items: stretch;justify-content: center;background-color: white;position: relative;}#sk-container-id-2 div.sk-item::before, #sk-container-id-2 div.sk-parallel-item::before {content: \"\";position: absolute;border-left: 1px solid gray;box-sizing: border-box;top: 0;bottom: 0;left: 50%;z-index: -1;}#sk-container-id-2 div.sk-parallel-item {display: flex;flex-direction: column;z-index: 1;position: relative;background-color: white;}#sk-container-id-2 div.sk-parallel-item:first-child::after {align-self: flex-end;width: 50%;}#sk-container-id-2 div.sk-parallel-item:last-child::after {align-self: flex-start;width: 50%;}#sk-container-id-2 div.sk-parallel-item:only-child::after {width: 0;}#sk-container-id-2 div.sk-dashed-wrapped {border: 1px dashed gray;margin: 0 0.4em 0.5em 0.4em;box-sizing: border-box;padding-bottom: 0.4em;background-color: white;}#sk-container-id-2 div.sk-label label {font-family: monospace;font-weight: bold;display: inline-block;line-height: 1.2em;}#sk-container-id-2 div.sk-label-container {text-align: center;}#sk-container-id-2 div.sk-container {/* jupyter's `normalize.less` sets `[hidden] { display: none; }` but bootstrap.min.css set `[hidden] { display: none !important; }` so we also need the `!important` here to be able to override the default hidden behavior on the sphinx rendered scikit-learn.org. See: https://github.com/scikit-learn/scikit-learn/issues/21755 */display: inline-block !important;position: relative;}#sk-container-id-2 div.sk-text-repr-fallback {display: none;}</style><div id=\"sk-container-id-2\" class=\"sk-top-container\"><div class=\"sk-text-repr-fallback\"><pre>LinearRegression()</pre><b>In a Jupyter environment, please rerun this cell to show the HTML representation or trust the notebook. <br />On GitHub, the HTML representation is unable to render, please try loading this page with nbviewer.org.</b></div><div class=\"sk-container\" hidden><div class=\"sk-item\"><div class=\"sk-estimator sk-toggleable\"><input class=\"sk-toggleable__control sk-hidden--visually\" id=\"sk-estimator-id-2\" type=\"checkbox\" checked><label for=\"sk-estimator-id-2\" class=\"sk-toggleable__label sk-toggleable__label-arrow\">LinearRegression</label><div class=\"sk-toggleable__content\"><pre>LinearRegression()</pre></div></div></div></div></div>"
      ],
      "text/plain": [
       "LinearRegression()"
      ]
     },
     "execution_count": 46,
     "metadata": {},
     "output_type": "execute_result"
    }
   ],
   "source": [
    "model.fit(X_train_p, y_train)"
   ]
  },
  {
   "attachments": {},
   "cell_type": "markdown",
   "metadata": {},
   "source": [
    "##### Predict the values"
   ]
  },
  {
   "cell_type": "code",
   "execution_count": 47,
   "metadata": {},
   "outputs": [],
   "source": [
    "y_pred = model.predict(X_test_p)"
   ]
  },
  {
   "attachments": {},
   "cell_type": "markdown",
   "metadata": {},
   "source": [
    "##### Accuracy"
   ]
  },
  {
   "cell_type": "code",
   "execution_count": 48,
   "metadata": {},
   "outputs": [
    {
     "name": "stdout",
     "output_type": "stream",
     "text": [
      "76.41\n"
     ]
    }
   ],
   "source": [
    "accuracy = r2_score(y_test, y_pred)*100\n",
    "print(round(accuracy, 2))"
   ]
  },
  {
   "cell_type": "code",
   "execution_count": 49,
   "metadata": {},
   "outputs": [
    {
     "name": "stdout",
     "output_type": "stream",
     "text": [
      "Feature : 0, Score: -0.0\n",
      "Feature : 1, Score: -9068813334.0\n",
      "Feature : 2, Score: -91645857.3\n",
      "Feature : 3, Score: 22492888.6\n",
      "Feature : 4, Score: 9862779.6\n",
      "Feature : 5, Score: 10928742190986860544.0\n",
      "Feature : 6, Score: 17445603.8\n",
      "Feature : 7, Score: 75426993.7\n",
      "Feature : 8, Score: 48025575.9\n",
      "Feature : 9, Score: -26047117.8\n",
      "Feature : 10, Score: -71410053.7\n",
      "Feature : 11, Score: -127002315.0\n",
      "Feature : 12, Score: 4591563613.9\n",
      "Feature : 13, Score: 85989412.7\n",
      "Feature : 14, Score: -22829970.7\n",
      "Feature : 15, Score: -10769976.3\n",
      "Feature : 16, Score: -2506282.5\n",
      "Feature : 17, Score: -17450775.4\n",
      "Feature : 18, Score: -76654278.7\n",
      "Feature : 19, Score: -48466797.2\n",
      "Feature : 20, Score: 25591639.1\n",
      "Feature : 21, Score: 71445608.0\n",
      "Feature : 22, Score: 128837154.2\n",
      "Feature : 23, Score: 231692.3\n",
      "Feature : 24, Score: -16780.8\n",
      "Feature : 25, Score: 1381395.3\n",
      "Feature : 26, Score: 3788178.0\n",
      "Feature : 27, Score: 501413.1\n",
      "Feature : 28, Score: 86919.9\n",
      "Feature : 29, Score: 1463611.1\n",
      "Feature : 30, Score: 743159.2\n",
      "Feature : 31, Score: 305217.7\n",
      "Feature : 32, Score: 331267.6\n",
      "Feature : 33, Score: -270848.0\n",
      "Feature : 34, Score: 102016.0\n",
      "Feature : 35, Score: 441088.0\n",
      "Feature : 36, Score: -14592.0\n",
      "Feature : 37, Score: -37312.0\n",
      "Feature : 38, Score: -94464.0\n",
      "Feature : 39, Score: 185216.0\n",
      "Feature : 40, Score: 87008.0\n",
      "Feature : 41, Score: -106240.0\n",
      "Feature : 42, Score: 427776.0\n",
      "Feature : 43, Score: 100096.0\n",
      "Feature : 44, Score: 163328.0\n",
      "Feature : 45, Score: 221440.0\n",
      "Feature : 46, Score: 26240.0\n",
      "Feature : 47, Score: 222208.0\n",
      "Feature : 48, Score: 96384.0\n",
      "Feature : 49, Score: -182784.0\n",
      "Feature : 50, Score: -10928742190985093120.0\n",
      "Feature : 51, Score: 2460.0\n",
      "Feature : 52, Score: 305664.0\n",
      "Feature : 53, Score: 285568.0\n",
      "Feature : 54, Score: 165888.0\n",
      "Feature : 55, Score: -94208.0\n",
      "Feature : 56, Score: -1221376.0\n",
      "Feature : 57, Score: -61184.0\n",
      "Feature : 58, Score: -30112.0\n",
      "Feature : 59, Score: -58688.0\n",
      "Feature : 60, Score: -11008.0\n",
      "Feature : 61, Score: -43776.0\n",
      "Feature : 62, Score: -285056.0\n",
      "Feature : 63, Score: 576512.0\n",
      "Feature : 64, Score: -440064.0\n",
      "Feature : 65, Score: 5760.0\n",
      "Feature : 66, Score: -239616.0\n",
      "Feature : 67, Score: -11072.0\n",
      "Feature : 68, Score: 99328.0\n",
      "Feature : 69, Score: 321280.0\n",
      "Feature : 70, Score: -69376.0\n",
      "Feature : 71, Score: 281600.0\n",
      "Feature : 72, Score: -72960.0\n",
      "Feature : 73, Score: 25984.0\n",
      "Feature : 74, Score: -244736.0\n",
      "Feature : 75, Score: 310656.0\n",
      "Feature : 76, Score: 327424.0\n",
      "Feature : 77, Score: 362368.0\n"
     ]
    }
   ],
   "source": [
    "importance = model.coef_\n",
    "for i, j in enumerate(importance):\n",
    "    print(\"Feature : %d, Score: %.1f\" %(i,j))"
   ]
  },
  {
   "attachments": {},
   "cell_type": "markdown",
   "metadata": {},
   "source": [
    "### Method 2: Ridge Regression"
   ]
  },
  {
   "attachments": {},
   "cell_type": "markdown",
   "metadata": {},
   "source": [
    "##### Define Model"
   ]
  },
  {
   "cell_type": "code",
   "execution_count": 50,
   "metadata": {},
   "outputs": [],
   "source": [
    "model = Ridge()"
   ]
  },
  {
   "attachments": {},
   "cell_type": "markdown",
   "metadata": {},
   "source": [
    "##### Fit the train data"
   ]
  },
  {
   "cell_type": "code",
   "execution_count": 51,
   "metadata": {},
   "outputs": [
    {
     "data": {
      "text/html": [
       "<style>#sk-container-id-3 {color: black;background-color: white;}#sk-container-id-3 pre{padding: 0;}#sk-container-id-3 div.sk-toggleable {background-color: white;}#sk-container-id-3 label.sk-toggleable__label {cursor: pointer;display: block;width: 100%;margin-bottom: 0;padding: 0.3em;box-sizing: border-box;text-align: center;}#sk-container-id-3 label.sk-toggleable__label-arrow:before {content: \"▸\";float: left;margin-right: 0.25em;color: #696969;}#sk-container-id-3 label.sk-toggleable__label-arrow:hover:before {color: black;}#sk-container-id-3 div.sk-estimator:hover label.sk-toggleable__label-arrow:before {color: black;}#sk-container-id-3 div.sk-toggleable__content {max-height: 0;max-width: 0;overflow: hidden;text-align: left;background-color: #f0f8ff;}#sk-container-id-3 div.sk-toggleable__content pre {margin: 0.2em;color: black;border-radius: 0.25em;background-color: #f0f8ff;}#sk-container-id-3 input.sk-toggleable__control:checked~div.sk-toggleable__content {max-height: 200px;max-width: 100%;overflow: auto;}#sk-container-id-3 input.sk-toggleable__control:checked~label.sk-toggleable__label-arrow:before {content: \"▾\";}#sk-container-id-3 div.sk-estimator input.sk-toggleable__control:checked~label.sk-toggleable__label {background-color: #d4ebff;}#sk-container-id-3 div.sk-label input.sk-toggleable__control:checked~label.sk-toggleable__label {background-color: #d4ebff;}#sk-container-id-3 input.sk-hidden--visually {border: 0;clip: rect(1px 1px 1px 1px);clip: rect(1px, 1px, 1px, 1px);height: 1px;margin: -1px;overflow: hidden;padding: 0;position: absolute;width: 1px;}#sk-container-id-3 div.sk-estimator {font-family: monospace;background-color: #f0f8ff;border: 1px dotted black;border-radius: 0.25em;box-sizing: border-box;margin-bottom: 0.5em;}#sk-container-id-3 div.sk-estimator:hover {background-color: #d4ebff;}#sk-container-id-3 div.sk-parallel-item::after {content: \"\";width: 100%;border-bottom: 1px solid gray;flex-grow: 1;}#sk-container-id-3 div.sk-label:hover label.sk-toggleable__label {background-color: #d4ebff;}#sk-container-id-3 div.sk-serial::before {content: \"\";position: absolute;border-left: 1px solid gray;box-sizing: border-box;top: 0;bottom: 0;left: 50%;z-index: 0;}#sk-container-id-3 div.sk-serial {display: flex;flex-direction: column;align-items: center;background-color: white;padding-right: 0.2em;padding-left: 0.2em;position: relative;}#sk-container-id-3 div.sk-item {position: relative;z-index: 1;}#sk-container-id-3 div.sk-parallel {display: flex;align-items: stretch;justify-content: center;background-color: white;position: relative;}#sk-container-id-3 div.sk-item::before, #sk-container-id-3 div.sk-parallel-item::before {content: \"\";position: absolute;border-left: 1px solid gray;box-sizing: border-box;top: 0;bottom: 0;left: 50%;z-index: -1;}#sk-container-id-3 div.sk-parallel-item {display: flex;flex-direction: column;z-index: 1;position: relative;background-color: white;}#sk-container-id-3 div.sk-parallel-item:first-child::after {align-self: flex-end;width: 50%;}#sk-container-id-3 div.sk-parallel-item:last-child::after {align-self: flex-start;width: 50%;}#sk-container-id-3 div.sk-parallel-item:only-child::after {width: 0;}#sk-container-id-3 div.sk-dashed-wrapped {border: 1px dashed gray;margin: 0 0.4em 0.5em 0.4em;box-sizing: border-box;padding-bottom: 0.4em;background-color: white;}#sk-container-id-3 div.sk-label label {font-family: monospace;font-weight: bold;display: inline-block;line-height: 1.2em;}#sk-container-id-3 div.sk-label-container {text-align: center;}#sk-container-id-3 div.sk-container {/* jupyter's `normalize.less` sets `[hidden] { display: none; }` but bootstrap.min.css set `[hidden] { display: none !important; }` so we also need the `!important` here to be able to override the default hidden behavior on the sphinx rendered scikit-learn.org. See: https://github.com/scikit-learn/scikit-learn/issues/21755 */display: inline-block !important;position: relative;}#sk-container-id-3 div.sk-text-repr-fallback {display: none;}</style><div id=\"sk-container-id-3\" class=\"sk-top-container\"><div class=\"sk-text-repr-fallback\"><pre>Ridge()</pre><b>In a Jupyter environment, please rerun this cell to show the HTML representation or trust the notebook. <br />On GitHub, the HTML representation is unable to render, please try loading this page with nbviewer.org.</b></div><div class=\"sk-container\" hidden><div class=\"sk-item\"><div class=\"sk-estimator sk-toggleable\"><input class=\"sk-toggleable__control sk-hidden--visually\" id=\"sk-estimator-id-3\" type=\"checkbox\" checked><label for=\"sk-estimator-id-3\" class=\"sk-toggleable__label sk-toggleable__label-arrow\">Ridge</label><div class=\"sk-toggleable__content\"><pre>Ridge()</pre></div></div></div></div></div>"
      ],
      "text/plain": [
       "Ridge()"
      ]
     },
     "execution_count": 51,
     "metadata": {},
     "output_type": "execute_result"
    }
   ],
   "source": [
    "model.fit(X_train_p, y_train)"
   ]
  },
  {
   "attachments": {},
   "cell_type": "markdown",
   "metadata": {},
   "source": [
    "##### Predict the values"
   ]
  },
  {
   "cell_type": "code",
   "execution_count": 52,
   "metadata": {},
   "outputs": [],
   "source": [
    "y_pred = model.predict(X_test_p)"
   ]
  },
  {
   "attachments": {},
   "cell_type": "markdown",
   "metadata": {},
   "source": [
    "##### Accuracy "
   ]
  },
  {
   "cell_type": "code",
   "execution_count": 53,
   "metadata": {},
   "outputs": [
    {
     "name": "stdout",
     "output_type": "stream",
     "text": [
      "74.62\n"
     ]
    }
   ],
   "source": [
    "accuracy = r2_score(y_test, y_pred)*100\n",
    "print(round(accuracy, 2))"
   ]
  },
  {
   "attachments": {},
   "cell_type": "markdown",
   "metadata": {},
   "source": [
    "### Method 3: Lasso Regression"
   ]
  },
  {
   "attachments": {},
   "cell_type": "markdown",
   "metadata": {},
   "source": [
    "##### Define Model"
   ]
  },
  {
   "cell_type": "code",
   "execution_count": 54,
   "metadata": {},
   "outputs": [],
   "source": [
    "model = Lasso()"
   ]
  },
  {
   "attachments": {},
   "cell_type": "markdown",
   "metadata": {},
   "source": [
    "##### Fit the train data"
   ]
  },
  {
   "cell_type": "code",
   "execution_count": 55,
   "metadata": {},
   "outputs": [
    {
     "data": {
      "text/html": [
       "<style>#sk-container-id-4 {color: black;background-color: white;}#sk-container-id-4 pre{padding: 0;}#sk-container-id-4 div.sk-toggleable {background-color: white;}#sk-container-id-4 label.sk-toggleable__label {cursor: pointer;display: block;width: 100%;margin-bottom: 0;padding: 0.3em;box-sizing: border-box;text-align: center;}#sk-container-id-4 label.sk-toggleable__label-arrow:before {content: \"▸\";float: left;margin-right: 0.25em;color: #696969;}#sk-container-id-4 label.sk-toggleable__label-arrow:hover:before {color: black;}#sk-container-id-4 div.sk-estimator:hover label.sk-toggleable__label-arrow:before {color: black;}#sk-container-id-4 div.sk-toggleable__content {max-height: 0;max-width: 0;overflow: hidden;text-align: left;background-color: #f0f8ff;}#sk-container-id-4 div.sk-toggleable__content pre {margin: 0.2em;color: black;border-radius: 0.25em;background-color: #f0f8ff;}#sk-container-id-4 input.sk-toggleable__control:checked~div.sk-toggleable__content {max-height: 200px;max-width: 100%;overflow: auto;}#sk-container-id-4 input.sk-toggleable__control:checked~label.sk-toggleable__label-arrow:before {content: \"▾\";}#sk-container-id-4 div.sk-estimator input.sk-toggleable__control:checked~label.sk-toggleable__label {background-color: #d4ebff;}#sk-container-id-4 div.sk-label input.sk-toggleable__control:checked~label.sk-toggleable__label {background-color: #d4ebff;}#sk-container-id-4 input.sk-hidden--visually {border: 0;clip: rect(1px 1px 1px 1px);clip: rect(1px, 1px, 1px, 1px);height: 1px;margin: -1px;overflow: hidden;padding: 0;position: absolute;width: 1px;}#sk-container-id-4 div.sk-estimator {font-family: monospace;background-color: #f0f8ff;border: 1px dotted black;border-radius: 0.25em;box-sizing: border-box;margin-bottom: 0.5em;}#sk-container-id-4 div.sk-estimator:hover {background-color: #d4ebff;}#sk-container-id-4 div.sk-parallel-item::after {content: \"\";width: 100%;border-bottom: 1px solid gray;flex-grow: 1;}#sk-container-id-4 div.sk-label:hover label.sk-toggleable__label {background-color: #d4ebff;}#sk-container-id-4 div.sk-serial::before {content: \"\";position: absolute;border-left: 1px solid gray;box-sizing: border-box;top: 0;bottom: 0;left: 50%;z-index: 0;}#sk-container-id-4 div.sk-serial {display: flex;flex-direction: column;align-items: center;background-color: white;padding-right: 0.2em;padding-left: 0.2em;position: relative;}#sk-container-id-4 div.sk-item {position: relative;z-index: 1;}#sk-container-id-4 div.sk-parallel {display: flex;align-items: stretch;justify-content: center;background-color: white;position: relative;}#sk-container-id-4 div.sk-item::before, #sk-container-id-4 div.sk-parallel-item::before {content: \"\";position: absolute;border-left: 1px solid gray;box-sizing: border-box;top: 0;bottom: 0;left: 50%;z-index: -1;}#sk-container-id-4 div.sk-parallel-item {display: flex;flex-direction: column;z-index: 1;position: relative;background-color: white;}#sk-container-id-4 div.sk-parallel-item:first-child::after {align-self: flex-end;width: 50%;}#sk-container-id-4 div.sk-parallel-item:last-child::after {align-self: flex-start;width: 50%;}#sk-container-id-4 div.sk-parallel-item:only-child::after {width: 0;}#sk-container-id-4 div.sk-dashed-wrapped {border: 1px dashed gray;margin: 0 0.4em 0.5em 0.4em;box-sizing: border-box;padding-bottom: 0.4em;background-color: white;}#sk-container-id-4 div.sk-label label {font-family: monospace;font-weight: bold;display: inline-block;line-height: 1.2em;}#sk-container-id-4 div.sk-label-container {text-align: center;}#sk-container-id-4 div.sk-container {/* jupyter's `normalize.less` sets `[hidden] { display: none; }` but bootstrap.min.css set `[hidden] { display: none !important; }` so we also need the `!important` here to be able to override the default hidden behavior on the sphinx rendered scikit-learn.org. See: https://github.com/scikit-learn/scikit-learn/issues/21755 */display: inline-block !important;position: relative;}#sk-container-id-4 div.sk-text-repr-fallback {display: none;}</style><div id=\"sk-container-id-4\" class=\"sk-top-container\"><div class=\"sk-text-repr-fallback\"><pre>Lasso()</pre><b>In a Jupyter environment, please rerun this cell to show the HTML representation or trust the notebook. <br />On GitHub, the HTML representation is unable to render, please try loading this page with nbviewer.org.</b></div><div class=\"sk-container\" hidden><div class=\"sk-item\"><div class=\"sk-estimator sk-toggleable\"><input class=\"sk-toggleable__control sk-hidden--visually\" id=\"sk-estimator-id-4\" type=\"checkbox\" checked><label for=\"sk-estimator-id-4\" class=\"sk-toggleable__label sk-toggleable__label-arrow\">Lasso</label><div class=\"sk-toggleable__content\"><pre>Lasso()</pre></div></div></div></div></div>"
      ],
      "text/plain": [
       "Lasso()"
      ]
     },
     "execution_count": 55,
     "metadata": {},
     "output_type": "execute_result"
    }
   ],
   "source": [
    "model.fit(X_train_p, y_train)"
   ]
  },
  {
   "attachments": {},
   "cell_type": "markdown",
   "metadata": {},
   "source": [
    "##### Predict the Values"
   ]
  },
  {
   "cell_type": "code",
   "execution_count": 56,
   "metadata": {},
   "outputs": [],
   "source": [
    "y_pred = model.predict(X_test_p)"
   ]
  },
  {
   "attachments": {},
   "cell_type": "markdown",
   "metadata": {},
   "source": [
    "##### Accuracy"
   ]
  },
  {
   "cell_type": "code",
   "execution_count": 57,
   "metadata": {},
   "outputs": [
    {
     "name": "stdout",
     "output_type": "stream",
     "text": [
      "75.59\n"
     ]
    }
   ],
   "source": [
    "accuracy = r2_score(y_test, y_pred)*100\n",
    "print(round(accuracy, 2))"
   ]
  },
  {
   "attachments": {},
   "cell_type": "markdown",
   "metadata": {},
   "source": [
    "### Method 4: ElasticNet"
   ]
  },
  {
   "attachments": {},
   "cell_type": "markdown",
   "metadata": {},
   "source": [
    "##### Define model"
   ]
  },
  {
   "cell_type": "code",
   "execution_count": 58,
   "metadata": {},
   "outputs": [],
   "source": [
    "model = ElasticNet()"
   ]
  },
  {
   "attachments": {},
   "cell_type": "markdown",
   "metadata": {},
   "source": [
    "##### Fit the train data"
   ]
  },
  {
   "cell_type": "code",
   "execution_count": 59,
   "metadata": {},
   "outputs": [
    {
     "data": {
      "text/html": [
       "<style>#sk-container-id-5 {color: black;background-color: white;}#sk-container-id-5 pre{padding: 0;}#sk-container-id-5 div.sk-toggleable {background-color: white;}#sk-container-id-5 label.sk-toggleable__label {cursor: pointer;display: block;width: 100%;margin-bottom: 0;padding: 0.3em;box-sizing: border-box;text-align: center;}#sk-container-id-5 label.sk-toggleable__label-arrow:before {content: \"▸\";float: left;margin-right: 0.25em;color: #696969;}#sk-container-id-5 label.sk-toggleable__label-arrow:hover:before {color: black;}#sk-container-id-5 div.sk-estimator:hover label.sk-toggleable__label-arrow:before {color: black;}#sk-container-id-5 div.sk-toggleable__content {max-height: 0;max-width: 0;overflow: hidden;text-align: left;background-color: #f0f8ff;}#sk-container-id-5 div.sk-toggleable__content pre {margin: 0.2em;color: black;border-radius: 0.25em;background-color: #f0f8ff;}#sk-container-id-5 input.sk-toggleable__control:checked~div.sk-toggleable__content {max-height: 200px;max-width: 100%;overflow: auto;}#sk-container-id-5 input.sk-toggleable__control:checked~label.sk-toggleable__label-arrow:before {content: \"▾\";}#sk-container-id-5 div.sk-estimator input.sk-toggleable__control:checked~label.sk-toggleable__label {background-color: #d4ebff;}#sk-container-id-5 div.sk-label input.sk-toggleable__control:checked~label.sk-toggleable__label {background-color: #d4ebff;}#sk-container-id-5 input.sk-hidden--visually {border: 0;clip: rect(1px 1px 1px 1px);clip: rect(1px, 1px, 1px, 1px);height: 1px;margin: -1px;overflow: hidden;padding: 0;position: absolute;width: 1px;}#sk-container-id-5 div.sk-estimator {font-family: monospace;background-color: #f0f8ff;border: 1px dotted black;border-radius: 0.25em;box-sizing: border-box;margin-bottom: 0.5em;}#sk-container-id-5 div.sk-estimator:hover {background-color: #d4ebff;}#sk-container-id-5 div.sk-parallel-item::after {content: \"\";width: 100%;border-bottom: 1px solid gray;flex-grow: 1;}#sk-container-id-5 div.sk-label:hover label.sk-toggleable__label {background-color: #d4ebff;}#sk-container-id-5 div.sk-serial::before {content: \"\";position: absolute;border-left: 1px solid gray;box-sizing: border-box;top: 0;bottom: 0;left: 50%;z-index: 0;}#sk-container-id-5 div.sk-serial {display: flex;flex-direction: column;align-items: center;background-color: white;padding-right: 0.2em;padding-left: 0.2em;position: relative;}#sk-container-id-5 div.sk-item {position: relative;z-index: 1;}#sk-container-id-5 div.sk-parallel {display: flex;align-items: stretch;justify-content: center;background-color: white;position: relative;}#sk-container-id-5 div.sk-item::before, #sk-container-id-5 div.sk-parallel-item::before {content: \"\";position: absolute;border-left: 1px solid gray;box-sizing: border-box;top: 0;bottom: 0;left: 50%;z-index: -1;}#sk-container-id-5 div.sk-parallel-item {display: flex;flex-direction: column;z-index: 1;position: relative;background-color: white;}#sk-container-id-5 div.sk-parallel-item:first-child::after {align-self: flex-end;width: 50%;}#sk-container-id-5 div.sk-parallel-item:last-child::after {align-self: flex-start;width: 50%;}#sk-container-id-5 div.sk-parallel-item:only-child::after {width: 0;}#sk-container-id-5 div.sk-dashed-wrapped {border: 1px dashed gray;margin: 0 0.4em 0.5em 0.4em;box-sizing: border-box;padding-bottom: 0.4em;background-color: white;}#sk-container-id-5 div.sk-label label {font-family: monospace;font-weight: bold;display: inline-block;line-height: 1.2em;}#sk-container-id-5 div.sk-label-container {text-align: center;}#sk-container-id-5 div.sk-container {/* jupyter's `normalize.less` sets `[hidden] { display: none; }` but bootstrap.min.css set `[hidden] { display: none !important; }` so we also need the `!important` here to be able to override the default hidden behavior on the sphinx rendered scikit-learn.org. See: https://github.com/scikit-learn/scikit-learn/issues/21755 */display: inline-block !important;position: relative;}#sk-container-id-5 div.sk-text-repr-fallback {display: none;}</style><div id=\"sk-container-id-5\" class=\"sk-top-container\"><div class=\"sk-text-repr-fallback\"><pre>ElasticNet()</pre><b>In a Jupyter environment, please rerun this cell to show the HTML representation or trust the notebook. <br />On GitHub, the HTML representation is unable to render, please try loading this page with nbviewer.org.</b></div><div class=\"sk-container\" hidden><div class=\"sk-item\"><div class=\"sk-estimator sk-toggleable\"><input class=\"sk-toggleable__control sk-hidden--visually\" id=\"sk-estimator-id-5\" type=\"checkbox\" checked><label for=\"sk-estimator-id-5\" class=\"sk-toggleable__label sk-toggleable__label-arrow\">ElasticNet</label><div class=\"sk-toggleable__content\"><pre>ElasticNet()</pre></div></div></div></div></div>"
      ],
      "text/plain": [
       "ElasticNet()"
      ]
     },
     "execution_count": 59,
     "metadata": {},
     "output_type": "execute_result"
    }
   ],
   "source": [
    "model.fit(X_train_p, y_train)"
   ]
  },
  {
   "attachments": {},
   "cell_type": "markdown",
   "metadata": {},
   "source": [
    "##### Predict the values"
   ]
  },
  {
   "cell_type": "code",
   "execution_count": 60,
   "metadata": {},
   "outputs": [],
   "source": [
    "y_pred = model.predict(X_test_p)"
   ]
  },
  {
   "attachments": {},
   "cell_type": "markdown",
   "metadata": {},
   "source": [
    "##### Accuracy"
   ]
  },
  {
   "cell_type": "code",
   "execution_count": 61,
   "metadata": {},
   "outputs": [
    {
     "name": "stdout",
     "output_type": "stream",
     "text": [
      "50.17\n"
     ]
    }
   ],
   "source": [
    "accuracy = r2_score(y_test, y_pred)*100\n",
    "print(round(accuracy, 2))"
   ]
  },
  {
   "attachments": {},
   "cell_type": "markdown",
   "metadata": {},
   "source": [
    "### Method 5 : KNeighbor Regression"
   ]
  },
  {
   "attachments": {},
   "cell_type": "markdown",
   "metadata": {},
   "source": [
    "##### Define Model"
   ]
  },
  {
   "cell_type": "code",
   "execution_count": 62,
   "metadata": {},
   "outputs": [],
   "source": [
    "model = KNeighborsRegressor()"
   ]
  },
  {
   "attachments": {},
   "cell_type": "markdown",
   "metadata": {},
   "source": [
    "##### Fit the Train data"
   ]
  },
  {
   "cell_type": "code",
   "execution_count": 63,
   "metadata": {},
   "outputs": [
    {
     "data": {
      "text/html": [
       "<style>#sk-container-id-6 {color: black;background-color: white;}#sk-container-id-6 pre{padding: 0;}#sk-container-id-6 div.sk-toggleable {background-color: white;}#sk-container-id-6 label.sk-toggleable__label {cursor: pointer;display: block;width: 100%;margin-bottom: 0;padding: 0.3em;box-sizing: border-box;text-align: center;}#sk-container-id-6 label.sk-toggleable__label-arrow:before {content: \"▸\";float: left;margin-right: 0.25em;color: #696969;}#sk-container-id-6 label.sk-toggleable__label-arrow:hover:before {color: black;}#sk-container-id-6 div.sk-estimator:hover label.sk-toggleable__label-arrow:before {color: black;}#sk-container-id-6 div.sk-toggleable__content {max-height: 0;max-width: 0;overflow: hidden;text-align: left;background-color: #f0f8ff;}#sk-container-id-6 div.sk-toggleable__content pre {margin: 0.2em;color: black;border-radius: 0.25em;background-color: #f0f8ff;}#sk-container-id-6 input.sk-toggleable__control:checked~div.sk-toggleable__content {max-height: 200px;max-width: 100%;overflow: auto;}#sk-container-id-6 input.sk-toggleable__control:checked~label.sk-toggleable__label-arrow:before {content: \"▾\";}#sk-container-id-6 div.sk-estimator input.sk-toggleable__control:checked~label.sk-toggleable__label {background-color: #d4ebff;}#sk-container-id-6 div.sk-label input.sk-toggleable__control:checked~label.sk-toggleable__label {background-color: #d4ebff;}#sk-container-id-6 input.sk-hidden--visually {border: 0;clip: rect(1px 1px 1px 1px);clip: rect(1px, 1px, 1px, 1px);height: 1px;margin: -1px;overflow: hidden;padding: 0;position: absolute;width: 1px;}#sk-container-id-6 div.sk-estimator {font-family: monospace;background-color: #f0f8ff;border: 1px dotted black;border-radius: 0.25em;box-sizing: border-box;margin-bottom: 0.5em;}#sk-container-id-6 div.sk-estimator:hover {background-color: #d4ebff;}#sk-container-id-6 div.sk-parallel-item::after {content: \"\";width: 100%;border-bottom: 1px solid gray;flex-grow: 1;}#sk-container-id-6 div.sk-label:hover label.sk-toggleable__label {background-color: #d4ebff;}#sk-container-id-6 div.sk-serial::before {content: \"\";position: absolute;border-left: 1px solid gray;box-sizing: border-box;top: 0;bottom: 0;left: 50%;z-index: 0;}#sk-container-id-6 div.sk-serial {display: flex;flex-direction: column;align-items: center;background-color: white;padding-right: 0.2em;padding-left: 0.2em;position: relative;}#sk-container-id-6 div.sk-item {position: relative;z-index: 1;}#sk-container-id-6 div.sk-parallel {display: flex;align-items: stretch;justify-content: center;background-color: white;position: relative;}#sk-container-id-6 div.sk-item::before, #sk-container-id-6 div.sk-parallel-item::before {content: \"\";position: absolute;border-left: 1px solid gray;box-sizing: border-box;top: 0;bottom: 0;left: 50%;z-index: -1;}#sk-container-id-6 div.sk-parallel-item {display: flex;flex-direction: column;z-index: 1;position: relative;background-color: white;}#sk-container-id-6 div.sk-parallel-item:first-child::after {align-self: flex-end;width: 50%;}#sk-container-id-6 div.sk-parallel-item:last-child::after {align-self: flex-start;width: 50%;}#sk-container-id-6 div.sk-parallel-item:only-child::after {width: 0;}#sk-container-id-6 div.sk-dashed-wrapped {border: 1px dashed gray;margin: 0 0.4em 0.5em 0.4em;box-sizing: border-box;padding-bottom: 0.4em;background-color: white;}#sk-container-id-6 div.sk-label label {font-family: monospace;font-weight: bold;display: inline-block;line-height: 1.2em;}#sk-container-id-6 div.sk-label-container {text-align: center;}#sk-container-id-6 div.sk-container {/* jupyter's `normalize.less` sets `[hidden] { display: none; }` but bootstrap.min.css set `[hidden] { display: none !important; }` so we also need the `!important` here to be able to override the default hidden behavior on the sphinx rendered scikit-learn.org. See: https://github.com/scikit-learn/scikit-learn/issues/21755 */display: inline-block !important;position: relative;}#sk-container-id-6 div.sk-text-repr-fallback {display: none;}</style><div id=\"sk-container-id-6\" class=\"sk-top-container\"><div class=\"sk-text-repr-fallback\"><pre>KNeighborsRegressor()</pre><b>In a Jupyter environment, please rerun this cell to show the HTML representation or trust the notebook. <br />On GitHub, the HTML representation is unable to render, please try loading this page with nbviewer.org.</b></div><div class=\"sk-container\" hidden><div class=\"sk-item\"><div class=\"sk-estimator sk-toggleable\"><input class=\"sk-toggleable__control sk-hidden--visually\" id=\"sk-estimator-id-6\" type=\"checkbox\" checked><label for=\"sk-estimator-id-6\" class=\"sk-toggleable__label sk-toggleable__label-arrow\">KNeighborsRegressor</label><div class=\"sk-toggleable__content\"><pre>KNeighborsRegressor()</pre></div></div></div></div></div>"
      ],
      "text/plain": [
       "KNeighborsRegressor()"
      ]
     },
     "execution_count": 63,
     "metadata": {},
     "output_type": "execute_result"
    }
   ],
   "source": [
    "model.fit(X_train_p, y_train)"
   ]
  },
  {
   "attachments": {},
   "cell_type": "markdown",
   "metadata": {},
   "source": [
    "##### Predict the values"
   ]
  },
  {
   "cell_type": "code",
   "execution_count": 64,
   "metadata": {},
   "outputs": [],
   "source": [
    "y_pred = model.predict(X_test_p)"
   ]
  },
  {
   "attachments": {},
   "cell_type": "markdown",
   "metadata": {},
   "source": [
    "##### Accuracy"
   ]
  },
  {
   "cell_type": "code",
   "execution_count": 65,
   "metadata": {},
   "outputs": [
    {
     "name": "stdout",
     "output_type": "stream",
     "text": [
      "79.71\n"
     ]
    }
   ],
   "source": [
    "accuracy = r2_score(y_test, y_pred)*100\n",
    "print(round(accuracy, 2))"
   ]
  },
  {
   "attachments": {},
   "cell_type": "markdown",
   "metadata": {},
   "source": [
    "### Method 6: Support Vector Regression "
   ]
  },
  {
   "attachments": {},
   "cell_type": "markdown",
   "metadata": {},
   "source": [
    "##### Define Model"
   ]
  },
  {
   "cell_type": "code",
   "execution_count": 66,
   "metadata": {},
   "outputs": [],
   "source": [
    "model = SVR()"
   ]
  },
  {
   "attachments": {},
   "cell_type": "markdown",
   "metadata": {},
   "source": [
    "##### Fit the train data"
   ]
  },
  {
   "cell_type": "code",
   "execution_count": 67,
   "metadata": {},
   "outputs": [
    {
     "data": {
      "text/html": [
       "<style>#sk-container-id-7 {color: black;background-color: white;}#sk-container-id-7 pre{padding: 0;}#sk-container-id-7 div.sk-toggleable {background-color: white;}#sk-container-id-7 label.sk-toggleable__label {cursor: pointer;display: block;width: 100%;margin-bottom: 0;padding: 0.3em;box-sizing: border-box;text-align: center;}#sk-container-id-7 label.sk-toggleable__label-arrow:before {content: \"▸\";float: left;margin-right: 0.25em;color: #696969;}#sk-container-id-7 label.sk-toggleable__label-arrow:hover:before {color: black;}#sk-container-id-7 div.sk-estimator:hover label.sk-toggleable__label-arrow:before {color: black;}#sk-container-id-7 div.sk-toggleable__content {max-height: 0;max-width: 0;overflow: hidden;text-align: left;background-color: #f0f8ff;}#sk-container-id-7 div.sk-toggleable__content pre {margin: 0.2em;color: black;border-radius: 0.25em;background-color: #f0f8ff;}#sk-container-id-7 input.sk-toggleable__control:checked~div.sk-toggleable__content {max-height: 200px;max-width: 100%;overflow: auto;}#sk-container-id-7 input.sk-toggleable__control:checked~label.sk-toggleable__label-arrow:before {content: \"▾\";}#sk-container-id-7 div.sk-estimator input.sk-toggleable__control:checked~label.sk-toggleable__label {background-color: #d4ebff;}#sk-container-id-7 div.sk-label input.sk-toggleable__control:checked~label.sk-toggleable__label {background-color: #d4ebff;}#sk-container-id-7 input.sk-hidden--visually {border: 0;clip: rect(1px 1px 1px 1px);clip: rect(1px, 1px, 1px, 1px);height: 1px;margin: -1px;overflow: hidden;padding: 0;position: absolute;width: 1px;}#sk-container-id-7 div.sk-estimator {font-family: monospace;background-color: #f0f8ff;border: 1px dotted black;border-radius: 0.25em;box-sizing: border-box;margin-bottom: 0.5em;}#sk-container-id-7 div.sk-estimator:hover {background-color: #d4ebff;}#sk-container-id-7 div.sk-parallel-item::after {content: \"\";width: 100%;border-bottom: 1px solid gray;flex-grow: 1;}#sk-container-id-7 div.sk-label:hover label.sk-toggleable__label {background-color: #d4ebff;}#sk-container-id-7 div.sk-serial::before {content: \"\";position: absolute;border-left: 1px solid gray;box-sizing: border-box;top: 0;bottom: 0;left: 50%;z-index: 0;}#sk-container-id-7 div.sk-serial {display: flex;flex-direction: column;align-items: center;background-color: white;padding-right: 0.2em;padding-left: 0.2em;position: relative;}#sk-container-id-7 div.sk-item {position: relative;z-index: 1;}#sk-container-id-7 div.sk-parallel {display: flex;align-items: stretch;justify-content: center;background-color: white;position: relative;}#sk-container-id-7 div.sk-item::before, #sk-container-id-7 div.sk-parallel-item::before {content: \"\";position: absolute;border-left: 1px solid gray;box-sizing: border-box;top: 0;bottom: 0;left: 50%;z-index: -1;}#sk-container-id-7 div.sk-parallel-item {display: flex;flex-direction: column;z-index: 1;position: relative;background-color: white;}#sk-container-id-7 div.sk-parallel-item:first-child::after {align-self: flex-end;width: 50%;}#sk-container-id-7 div.sk-parallel-item:last-child::after {align-self: flex-start;width: 50%;}#sk-container-id-7 div.sk-parallel-item:only-child::after {width: 0;}#sk-container-id-7 div.sk-dashed-wrapped {border: 1px dashed gray;margin: 0 0.4em 0.5em 0.4em;box-sizing: border-box;padding-bottom: 0.4em;background-color: white;}#sk-container-id-7 div.sk-label label {font-family: monospace;font-weight: bold;display: inline-block;line-height: 1.2em;}#sk-container-id-7 div.sk-label-container {text-align: center;}#sk-container-id-7 div.sk-container {/* jupyter's `normalize.less` sets `[hidden] { display: none; }` but bootstrap.min.css set `[hidden] { display: none !important; }` so we also need the `!important` here to be able to override the default hidden behavior on the sphinx rendered scikit-learn.org. See: https://github.com/scikit-learn/scikit-learn/issues/21755 */display: inline-block !important;position: relative;}#sk-container-id-7 div.sk-text-repr-fallback {display: none;}</style><div id=\"sk-container-id-7\" class=\"sk-top-container\"><div class=\"sk-text-repr-fallback\"><pre>SVR()</pre><b>In a Jupyter environment, please rerun this cell to show the HTML representation or trust the notebook. <br />On GitHub, the HTML representation is unable to render, please try loading this page with nbviewer.org.</b></div><div class=\"sk-container\" hidden><div class=\"sk-item\"><div class=\"sk-estimator sk-toggleable\"><input class=\"sk-toggleable__control sk-hidden--visually\" id=\"sk-estimator-id-7\" type=\"checkbox\" checked><label for=\"sk-estimator-id-7\" class=\"sk-toggleable__label sk-toggleable__label-arrow\">SVR</label><div class=\"sk-toggleable__content\"><pre>SVR()</pre></div></div></div></div></div>"
      ],
      "text/plain": [
       "SVR()"
      ]
     },
     "execution_count": 67,
     "metadata": {},
     "output_type": "execute_result"
    }
   ],
   "source": [
    "model.fit(X_train_p, y_train)"
   ]
  },
  {
   "attachments": {},
   "cell_type": "markdown",
   "metadata": {},
   "source": [
    "##### Predict thevalue"
   ]
  },
  {
   "cell_type": "code",
   "execution_count": 68,
   "metadata": {},
   "outputs": [],
   "source": [
    "y_pred =model.predict(X_test_p)"
   ]
  },
  {
   "attachments": {},
   "cell_type": "markdown",
   "metadata": {},
   "source": [
    "##### Accuracy"
   ]
  },
  {
   "cell_type": "code",
   "execution_count": 69,
   "metadata": {},
   "outputs": [
    {
     "name": "stdout",
     "output_type": "stream",
     "text": [
      "-6.1\n"
     ]
    }
   ],
   "source": [
    "accuracy = r2_score(y_test, y_pred)*100\n",
    "print(round(accuracy, 2))"
   ]
  },
  {
   "attachments": {},
   "cell_type": "markdown",
   "metadata": {},
   "source": [
    "### Method 7: Random Forest Regression"
   ]
  },
  {
   "attachments": {},
   "cell_type": "markdown",
   "metadata": {},
   "source": [
    "##### Define Model"
   ]
  },
  {
   "cell_type": "code",
   "execution_count": 70,
   "metadata": {},
   "outputs": [],
   "source": [
    "model = RandomForestRegressor()"
   ]
  },
  {
   "attachments": {},
   "cell_type": "markdown",
   "metadata": {},
   "source": [
    "##### Fit the train data"
   ]
  },
  {
   "cell_type": "code",
   "execution_count": 71,
   "metadata": {},
   "outputs": [
    {
     "data": {
      "text/html": [
       "<style>#sk-container-id-8 {color: black;background-color: white;}#sk-container-id-8 pre{padding: 0;}#sk-container-id-8 div.sk-toggleable {background-color: white;}#sk-container-id-8 label.sk-toggleable__label {cursor: pointer;display: block;width: 100%;margin-bottom: 0;padding: 0.3em;box-sizing: border-box;text-align: center;}#sk-container-id-8 label.sk-toggleable__label-arrow:before {content: \"▸\";float: left;margin-right: 0.25em;color: #696969;}#sk-container-id-8 label.sk-toggleable__label-arrow:hover:before {color: black;}#sk-container-id-8 div.sk-estimator:hover label.sk-toggleable__label-arrow:before {color: black;}#sk-container-id-8 div.sk-toggleable__content {max-height: 0;max-width: 0;overflow: hidden;text-align: left;background-color: #f0f8ff;}#sk-container-id-8 div.sk-toggleable__content pre {margin: 0.2em;color: black;border-radius: 0.25em;background-color: #f0f8ff;}#sk-container-id-8 input.sk-toggleable__control:checked~div.sk-toggleable__content {max-height: 200px;max-width: 100%;overflow: auto;}#sk-container-id-8 input.sk-toggleable__control:checked~label.sk-toggleable__label-arrow:before {content: \"▾\";}#sk-container-id-8 div.sk-estimator input.sk-toggleable__control:checked~label.sk-toggleable__label {background-color: #d4ebff;}#sk-container-id-8 div.sk-label input.sk-toggleable__control:checked~label.sk-toggleable__label {background-color: #d4ebff;}#sk-container-id-8 input.sk-hidden--visually {border: 0;clip: rect(1px 1px 1px 1px);clip: rect(1px, 1px, 1px, 1px);height: 1px;margin: -1px;overflow: hidden;padding: 0;position: absolute;width: 1px;}#sk-container-id-8 div.sk-estimator {font-family: monospace;background-color: #f0f8ff;border: 1px dotted black;border-radius: 0.25em;box-sizing: border-box;margin-bottom: 0.5em;}#sk-container-id-8 div.sk-estimator:hover {background-color: #d4ebff;}#sk-container-id-8 div.sk-parallel-item::after {content: \"\";width: 100%;border-bottom: 1px solid gray;flex-grow: 1;}#sk-container-id-8 div.sk-label:hover label.sk-toggleable__label {background-color: #d4ebff;}#sk-container-id-8 div.sk-serial::before {content: \"\";position: absolute;border-left: 1px solid gray;box-sizing: border-box;top: 0;bottom: 0;left: 50%;z-index: 0;}#sk-container-id-8 div.sk-serial {display: flex;flex-direction: column;align-items: center;background-color: white;padding-right: 0.2em;padding-left: 0.2em;position: relative;}#sk-container-id-8 div.sk-item {position: relative;z-index: 1;}#sk-container-id-8 div.sk-parallel {display: flex;align-items: stretch;justify-content: center;background-color: white;position: relative;}#sk-container-id-8 div.sk-item::before, #sk-container-id-8 div.sk-parallel-item::before {content: \"\";position: absolute;border-left: 1px solid gray;box-sizing: border-box;top: 0;bottom: 0;left: 50%;z-index: -1;}#sk-container-id-8 div.sk-parallel-item {display: flex;flex-direction: column;z-index: 1;position: relative;background-color: white;}#sk-container-id-8 div.sk-parallel-item:first-child::after {align-self: flex-end;width: 50%;}#sk-container-id-8 div.sk-parallel-item:last-child::after {align-self: flex-start;width: 50%;}#sk-container-id-8 div.sk-parallel-item:only-child::after {width: 0;}#sk-container-id-8 div.sk-dashed-wrapped {border: 1px dashed gray;margin: 0 0.4em 0.5em 0.4em;box-sizing: border-box;padding-bottom: 0.4em;background-color: white;}#sk-container-id-8 div.sk-label label {font-family: monospace;font-weight: bold;display: inline-block;line-height: 1.2em;}#sk-container-id-8 div.sk-label-container {text-align: center;}#sk-container-id-8 div.sk-container {/* jupyter's `normalize.less` sets `[hidden] { display: none; }` but bootstrap.min.css set `[hidden] { display: none !important; }` so we also need the `!important` here to be able to override the default hidden behavior on the sphinx rendered scikit-learn.org. See: https://github.com/scikit-learn/scikit-learn/issues/21755 */display: inline-block !important;position: relative;}#sk-container-id-8 div.sk-text-repr-fallback {display: none;}</style><div id=\"sk-container-id-8\" class=\"sk-top-container\"><div class=\"sk-text-repr-fallback\"><pre>RandomForestRegressor()</pre><b>In a Jupyter environment, please rerun this cell to show the HTML representation or trust the notebook. <br />On GitHub, the HTML representation is unable to render, please try loading this page with nbviewer.org.</b></div><div class=\"sk-container\" hidden><div class=\"sk-item\"><div class=\"sk-estimator sk-toggleable\"><input class=\"sk-toggleable__control sk-hidden--visually\" id=\"sk-estimator-id-8\" type=\"checkbox\" checked><label for=\"sk-estimator-id-8\" class=\"sk-toggleable__label sk-toggleable__label-arrow\">RandomForestRegressor</label><div class=\"sk-toggleable__content\"><pre>RandomForestRegressor()</pre></div></div></div></div></div>"
      ],
      "text/plain": [
       "RandomForestRegressor()"
      ]
     },
     "execution_count": 71,
     "metadata": {},
     "output_type": "execute_result"
    }
   ],
   "source": [
    "model.fit(X_train_p, y_train)"
   ]
  },
  {
   "attachments": {},
   "cell_type": "markdown",
   "metadata": {},
   "source": [
    "##### Predict the values"
   ]
  },
  {
   "cell_type": "code",
   "execution_count": 72,
   "metadata": {},
   "outputs": [],
   "source": [
    "y_pred = model.predict(X_test_p)"
   ]
  },
  {
   "attachments": {},
   "cell_type": "markdown",
   "metadata": {},
   "source": [
    "##### Accuracy"
   ]
  },
  {
   "cell_type": "code",
   "execution_count": 73,
   "metadata": {},
   "outputs": [
    {
     "name": "stdout",
     "output_type": "stream",
     "text": [
      "86.85\n"
     ]
    }
   ],
   "source": [
    "accuracy = r2_score(y_test, y_pred)*100\n",
    "print(round(accuracy, 2))"
   ]
  },
  {
   "attachments": {},
   "cell_type": "markdown",
   "metadata": {},
   "source": [
    "### Method 8 : Decision Tree Regression"
   ]
  },
  {
   "attachments": {},
   "cell_type": "markdown",
   "metadata": {},
   "source": [
    "##### Define Model"
   ]
  },
  {
   "cell_type": "code",
   "execution_count": 74,
   "metadata": {},
   "outputs": [],
   "source": [
    "model = DecisionTreeRegressor()"
   ]
  },
  {
   "attachments": {},
   "cell_type": "markdown",
   "metadata": {},
   "source": [
    "##### Fit the train data"
   ]
  },
  {
   "cell_type": "code",
   "execution_count": 75,
   "metadata": {},
   "outputs": [
    {
     "data": {
      "text/html": [
       "<style>#sk-container-id-9 {color: black;background-color: white;}#sk-container-id-9 pre{padding: 0;}#sk-container-id-9 div.sk-toggleable {background-color: white;}#sk-container-id-9 label.sk-toggleable__label {cursor: pointer;display: block;width: 100%;margin-bottom: 0;padding: 0.3em;box-sizing: border-box;text-align: center;}#sk-container-id-9 label.sk-toggleable__label-arrow:before {content: \"▸\";float: left;margin-right: 0.25em;color: #696969;}#sk-container-id-9 label.sk-toggleable__label-arrow:hover:before {color: black;}#sk-container-id-9 div.sk-estimator:hover label.sk-toggleable__label-arrow:before {color: black;}#sk-container-id-9 div.sk-toggleable__content {max-height: 0;max-width: 0;overflow: hidden;text-align: left;background-color: #f0f8ff;}#sk-container-id-9 div.sk-toggleable__content pre {margin: 0.2em;color: black;border-radius: 0.25em;background-color: #f0f8ff;}#sk-container-id-9 input.sk-toggleable__control:checked~div.sk-toggleable__content {max-height: 200px;max-width: 100%;overflow: auto;}#sk-container-id-9 input.sk-toggleable__control:checked~label.sk-toggleable__label-arrow:before {content: \"▾\";}#sk-container-id-9 div.sk-estimator input.sk-toggleable__control:checked~label.sk-toggleable__label {background-color: #d4ebff;}#sk-container-id-9 div.sk-label input.sk-toggleable__control:checked~label.sk-toggleable__label {background-color: #d4ebff;}#sk-container-id-9 input.sk-hidden--visually {border: 0;clip: rect(1px 1px 1px 1px);clip: rect(1px, 1px, 1px, 1px);height: 1px;margin: -1px;overflow: hidden;padding: 0;position: absolute;width: 1px;}#sk-container-id-9 div.sk-estimator {font-family: monospace;background-color: #f0f8ff;border: 1px dotted black;border-radius: 0.25em;box-sizing: border-box;margin-bottom: 0.5em;}#sk-container-id-9 div.sk-estimator:hover {background-color: #d4ebff;}#sk-container-id-9 div.sk-parallel-item::after {content: \"\";width: 100%;border-bottom: 1px solid gray;flex-grow: 1;}#sk-container-id-9 div.sk-label:hover label.sk-toggleable__label {background-color: #d4ebff;}#sk-container-id-9 div.sk-serial::before {content: \"\";position: absolute;border-left: 1px solid gray;box-sizing: border-box;top: 0;bottom: 0;left: 50%;z-index: 0;}#sk-container-id-9 div.sk-serial {display: flex;flex-direction: column;align-items: center;background-color: white;padding-right: 0.2em;padding-left: 0.2em;position: relative;}#sk-container-id-9 div.sk-item {position: relative;z-index: 1;}#sk-container-id-9 div.sk-parallel {display: flex;align-items: stretch;justify-content: center;background-color: white;position: relative;}#sk-container-id-9 div.sk-item::before, #sk-container-id-9 div.sk-parallel-item::before {content: \"\";position: absolute;border-left: 1px solid gray;box-sizing: border-box;top: 0;bottom: 0;left: 50%;z-index: -1;}#sk-container-id-9 div.sk-parallel-item {display: flex;flex-direction: column;z-index: 1;position: relative;background-color: white;}#sk-container-id-9 div.sk-parallel-item:first-child::after {align-self: flex-end;width: 50%;}#sk-container-id-9 div.sk-parallel-item:last-child::after {align-self: flex-start;width: 50%;}#sk-container-id-9 div.sk-parallel-item:only-child::after {width: 0;}#sk-container-id-9 div.sk-dashed-wrapped {border: 1px dashed gray;margin: 0 0.4em 0.5em 0.4em;box-sizing: border-box;padding-bottom: 0.4em;background-color: white;}#sk-container-id-9 div.sk-label label {font-family: monospace;font-weight: bold;display: inline-block;line-height: 1.2em;}#sk-container-id-9 div.sk-label-container {text-align: center;}#sk-container-id-9 div.sk-container {/* jupyter's `normalize.less` sets `[hidden] { display: none; }` but bootstrap.min.css set `[hidden] { display: none !important; }` so we also need the `!important` here to be able to override the default hidden behavior on the sphinx rendered scikit-learn.org. See: https://github.com/scikit-learn/scikit-learn/issues/21755 */display: inline-block !important;position: relative;}#sk-container-id-9 div.sk-text-repr-fallback {display: none;}</style><div id=\"sk-container-id-9\" class=\"sk-top-container\"><div class=\"sk-text-repr-fallback\"><pre>DecisionTreeRegressor()</pre><b>In a Jupyter environment, please rerun this cell to show the HTML representation or trust the notebook. <br />On GitHub, the HTML representation is unable to render, please try loading this page with nbviewer.org.</b></div><div class=\"sk-container\" hidden><div class=\"sk-item\"><div class=\"sk-estimator sk-toggleable\"><input class=\"sk-toggleable__control sk-hidden--visually\" id=\"sk-estimator-id-9\" type=\"checkbox\" checked><label for=\"sk-estimator-id-9\" class=\"sk-toggleable__label sk-toggleable__label-arrow\">DecisionTreeRegressor</label><div class=\"sk-toggleable__content\"><pre>DecisionTreeRegressor()</pre></div></div></div></div></div>"
      ],
      "text/plain": [
       "DecisionTreeRegressor()"
      ]
     },
     "execution_count": 75,
     "metadata": {},
     "output_type": "execute_result"
    }
   ],
   "source": [
    "model.fit(X_train_p, y_train)"
   ]
  },
  {
   "attachments": {},
   "cell_type": "markdown",
   "metadata": {},
   "source": [
    "##### Predict the values"
   ]
  },
  {
   "cell_type": "code",
   "execution_count": 76,
   "metadata": {},
   "outputs": [],
   "source": [
    "y_pred = model.predict(X_test_p)"
   ]
  },
  {
   "attachments": {},
   "cell_type": "markdown",
   "metadata": {},
   "source": [
    "##### Accuracy"
   ]
  },
  {
   "cell_type": "code",
   "execution_count": 77,
   "metadata": {},
   "outputs": [
    {
     "name": "stdout",
     "output_type": "stream",
     "text": [
      "83.18\n"
     ]
    }
   ],
   "source": [
    "accuracy = r2_score(y_test, y_pred)*100\n",
    "print(round(accuracy,2))"
   ]
  },
  {
   "attachments": {},
   "cell_type": "markdown",
   "metadata": {},
   "source": [
    "### Method 9: Bagging Regression "
   ]
  },
  {
   "attachments": {},
   "cell_type": "markdown",
   "metadata": {},
   "source": [
    "##### Define Model"
   ]
  },
  {
   "cell_type": "code",
   "execution_count": 78,
   "metadata": {},
   "outputs": [],
   "source": [
    "model = BaggingRegressor()"
   ]
  },
  {
   "attachments": {},
   "cell_type": "markdown",
   "metadata": {},
   "source": [
    "##### Fit the train data"
   ]
  },
  {
   "cell_type": "code",
   "execution_count": 79,
   "metadata": {},
   "outputs": [
    {
     "data": {
      "text/html": [
       "<style>#sk-container-id-10 {color: black;background-color: white;}#sk-container-id-10 pre{padding: 0;}#sk-container-id-10 div.sk-toggleable {background-color: white;}#sk-container-id-10 label.sk-toggleable__label {cursor: pointer;display: block;width: 100%;margin-bottom: 0;padding: 0.3em;box-sizing: border-box;text-align: center;}#sk-container-id-10 label.sk-toggleable__label-arrow:before {content: \"▸\";float: left;margin-right: 0.25em;color: #696969;}#sk-container-id-10 label.sk-toggleable__label-arrow:hover:before {color: black;}#sk-container-id-10 div.sk-estimator:hover label.sk-toggleable__label-arrow:before {color: black;}#sk-container-id-10 div.sk-toggleable__content {max-height: 0;max-width: 0;overflow: hidden;text-align: left;background-color: #f0f8ff;}#sk-container-id-10 div.sk-toggleable__content pre {margin: 0.2em;color: black;border-radius: 0.25em;background-color: #f0f8ff;}#sk-container-id-10 input.sk-toggleable__control:checked~div.sk-toggleable__content {max-height: 200px;max-width: 100%;overflow: auto;}#sk-container-id-10 input.sk-toggleable__control:checked~label.sk-toggleable__label-arrow:before {content: \"▾\";}#sk-container-id-10 div.sk-estimator input.sk-toggleable__control:checked~label.sk-toggleable__label {background-color: #d4ebff;}#sk-container-id-10 div.sk-label input.sk-toggleable__control:checked~label.sk-toggleable__label {background-color: #d4ebff;}#sk-container-id-10 input.sk-hidden--visually {border: 0;clip: rect(1px 1px 1px 1px);clip: rect(1px, 1px, 1px, 1px);height: 1px;margin: -1px;overflow: hidden;padding: 0;position: absolute;width: 1px;}#sk-container-id-10 div.sk-estimator {font-family: monospace;background-color: #f0f8ff;border: 1px dotted black;border-radius: 0.25em;box-sizing: border-box;margin-bottom: 0.5em;}#sk-container-id-10 div.sk-estimator:hover {background-color: #d4ebff;}#sk-container-id-10 div.sk-parallel-item::after {content: \"\";width: 100%;border-bottom: 1px solid gray;flex-grow: 1;}#sk-container-id-10 div.sk-label:hover label.sk-toggleable__label {background-color: #d4ebff;}#sk-container-id-10 div.sk-serial::before {content: \"\";position: absolute;border-left: 1px solid gray;box-sizing: border-box;top: 0;bottom: 0;left: 50%;z-index: 0;}#sk-container-id-10 div.sk-serial {display: flex;flex-direction: column;align-items: center;background-color: white;padding-right: 0.2em;padding-left: 0.2em;position: relative;}#sk-container-id-10 div.sk-item {position: relative;z-index: 1;}#sk-container-id-10 div.sk-parallel {display: flex;align-items: stretch;justify-content: center;background-color: white;position: relative;}#sk-container-id-10 div.sk-item::before, #sk-container-id-10 div.sk-parallel-item::before {content: \"\";position: absolute;border-left: 1px solid gray;box-sizing: border-box;top: 0;bottom: 0;left: 50%;z-index: -1;}#sk-container-id-10 div.sk-parallel-item {display: flex;flex-direction: column;z-index: 1;position: relative;background-color: white;}#sk-container-id-10 div.sk-parallel-item:first-child::after {align-self: flex-end;width: 50%;}#sk-container-id-10 div.sk-parallel-item:last-child::after {align-self: flex-start;width: 50%;}#sk-container-id-10 div.sk-parallel-item:only-child::after {width: 0;}#sk-container-id-10 div.sk-dashed-wrapped {border: 1px dashed gray;margin: 0 0.4em 0.5em 0.4em;box-sizing: border-box;padding-bottom: 0.4em;background-color: white;}#sk-container-id-10 div.sk-label label {font-family: monospace;font-weight: bold;display: inline-block;line-height: 1.2em;}#sk-container-id-10 div.sk-label-container {text-align: center;}#sk-container-id-10 div.sk-container {/* jupyter's `normalize.less` sets `[hidden] { display: none; }` but bootstrap.min.css set `[hidden] { display: none !important; }` so we also need the `!important` here to be able to override the default hidden behavior on the sphinx rendered scikit-learn.org. See: https://github.com/scikit-learn/scikit-learn/issues/21755 */display: inline-block !important;position: relative;}#sk-container-id-10 div.sk-text-repr-fallback {display: none;}</style><div id=\"sk-container-id-10\" class=\"sk-top-container\"><div class=\"sk-text-repr-fallback\"><pre>BaggingRegressor()</pre><b>In a Jupyter environment, please rerun this cell to show the HTML representation or trust the notebook. <br />On GitHub, the HTML representation is unable to render, please try loading this page with nbviewer.org.</b></div><div class=\"sk-container\" hidden><div class=\"sk-item\"><div class=\"sk-estimator sk-toggleable\"><input class=\"sk-toggleable__control sk-hidden--visually\" id=\"sk-estimator-id-10\" type=\"checkbox\" checked><label for=\"sk-estimator-id-10\" class=\"sk-toggleable__label sk-toggleable__label-arrow\">BaggingRegressor</label><div class=\"sk-toggleable__content\"><pre>BaggingRegressor()</pre></div></div></div></div></div>"
      ],
      "text/plain": [
       "BaggingRegressor()"
      ]
     },
     "execution_count": 79,
     "metadata": {},
     "output_type": "execute_result"
    }
   ],
   "source": [
    "model.fit(X_train_p, y_train)"
   ]
  },
  {
   "attachments": {},
   "cell_type": "markdown",
   "metadata": {},
   "source": [
    "##### Predict the values"
   ]
  },
  {
   "cell_type": "code",
   "execution_count": 80,
   "metadata": {},
   "outputs": [],
   "source": [
    "y_pred = model.predict(X_test_p)"
   ]
  },
  {
   "attachments": {},
   "cell_type": "markdown",
   "metadata": {},
   "source": [
    "##### Accuracy"
   ]
  },
  {
   "cell_type": "code",
   "execution_count": 81,
   "metadata": {},
   "outputs": [
    {
     "name": "stdout",
     "output_type": "stream",
     "text": [
      "86.46\n"
     ]
    }
   ],
   "source": [
    "accuracy = r2_score(y_test, y_pred)*100\n",
    "print(round(accuracy, 2))"
   ]
  },
  {
   "attachments": {},
   "cell_type": "markdown",
   "metadata": {},
   "source": [
    "### Deployment of most accurate model"
   ]
  },
  {
   "attachments": {},
   "cell_type": "markdown",
   "metadata": {},
   "source": [
    "##### Step 1: Save the model"
   ]
  },
  {
   "attachments": {},
   "cell_type": "markdown",
   "metadata": {},
   "source": [
    "##### Define the most accurate model"
   ]
  },
  {
   "cell_type": "code",
   "execution_count": 82,
   "metadata": {},
   "outputs": [],
   "source": [
    "model = RandomForestRegressor()\n",
    "model.fit(X_train_p, y_train)\n",
    "\n",
    "filename = \"SecondCar_Most_Acc_Reg_Model.sav\"\n",
    "pickle.dump(model, open(file = filename, mode = \"wb\"))\n"
   ]
  },
  {
   "attachments": {},
   "cell_type": "markdown",
   "metadata": {},
   "source": [
    "##### Step 2 : Use the Saved Model"
   ]
  },
  {
   "cell_type": "code",
   "execution_count": 83,
   "metadata": {},
   "outputs": [
    {
     "data": {
      "text/plain": [
       "array([550529.99])"
      ]
     },
     "execution_count": 83,
     "metadata": {},
     "output_type": "execute_result"
    }
   ],
   "source": [
    "model_load = pickle.load(open(file = filename, mode = \"rb\"))\n",
    "y_pred = model_load.predict(X_test_p[15:16, ])      ## write a data preprocess\n",
    "y_pred"
   ]
  },
  {
   "cell_type": "code",
   "execution_count": 84,
   "metadata": {},
   "outputs": [
    {
     "data": {
      "text/html": [
       "<div>\n",
       "<style scoped>\n",
       "    .dataframe tbody tr th:only-of-type {\n",
       "        vertical-align: middle;\n",
       "    }\n",
       "\n",
       "    .dataframe tbody tr th {\n",
       "        vertical-align: top;\n",
       "    }\n",
       "\n",
       "    .dataframe thead th {\n",
       "        text-align: right;\n",
       "    }\n",
       "</style>\n",
       "<table border=\"1\" class=\"dataframe\">\n",
       "  <thead>\n",
       "    <tr style=\"text-align: right;\">\n",
       "      <th></th>\n",
       "      <th>year</th>\n",
       "      <th>km_driven</th>\n",
       "      <th>fuel</th>\n",
       "      <th>seller_type</th>\n",
       "      <th>transmission</th>\n",
       "      <th>owner</th>\n",
       "      <th>Rating</th>\n",
       "      <th>company_name</th>\n",
       "      <th>km_range</th>\n",
       "      <th>year_range</th>\n",
       "      <th>ex_range</th>\n",
       "    </tr>\n",
       "  </thead>\n",
       "  <tbody>\n",
       "    <tr>\n",
       "      <th>2736</th>\n",
       "      <td>0.998515</td>\n",
       "      <td>0.148773</td>\n",
       "      <td>0.25</td>\n",
       "      <td>0.5</td>\n",
       "      <td>1.0</td>\n",
       "      <td>0.0</td>\n",
       "      <td>0.6</td>\n",
       "      <td>0.607143</td>\n",
       "      <td>0.0</td>\n",
       "      <td>0.333333</td>\n",
       "      <td>0.333333</td>\n",
       "    </tr>\n",
       "  </tbody>\n",
       "</table>\n",
       "</div>"
      ],
      "text/plain": [
       "          year  km_driven  fuel  seller_type  transmission  owner  Rating  \\\n",
       "2736  0.998515   0.148773  0.25          0.5           1.0    0.0     0.6   \n",
       "\n",
       "      company_name  km_range  year_range  ex_range  \n",
       "2736      0.607143       0.0    0.333333  0.333333  "
      ]
     },
     "execution_count": 84,
     "metadata": {},
     "output_type": "execute_result"
    }
   ],
   "source": [
    "X_test.iloc[15:16, ]"
   ]
  },
  {
   "cell_type": "code",
   "execution_count": 85,
   "metadata": {},
   "outputs": [
    {
     "data": {
      "text/plain": [
       "year               2017.0\n",
       "km_driven        120000.0\n",
       "fuel                  1.0\n",
       "seller_type           1.0\n",
       "transmission          1.0\n",
       "owner                 0.0\n",
       "Rating                9.0\n",
       "selling_price    628000.0\n",
       "company_name         17.0\n",
       "km_range              0.0\n",
       "year_range            1.0\n",
       "ex_range              1.0\n",
       "Name: 2736, dtype: float64"
      ]
     },
     "execution_count": 85,
     "metadata": {},
     "output_type": "execute_result"
    }
   ],
   "source": [
    "data.iloc[2736]"
   ]
  }
 ],
 "metadata": {
  "kernelspec": {
   "display_name": "Python 3",
   "language": "python",
   "name": "python3"
  },
  "language_info": {
   "codemirror_mode": {
    "name": "ipython",
    "version": 3
   },
   "file_extension": ".py",
   "mimetype": "text/x-python",
   "name": "python",
   "nbconvert_exporter": "python",
   "pygments_lexer": "ipython3",
   "version": "3.10.4"
  },
  "orig_nbformat": 4,
  "vscode": {
   "interpreter": {
    "hash": "3ad933181bd8a04b432d3370b9dc3b0662ad032c4dfaa4e4f1596c548f763858"
   }
  }
 },
 "nbformat": 4,
 "nbformat_minor": 2
}
